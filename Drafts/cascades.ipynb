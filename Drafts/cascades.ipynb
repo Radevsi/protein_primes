{
 "cells": [
  {
   "cell_type": "markdown",
   "metadata": {},
   "source": [
    "# Cascades (both edges and scores)\n",
    "\n",
    "For edges, we will try to add cascading edges across all levels, as there is a many-to-one relationship from lower levels to upper levels."
   ]
  },
  {
   "cell_type": "code",
   "execution_count": null,
   "metadata": {},
   "outputs": [],
   "source": [
    "%load_ext autoreload\n",
    "%autoreload 2\n",
    "\n",
    "import os \n",
    "# os.environ[\"CUDA_DEVICE_ORDER\"] = \"PCI_BUS_ID\" \n",
    "# os.environ[\"CUDA_VISIBLE_DEVICES\"] = '0'\n",
    "\n",
    "# os.environ[\"XLA_PYTHON_CLIENT_PREALLOCATE\"] = \"false\"\n",
    "# os.environ[\"XLA_PYTHON_CLIENT_ALLOCATOR\"] = \"platform\"\n",
    "# os.environ[\"KHEIRON_REGISTRY_PATH\"] = '/mas/projects/molecularmachines/experiments/generative/allanc3/'"
   ]
  },
  {
   "cell_type": "code",
   "execution_count": null,
   "metadata": {},
   "outputs": [],
   "source": [
    "import sys\n",
    "module_path1 = os.path.abspath(os.path.join('../..'))\n",
    "module_path2 = os.path.abspath(os.path.join('..'))\n",
    "if module_path1 not in sys.path:\n",
    "    sys.path.append(module_path1)\n",
    "if module_path2 not in sys.path:\n",
    "    sys.path.append(module_path2)\n",
    "\n",
    "import numpy as np\n",
    "import pandas as pd\n",
    "import jax\n",
    "import jax.numpy as jnp\n",
    "import math\n",
    "\n",
    "from typing import List, Dict, Tuple, Union \n",
    "from tqdm import tqdm\n",
    "import pickle\n",
    "\n",
    "import matplotlib.pyplot as plt\n",
    "import plotly.graph_objects as go\n",
    "from plotly.subplots import make_subplots\n",
    "\n",
    "from moleculib.protein.datum import ProteinDatum\n",
    "from moleculib.graphics.py3Dmol import plot_py3dmol, plot_py3dmol_grid\n",
    "from moleculib.protein.alphabet import all_residues\n",
    "\n",
    "# Metrics computation\n",
    "from sklearn.metrics import pairwise_distances\n",
    "from sklearn.metrics.pairwise import euclidean_distances\n",
    "from scipy.spatial.distance import cdist, pdist, euclidean, cosine\n",
    "from sklearn.neighbors import radius_neighbors_graph, sort_graph_by_row_values\n",
    "from scipy.sparse import csr_matrix\n",
    "\n",
    "from Bio import Align\n",
    "from einops import rearrange\n",
    "\n",
    "from helpers_new import populate_representations, get_column, get_scalars, whatis\n"
   ]
  },
  {
   "cell_type": "code",
   "execution_count": null,
   "metadata": {},
   "outputs": [],
   "source": [
    "FOLDER_PREAMBLE = \"../scripts/\"\n",
    "FOLDER = FOLDER_PREAMBLE + \"denim-energy-1008-embeddings\"\n",
    "FOLDER_SMALL_FILES = FOLDER_PREAMBLE + \"test-save\"\n",
    "embeddings_file = \"encoded_dataset.pkl\"\n",
    "sliced_proteins_file = \"sliced_dataset.pkl\"\n",
    "\n",
    "# Open both and store\n",
    "with open(f\"{FOLDER}/{embeddings_file}\", \"rb\") as f:\n",
    "    encoded_dataset = pickle.load(f)\n",
    "with open(f\"{FOLDER}/{sliced_proteins_file}\", \"rb\") as f:\n",
    "    sliced_dataset = pickle.load(f)\n",
    "\n",
    "# Load the small folder's files\n",
    "with open(f\"{FOLDER_SMALL_FILES}/{embeddings_file}\", \"rb\") as f:\n",
    "    encoded_dataset_small = pickle.load(f)\n",
    "with open(f\"{FOLDER_SMALL_FILES}/{sliced_proteins_file}\", \"rb\") as f:\n",
    "    sliced_dataset_small = pickle.load(f)"
   ]
  },
  {
   "cell_type": "markdown",
   "metadata": {},
   "source": [
    "#### Load the small files"
   ]
  },
  {
   "cell_type": "code",
   "execution_count": null,
   "metadata": {},
   "outputs": [],
   "source": [
    "reps_small, mismatches = populate_representations(encoded_dataset_small, sliced_dataset_small)\n",
    "df_small = reps_small.to_dataframe()\n",
    "print(df_small.shape)\n",
    "df_small.head()\n"
   ]
  },
  {
   "cell_type": "code",
   "execution_count": 157,
   "metadata": {},
   "outputs": [
    {
     "ename": "NameError",
     "evalue": "name 'Sequence' is not defined",
     "output_type": "error",
     "traceback": [
      "\u001b[0;31m---------------------------------------------------------------------------\u001b[0m",
      "\u001b[0;31mNameError\u001b[0m                                 Traceback (most recent call last)",
      "Cell \u001b[0;32mIn[157], line 3\u001b[0m\n\u001b[1;32m      1\u001b[0m pdb_str \u001b[38;5;241m=\u001b[39m df_small[\u001b[38;5;124m'\u001b[39m\u001b[38;5;124mdatum\u001b[39m\u001b[38;5;124m'\u001b[39m]\u001b[38;5;241m.\u001b[39mvalues\u001b[38;5;241m.\u001b[39mtolist()[\u001b[38;5;241m0\u001b[39m]\u001b[38;5;241m.\u001b[39mto_pdb_str()\n\u001b[1;32m      2\u001b[0m \u001b[38;5;28mlen\u001b[39m(pdb_str)\n\u001b[0;32m----> 3\u001b[0m \u001b[43mSequence\u001b[49m\n",
      "\u001b[0;31mNameError\u001b[0m: name 'Sequence' is not defined"
     ]
    }
   ],
   "source": [
    "pdb_str = df_small['datum'].values.tolist()[0].to_pdb_str()\n",
    "len(pdb_str)"
   ]
  },
  {
   "cell_type": "markdown",
   "metadata": {},
   "source": [
    "#### Load the full files"
   ]
  },
  {
   "cell_type": "code",
   "execution_count": null,
   "metadata": {},
   "outputs": [],
   "source": [
    "%%time\n",
    "reps, mismatches = populate_representations(encoded_dataset, sliced_dataset)\n",
    "df = reps.to_dataframe()\n",
    "print(df.shape)\n",
    "df.head()\n"
   ]
  },
  {
   "cell_type": "code",
   "execution_count": null,
   "metadata": {},
   "outputs": [],
   "source": [
    "# Count the \"None\" datums\n",
    "n_none_datums = df[df['datum'].isnull()].shape[0]\n",
    "print(f\"Number of None datums: {n_none_datums}\")\n",
    "\n",
    "# Slice into a partial DataFrame, getting roughly\n",
    "# 20% of each level\n",
    "df_sample = df.groupby(['pdb_id', 'level']).apply(lambda x: x.sample(frac=0.2)).reset_index(drop=True)\n",
    "print(df_sample.shape)\n",
    "df_sample.head()\n",
    "\n",
    "# Verify that the sample has about 20% of each level\n",
    "df_sample.groupby(['pdb_id', 'level']).size().reset_index(name='counts')"
   ]
  },
  {
   "cell_type": "code",
   "execution_count": null,
   "metadata": {},
   "outputs": [],
   "source": [
    "# Now save the df sample into an original DataFrame and make a new one\n",
    "# filtering out the None datums\n",
    "df_original = df_sample.copy()\n",
    "df_sample = df_original[~df_original['datum'].isnull()]\n",
    "print(df_sample.shape)\n",
    "df_sample.head()\n",
    "\n"
   ]
  },
  {
   "cell_type": "code",
   "execution_count": null,
   "metadata": {},
   "outputs": [],
   "source": [
    "df_copy = df_small.iloc[[10,11,13,14]].copy()\n",
    "df_copy.reset_index(drop=False, inplace=True)\n",
    "display(df_copy.head())\n",
    "row, col = df_small.iloc[[10, 12]]['pdb_id'].values\n",
    "row, col"
   ]
  },
  {
   "cell_type": "code",
   "execution_count": null,
   "metadata": {},
   "outputs": [],
   "source": [
    "display(df_copy)\n",
    "print(df_copy['index'].values)\n",
    "print(df_copy.index.values)\n",
    "df_small.iloc[df_copy['index']]"
   ]
  },
  {
   "cell_type": "markdown",
   "metadata": {},
   "source": [
    "### Plotting Functionality"
   ]
  },
  {
   "cell_type": "code",
   "execution_count": null,
   "metadata": {},
   "outputs": [],
   "source": [
    "# Plot protein datums via the primary key in the DataFrame\n",
    "\n",
    "class PlotProteinDatum:\n",
    "    def __init__(self, df):\n",
    "        self.df = df\n",
    "\n",
    "    def __call__(self, index: Union[int, List[int]], show_df: bool = True):\n",
    "        \"\"\"Plot the protein datum given a dataframe index or list of indices.\"\"\"\n",
    "        if isinstance(index, int):\n",
    "            index = [index]\n",
    "        datum = self.df.iloc[index]['datum'].values\n",
    "\n",
    "        # Show the df rows\n",
    "        if show_df:\n",
    "            display(self.df.iloc[index])\n",
    "        protein_plot = plot_py3dmol_grid([datum])\n",
    "        return protein_plot\n",
    "\n",
    "plot_protein_datum = PlotProteinDatum(df_small)\n",
    "plot_protein_datum([1,2])"
   ]
  },
  {
   "cell_type": "code",
   "execution_count": null,
   "metadata": {},
   "outputs": [],
   "source": [
    "import py3Dmol\n",
    "xyzview = py3Dmol.view(width=400,height=400)\n",
    "xyzview.addModel(xyz,'pdb')\n",
    "xyzview.setStyle({'stick':{}})\n",
    "xyzview.setBackgroundColor('0xeeeeee')\n",
    "xyzview.animate({'loop': 'backAndForth'})\n",
    "xyzview.zoomTo()\n",
    "xyzview.show()"
   ]
  },
  {
   "cell_type": "markdown",
   "metadata": {},
   "source": [
    "### Edges Code"
   ]
  },
  {
   "cell_type": "code",
   "execution_count": null,
   "metadata": {},
   "outputs": [],
   "source": [
    "\n",
    "kernel_size, stride = 5, 2\n",
    "def connect_edges(df, kernel_size, stride):\n",
    "\n",
    "    n_misses = 0\n",
    "    edges_top_down, edges_bottom_up = dict(), dict()\n",
    "    grouped_by_pdb = df.groupby('pdb_id')\n",
    "\n",
    "    # For each PDB...\n",
    "    for pdb_id, pdb_group in grouped_by_pdb:\n",
    "        unique_levels = sorted(pdb_group['level'].unique())\n",
    "\n",
    "        # For each hierarchy level in the autoencoder...\n",
    "        for level in unique_levels:\n",
    "            lower_level, upper_level = level, level + 1  \n",
    "            lower_level_group = pdb_group[pdb_group['level'] == lower_level].sort_values(by='level_idx')\n",
    "            upper_level_group = pdb_group[pdb_group['level'] == upper_level].sort_values(by='level_idx')\n",
    "            num_lower_level = len(lower_level_group)\n",
    "            for start in range(0, num_lower_level, stride):\n",
    "                end = start + kernel_size\n",
    "                lower_level_slice = lower_level_group.iloc[start:end]\n",
    "                # upper_level_node_index = start // stride\n",
    "                upper_level_node_index = start \n",
    "                if upper_level_node_index < len(upper_level_group):\n",
    "                    upper_level_node = upper_level_group.iloc[upper_level_node_index]\n",
    "\n",
    "                    # Key is pk of upper node, value is list of pks for all lower nodes\n",
    "                    edges_top_down[upper_level_node.name] = list(lower_level_slice.index)\n",
    "\n",
    "                    # Key is pk of lower node, value is pk of upper node\n",
    "                    edges_bottom_up.update(dict.fromkeys(lower_level_slice.index, upper_level_node.name))\n",
    "                else:\n",
    "                    n_misses += 1\n",
    "\n",
    "        # print(f\"Processed PDBid: {pdb_id}\")\n",
    "\n",
    "    return edges_top_down, edges_bottom_up, n_misses\n",
    "\n",
    "edges_top_down, edges_bottom_up, n_misses = connect_edges(df_small, kernel_size, stride)\n",
    "print(f\"Missed: {n_misses} edges\")\n",
    "whatis(edges_top_down, edges_bottom_up)\n",
    "\n"
   ]
  },
  {
   "cell_type": "code",
   "execution_count": 191,
   "metadata": {},
   "outputs": [
    {
     "name": "stdout",
     "output_type": "stream",
     "text": [
      "Stopped cascading at 263: no further parent found.\n",
      "[1, 138, 208, 244, 263]\n"
     ]
    }
   ],
   "source": [
    "class CascadingEdges:\n",
    "    def __init__(self, edges_bottom_up: Dict[int, int]):\n",
    "        \"\"\"Initialize the CascadingEdges with a mapping from child to parent.\n",
    "\n",
    "        Args:\n",
    "        edges_bottom_up (Dict[int, int]): Dictionary mapping from child index to parent index.\n",
    "        \"\"\"\n",
    "        self.edges_bottom_up = edges_bottom_up\n",
    "\n",
    "    def __call__(self, start_index: int, n_cascades: int = None, verbose=True):\n",
    "        \"\"\"Cascades the edges to the top level by following parent links.\n",
    "\n",
    "        Args:\n",
    "        start_index (int): The starting primary key from which to begin cascading upward.\n",
    "        n_cascades (int, optional): The number of cascades (levels to traverse upwards). If None, continues until a top is reached.\n",
    "\n",
    "        Returns:\n",
    "        List[int]: List of primary keys traversed, up to the top or for `n_cascades` steps.\n",
    "        \"\"\"\n",
    "        current_index = start_index\n",
    "        cascades = [current_index]\n",
    "\n",
    "        try:\n",
    "            if n_cascades is not None:\n",
    "                for _ in range(n_cascades):\n",
    "                    current_index = self.edges_bottom_up[start_index]\n",
    "                    cascades.append(current_index)\n",
    "            else:\n",
    "                while True:\n",
    "                    current_index = self.edges_bottom_up[current_index]\n",
    "                    cascades.append(current_index)\n",
    "        except KeyError:\n",
    "            if verbose:\n",
    "                print(f\"Stopped cascading at {current_index}: no further parent found.\")\n",
    "\n",
    "        return cascades\n",
    "\n",
    "# Example usage\n",
    "cascading_edges = CascadingEdges(edges_bottom_up)\n",
    "print(cascading_edges(1))\n"
   ]
  },
  {
   "cell_type": "markdown",
   "metadata": {},
   "source": [
    "### Distance Matrices"
   ]
  },
  {
   "cell_type": "code",
   "execution_count": 158,
   "metadata": {},
   "outputs": [],
   "source": [
    "from sklearn.neighbors import radius_neighbors_graph, sort_graph_by_row_values\n",
    "\n",
    "\n",
    "class ComputeDistanceMatrix:\n",
    "    \"\"\"Computes a Distance Matrix, given a dataframe database and a level of hierarchy.\n",
    "\n",
    "        Returns in csr matrix format.\n",
    "    \"\"\"\n",
    "    def __init__(self, df: pd.DataFrame):\n",
    "        \"\"\"Initialize the dataframe\"\"\"\n",
    "        self.df = df\n",
    "        self.df = self.df[self.df['datum'].notna()]\n",
    "        \n",
    "    def __call__(self, level: int, return_df=False):\n",
    "        \"\"\"Compute the distance matrix for a given hierarchy level. Note if the\n",
    "            given level has already been computed do not recompute: just return it.\n",
    "\n",
    "            Return both the distance matrix and the DataFrame at that level.\n",
    "        \"\"\"\n",
    "        level_df = self.df[(self.df['level'] == level)].reset_index(drop=False)\n",
    "        if level_df.empty:\n",
    "            raise ValueError(f\"No data found for level {level}\")\n",
    "        scalars = np.stack(level_df['scalar_rep'].values)\n",
    "        print(f\"Computing at level {level} with scalars shape: {scalars.shape}\")\n",
    "        distances = pairwise_distances(scalars, metric='cosine')\n",
    "        if return_df:\n",
    "            return csr_matrix(distances), level_df\n",
    "        return csr_matrix(distances)\n",
    "\n",
    "\n",
    "class RadiusNeighbors:\n",
    "    \"\"\"Class to build a similarity graph from DataFrame.\n",
    "\n",
    "        Returns in csr matrix format.\n",
    "    \"\"\"\n",
    "    def __init__(self, df: pd.DataFrame):\n",
    "        self.df = df\n",
    "\n",
    "        # Get the df where datum is not None\n",
    "        self.df = self.df[self.df['datum'].notna()]\n",
    "\n",
    "    def _get_scalars(self, **kwargs):\n",
    "        \"\"\"Return the scalar representations given a selection\"\"\"\n",
    "        # Shape here is (N,), but return shape (N, M)\n",
    "        sub_df = get_column(self.df, **kwargs)\n",
    "        scalar_representations = sub_df['scalar_rep']\n",
    "        return np.stack(scalar_representations), sub_df.reset_index(drop=False)\n",
    "\n",
    "    def get_radius_neighbors(self, radius, sorted=False, **kwargs):\n",
    "        \"\"\"Return the indices of the scalar representations that are within a certain radius\n",
    "            of each other.\n",
    "        \"\"\"\n",
    "\n",
    "        scalar_reps, sub_df = self._get_scalars(**kwargs)\n",
    "        # print(f\"Processing {len(scalar_reps)} scalar representations\")\n",
    "        print(f\"Shape of scalar reps: {scalar_reps.shape}\")\n",
    "        graph = radius_neighbors_graph(scalar_reps, radius, mode='distance', metric='cosine')\n",
    "        if sorted:\n",
    "            graph = sort_graph_by_row_values(graph, warn_when_not_sorted=False)\n",
    "        return graph, sub_df\n",
    "\n",
    "def sort_distance_graph(csr_matrix, start=0, end=None):\n",
    "    \"\"\"Takes a csr matrix and return a list of distance, (row, col) tuples\n",
    "        in sorted order (smallest distance to largest)\n",
    "        #ThankYouChatGPT4\n",
    "    \"\"\"\n",
    "    # Extract the non-zero indices and data from the CSR matrix\n",
    "    row_indices, col_indices = csr_matrix.nonzero()\n",
    "    data = csr_matrix.data\n",
    "\n",
    "    # Ensure each pair is unique by making row always the lesser index\n",
    "    # This step assumes an undirected graph (symmetric distances)\n",
    "    pairs = np.vstack([row_indices, col_indices]).T\n",
    "    # Order pairs such that the first element is always less than the second\n",
    "    ordered_pairs = np.sort(pairs, axis=1)\n",
    "    # Remove duplicates and sort by distance\n",
    "    unique_pairs, unique_indices = np.unique(ordered_pairs, axis=0, return_index=True)\n",
    "    if end is not None:\n",
    "        sorted_indices = unique_indices[np.argsort(data[unique_indices])[start:end]]\n",
    "    else:\n",
    "        sorted_indices = unique_indices[np.argsort(data[unique_indices])][start:]\n",
    "\n",
    "    # Create a list of tuples (distance, (row, col))\n",
    "    sorted_distances_with_indices = [(data[idx], (row_indices[idx], col_indices[idx]))\n",
    "                                     for idx in sorted_indices]\n",
    "    \n",
    "    return sorted_distances_with_indices"
   ]
  },
  {
   "cell_type": "code",
   "execution_count": 219,
   "metadata": {},
   "outputs": [
    {
     "name": "stdout",
     "output_type": "stream",
     "text": [
      "Computing at level 0 with scalars shape: (3037, 24)\n",
      "Computing at level 1 with scalars shape: (1540, 33)\n",
      "Computing at level 2 with scalars shape: (792, 46)\n",
      "Computing at level 3 with scalars shape: (417, 64)\n",
      "Computing at level 4 with scalars shape: (218, 89)\n",
      "Object 0: ({0: <3037x3037 sparse matrix of type '<class 'nump...) is a dictionary with length 5\n",
      "Object 1: ({0:       index pdb_id  level  level_idx  \\\n",
      "0     ...) is a dictionary with length 5\n"
     ]
    }
   ],
   "source": [
    "class GraphDistance(ComputeDistanceMatrix):\n",
    "    \"\"\"Compute and store distances for multiple levels of hierarchy.\"\"\"\n",
    "    def __init__(self, df: pd.DataFrame, edges_bottom_up: Dict[int, int], drop_na=True):\n",
    "        ComputeDistanceMatrix.__init__(self, df)\n",
    "        if drop_na: \n",
    "            self.df = self.df[self.df['datum'].notna()]\n",
    "        else:\n",
    "            self.df = df\n",
    "        self.edges_bottom_up = edges_bottom_up\n",
    "        self.cascading_edges = CascadingEdges(edges_bottom_up)\n",
    "        self.distance_matrices = dict()\n",
    "        self.level_dfs = dict()\n",
    "    \n",
    "    def compute_all_matrices(self):\n",
    "        \"\"\"Compute all distance matrices for all levels of hierarchy.\"\"\"\n",
    "        unique_levels = sorted(self.df['level'].unique())\n",
    "        for level in unique_levels:\n",
    "            self.distance_matrices[level], self.level_dfs[level] = self(level, return_df=True)\n",
    "\n",
    "    def cascade_scores(self, u_start: int, v_start: int, n_cascades: int = None):\n",
    "        \"\"\"Compute the cascading scores between two nodes.\"\"\"\n",
    "        # Verify that both indices are at the same level\n",
    "        u_level, v_level = self.df.loc[u_start, 'level'], self.df.loc[v_start, 'level']\n",
    "        assert u_level == v_level, f\"Indices are not at the same level, got: {u_level} and {v_level}\"\n",
    "        u_cascades = cascading_edges(u_start, n_cascades=n_cascades)\n",
    "        v_cascades = cascading_edges(v_start, n_cascades=n_cascades)\n",
    "\n",
    "        # If cascades are of different lengths, we need to truncate the longer one\n",
    "        if len(u_cascades) > len(v_cascades):\n",
    "            u_cascades = u_cascades[:len(v_cascades)]\n",
    "        elif len(v_cascades) > len(u_cascades):\n",
    "            v_cascades = v_cascades[:len(u_cascades)]\n",
    "\n",
    "        assert len(u_cascades) == len(v_cascades), f\"Cascades are not of same length, got: {len(u_cascades)} and {len(v_cascades)}\"\n",
    "\n",
    "        cascading_scores = []\n",
    "        cascading_us, cascading_vs = [], []\n",
    "        # for (u, v) in zip(u_cascades, v_cascades):\n",
    "        u, v = u_start, v_start\n",
    "        while True:\n",
    "\n",
    "            print(f\"Comparing {u} and {v}\")\n",
    "            cascading_us.append(u)\n",
    "            cascading_vs.append(v)\n",
    "            # Compute the distance matrix for the level\n",
    "            level = self.df.loc[u, 'level']\n",
    "            print(f\"Level {level}\")\n",
    "            distance_matrix = self.distance_matrices[level]\n",
    "\n",
    "            # We need to calculate the positional index of u and v in the \n",
    "            # distance matrix, so we map back to the sub-indexed dataframe\n",
    "            # for this particular level.\n",
    "            print(f\"Got distance matrix for level: {level}\")\n",
    "            u_idx_for_level = self.level_dfs[level]['index'] == u\n",
    "            v_idx_for_level = self.level_dfs[level]['index'] == v\n",
    "\n",
    "            distance = distance_matrix[u_idx_for_level, v_idx_for_level]\n",
    "            cascading_scores.append(distance)\n",
    "\n",
    "            # Move up the hierarchy\n",
    "            try:\n",
    "                u = self.edges_bottom_up[u]\n",
    "                v = self.edges_bottom_up[v]\n",
    "            except KeyError:\n",
    "                break\n",
    "\n",
    "        return cascading_scores\n",
    "\n",
    "\n",
    "graph_distance = GraphDistance(df_small, edges_bottom_up, drop_na=False)\n",
    "graph_distance.compute_all_matrices()\n",
    "whatis(graph_distance.distance_matrices, graph_distance.level_dfs)"
   ]
  },
  {
   "cell_type": "code",
   "execution_count": 222,
   "metadata": {},
   "outputs": [
    {
     "name": "stdout",
     "output_type": "stream",
     "text": [
      "Stopped cascading at 3574: no further parent found.\n",
      "Stopped cascading at 3572: no further parent found.\n",
      "Comparing 3495 and 3488\n",
      "Level 2\n",
      "Got distance matrix for level: 2\n",
      "Comparing 3549 and 3543\n",
      "Level 3\n",
      "Got distance matrix for level: 3\n",
      "Comparing 3574 and 3572\n",
      "Level 4\n",
      "Got distance matrix for level: 4\n"
     ]
    },
    {
     "data": {
      "text/plain": [
       "[matrix([[0.00445384]], dtype=float32),\n",
       " matrix([[0.00189805]], dtype=float32),\n",
       " matrix([[0.00706387]], dtype=float32)]"
      ]
     },
     "execution_count": 222,
     "metadata": {},
     "output_type": "execute_result"
    }
   ],
   "source": [
    "u_start, v_start = 3495, 3488\n",
    "graph_distance.cascade_scores(u_start, v_start)"
   ]
  },
  {
   "cell_type": "code",
   "execution_count": 216,
   "metadata": {},
   "outputs": [
    {
     "data": {
      "text/html": [
       "<div>\n",
       "<style scoped>\n",
       "    .dataframe tbody tr th:only-of-type {\n",
       "        vertical-align: middle;\n",
       "    }\n",
       "\n",
       "    .dataframe tbody tr th {\n",
       "        vertical-align: top;\n",
       "    }\n",
       "\n",
       "    .dataframe thead th {\n",
       "        text-align: right;\n",
       "    }\n",
       "</style>\n",
       "<table border=\"1\" class=\"dataframe\">\n",
       "  <thead>\n",
       "    <tr style=\"text-align: right;\">\n",
       "      <th></th>\n",
       "      <th>pdb_id</th>\n",
       "      <th>level</th>\n",
       "      <th>level_idx</th>\n",
       "      <th>scalar_rep</th>\n",
       "      <th>datum</th>\n",
       "      <th>pos</th>\n",
       "      <th>color</th>\n",
       "    </tr>\n",
       "  </thead>\n",
       "  <tbody>\n",
       "    <tr>\n",
       "      <th>3495</th>\n",
       "      <td>1eerB</td>\n",
       "      <td>2</td>\n",
       "      <td>17</td>\n",
       "      <td>[0.0039838655, -0.44516623, 0.9027521, -1.1999...</td>\n",
       "      <td>(((&lt;moleculib.protein.datum.ProteinDatum objec...</td>\n",
       "      <td>None</td>\n",
       "      <td>None</td>\n",
       "    </tr>\n",
       "    <tr>\n",
       "      <th>3488</th>\n",
       "      <td>1eerB</td>\n",
       "      <td>2</td>\n",
       "      <td>10</td>\n",
       "      <td>[0.21912476, -0.33986294, 0.9109548, -1.038847...</td>\n",
       "      <td>(((&lt;moleculib.protein.datum.ProteinDatum objec...</td>\n",
       "      <td>None</td>\n",
       "      <td>None</td>\n",
       "    </tr>\n",
       "  </tbody>\n",
       "</table>\n",
       "</div>"
      ],
      "text/plain": [
       "     pdb_id  level  level_idx  \\\n",
       "3495  1eerB      2         17   \n",
       "3488  1eerB      2         10   \n",
       "\n",
       "                                             scalar_rep  \\\n",
       "3495  [0.0039838655, -0.44516623, 0.9027521, -1.1999...   \n",
       "3488  [0.21912476, -0.33986294, 0.9109548, -1.038847...   \n",
       "\n",
       "                                                  datum   pos color  \n",
       "3495  (((<moleculib.protein.datum.ProteinDatum objec...  None  None  \n",
       "3488  (((<moleculib.protein.datum.ProteinDatum objec...  None  None  "
      ]
     },
     "metadata": {},
     "output_type": "display_data"
    },
    {
     "data": {
      "text/plain": [
       "0.00445388825510773"
      ]
     },
     "execution_count": 216,
     "metadata": {},
     "output_type": "execute_result"
    }
   ],
   "source": [
    "test_slice = df_small.loc[[u_start, v_start]]\n",
    "display(test_slice)\n",
    "vecs = test_slice['scalar_rep'].values.tolist()\n",
    "cosine(vecs[0], vecs[1])"
   ]
  },
  {
   "cell_type": "code",
   "execution_count": 171,
   "metadata": {},
   "outputs": [
    {
     "data": {
      "text/plain": [
       "[(2.7060509e-05, (155, 269)),\n",
       " (2.7060509e-05, (946, 1099)),\n",
       " (2.7060509e-05, (945, 1098)),\n",
       " (2.7060509e-05, (512, 1025)),\n",
       " (2.7060509e-05, (955, 961))]"
      ]
     },
     "execution_count": 171,
     "metadata": {},
     "output_type": "execute_result"
    }
   ],
   "source": [
    "lvl1_sorted = sort_distance_graph(graph_distance.distance_matrices[1], start=2000)\n",
    "lvl1_sorted[:5]"
   ]
  },
  {
   "cell_type": "code",
   "execution_count": 165,
   "metadata": {},
   "outputs": [
    {
     "name": "stdout",
     "output_type": "stream",
     "text": [
      "Shape of scalar reps: (384, 64)\n",
      "Computing at level 3 with scalars shape: (384, 64)\n",
      "Graph metric: 0.0005734562873840332\n",
      "Matrix metric: 0.0005734562873840332\n"
     ]
    },
    {
     "data": {
      "text/html": [
       "<div>\n",
       "<style scoped>\n",
       "    .dataframe tbody tr th:only-of-type {\n",
       "        vertical-align: middle;\n",
       "    }\n",
       "\n",
       "    .dataframe tbody tr th {\n",
       "        vertical-align: top;\n",
       "    }\n",
       "\n",
       "    .dataframe thead th {\n",
       "        text-align: right;\n",
       "    }\n",
       "</style>\n",
       "<table border=\"1\" class=\"dataframe\">\n",
       "  <thead>\n",
       "    <tr style=\"text-align: right;\">\n",
       "      <th></th>\n",
       "      <th>index</th>\n",
       "      <th>pdb_id</th>\n",
       "      <th>level</th>\n",
       "      <th>level_idx</th>\n",
       "      <th>scalar_rep</th>\n",
       "      <th>datum</th>\n",
       "      <th>pos</th>\n",
       "      <th>color</th>\n",
       "    </tr>\n",
       "  </thead>\n",
       "  <tbody>\n",
       "    <tr>\n",
       "      <th>148</th>\n",
       "      <td>2698</td>\n",
       "      <td>1d8dA</td>\n",
       "      <td>3</td>\n",
       "      <td>3</td>\n",
       "      <td>[-0.16150405, 0.32125413, -0.7088042, -0.23634...</td>\n",
       "      <td>(((&lt;moleculib.protein.datum.ProteinDatum objec...</td>\n",
       "      <td>None</td>\n",
       "      <td>None</td>\n",
       "    </tr>\n",
       "    <tr>\n",
       "      <th>347</th>\n",
       "      <td>5496</td>\n",
       "      <td>1bbpB</td>\n",
       "      <td>3</td>\n",
       "      <td>17</td>\n",
       "      <td>[-0.22799984, 0.29626125, -0.66253763, -0.2405...</td>\n",
       "      <td>(((&lt;moleculib.protein.datum.ProteinDatum objec...</td>\n",
       "      <td>None</td>\n",
       "      <td>None</td>\n",
       "    </tr>\n",
       "  </tbody>\n",
       "</table>\n",
       "</div>"
      ],
      "text/plain": [
       "     index pdb_id  level  level_idx  \\\n",
       "148   2698  1d8dA      3          3   \n",
       "347   5496  1bbpB      3         17   \n",
       "\n",
       "                                            scalar_rep  \\\n",
       "148  [-0.16150405, 0.32125413, -0.7088042, -0.23634...   \n",
       "347  [-0.22799984, 0.29626125, -0.66253763, -0.2405...   \n",
       "\n",
       "                                                 datum   pos color  \n",
       "148  (((<moleculib.protein.datum.ProteinDatum objec...  None  None  \n",
       "347  (((<moleculib.protein.datum.ProteinDatum objec...  None  None  "
      ]
     },
     "metadata": {},
     "output_type": "display_data"
    },
    {
     "name": "stdout",
     "output_type": "stream",
     "text": [
      "D <moleculib.protein.datum.ProteinDatum object at 0x7fcca8bc6710>\n",
      "D <moleculib.protein.datum.ProteinDatum object at 0x7fcce98114e0>\n"
     ]
    },
    {
     "data": {
      "application/3dmoljs_load.v0": "<div id=\"3dmolviewer_1715476308970716\"  style=\"position: relative; width: 500px; height: 250px;\">\n        <p id=\"3dmolwarning_1715476308970716\" style=\"background-color:#ffcccc;color:black\">3Dmol.js failed to load for some reason.  Please check your browser console for error messages.<br></p>\n        </div>\n<script>\n\nvar loadScriptAsync = function(uri){\n  return new Promise((resolve, reject) => {\n    //this is to ignore the existence of requirejs amd\n    var savedexports, savedmodule;\n    if (typeof exports !== 'undefined') savedexports = exports;\n    else exports = {}\n    if (typeof module !== 'undefined') savedmodule = module;\n    else module = {}\n\n    var tag = document.createElement('script');\n    tag.src = uri;\n    tag.async = true;\n    tag.onload = () => {\n        exports = savedexports;\n        module = savedmodule;\n        resolve();\n    };\n  var firstScriptTag = document.getElementsByTagName('script')[0];\n  firstScriptTag.parentNode.insertBefore(tag, firstScriptTag);\n});\n};\n\nif(typeof $3Dmolpromise === 'undefined') {\n$3Dmolpromise = null;\n  $3Dmolpromise = loadScriptAsync('https://cdnjs.cloudflare.com/ajax/libs/3Dmol/2.1.0/3Dmol-min.js');\n}\n\nvar viewer_1715476308970716 = null;\nvar warn = document.getElementById(\"3dmolwarning_1715476308970716\");\nif(warn) {\n    warn.parentNode.removeChild(warn);\n}\n$3Dmolpromise.then(function() {\nvar viewergrid_1715476308970716 = null;\nviewergrid_1715476308970716 = $3Dmol.createViewerGrid(document.getElementById(\"3dmolviewer_1715476308970716\"),{rows: 1, cols: 2, control_all: true},{backgroundColor:\"white\"});\nviewer_1715476308970716 = viewergrid_1715476308970716[0][0];\nviewergrid_1715476308970716[0][0].zoomTo();viewergrid_1715476308970716[0][1].zoomTo();\tviewergrid_1715476308970716[0][0].addModel(\"ATOM  1     N    PRO A 1        83.966   2.539  44.774                       N  \\nATOM  2     CA   PRO A 1        84.176   2.726  43.336                       C  \\nATOM  3     C    PRO A 1        84.073   4.203  42.988                       C  \\nATOM  4     O    PRO A 1        83.400   4.979  43.678                       O  \\nATOM  5     CB   PRO A 1        83.005   1.958  42.716                       C  \\nATOM  6     CG   PRO A 1        82.690   0.940  43.725                       C  \\nATOM  7     CD   PRO A 1        82.769   1.720  45.006                       C  \\nATOM  8     N    GLN A 2        84.727   4.591  41.908                       N  \\nATOM  9     CA   GLN A 2        84.666   5.972  41.506                       C  \\nATOM  10    C    GLN A 2        83.275   6.299  40.973                       C  \\nATOM  11    O    GLN A 2        82.723   5.576  40.147                       O  \\nATOM  12    CB   GLN A 2        85.723   6.267  40.461                       C  \\nATOM  13    CG   GLN A 2        85.700   7.709  40.041                       C  \\nATOM  14    CD   GLN A 2        86.969   8.101  39.381                       C  \\nATOM  15    OE1  GLN A 2        87.840   8.695  40.006                       O  \\nATOM  16    NE2  GLN A 2        87.116   7.735  38.123                       N  \\nATOM  17    N    ASN A 3        82.729   7.411  41.439                       N  \\nATOM  18    CA   ASN A 3        81.400   7.855  41.038                       C  \\nATOM  19    C    ASN A 3        81.457   8.675  39.747                       C  \\nATOM  20    O    ASN A 3        81.423   9.901  39.792                       O  \\nATOM  21    CB   ASN A 3        80.805   8.706  42.170                       C  \\nATOM  22    CG   ASN A 3        79.368   9.108  41.911                       C  \\nATOM  23    OD1  ASN A 3        78.676   8.526  41.059                       O  \\nATOM  24    ND2  ASN A 3        78.901  10.099  42.659                       N  \\nATOM  25    N    ASP A 4        81.538   8.004  38.602                       N  \\nATOM  26    CA   ASP A 4        81.613   8.701  37.318                       C  \\nATOM  27    C    ASP A 4        80.275   9.028  36.684                       C  \\nATOM  28    O    ASP A 4        80.214   9.764  35.689                       O  \\nATOM  29    CB   ASP A 4        82.455   7.908  36.322                       C  \\nATOM  30    CG   ASP A 4        83.915   8.302  36.346                       C  \\nATOM  31    OD1  ASP A 4        84.288   9.172  37.164                       O  \\nATOM  32    OD2  ASP A 4        84.687   7.743  35.531                       O  \\nATOM  33    N    GLY A 5        79.208   8.468  37.242                       N  \\nATOM  34    CA   GLY A 5        77.888   8.721  36.697                       C  \\nATOM  35    C    GLY A 5        77.439   7.640  35.734                       C  \\nATOM  36    O    GLY A 5        78.227   6.775  35.361                       O  \\nATOM  37    N    PRO A 6        76.174   7.683  35.292                       N  \\nATOM  38    CA   PRO A 6        75.580   6.712  34.364                       C  \\nATOM  39    C    PRO A 6        76.215   6.613  32.974                       C  \\nATOM  40    O    PRO A 6        76.285   5.515  32.419                       O  \\nATOM  41    CB   PRO A 6        74.106   7.139  34.314                       C  \\nATOM  42    CG   PRO A 6        74.167   8.622  34.563                       C  \\nATOM  43    CD   PRO A 6        75.196   8.722  35.669                       C  \\nATOM  44    N    SER A 7        76.626   7.742  32.393                       N  \\nATOM  45    CA   SER A 7        77.275   7.739  31.071                       C  \\nATOM  46    C    SER A 7        78.488   8.661  31.083                       C  \\nATOM  47    O    SER A 7        78.439   9.809  30.647                       O  \\nATOM  48    CB   SER A 7        76.299   8.112  29.950                       C  \\nATOM  49    OG   SER A 7        75.408   9.128  30.361                       O  \\nATOM  50    N    PRO A 8        79.617   8.135  31.550                       N  \\nATOM  51    CA   PRO A 8        80.903   8.820  31.674                       C  \\nATOM  52    C    PRO A 8        81.468   9.520  30.445                       C  \\nATOM  53    O    PRO A 8        81.174   9.153  29.307                       O  \\nATOM  54    CB   PRO A 8        81.839   7.688  32.116                       C  \\nATOM  55    CG   PRO A 8        80.923   6.738  32.853                       C  \\nATOM  56    CD   PRO A 8        79.747   6.715  31.922                       C  \\nATOM  57    N    VAL A 9        82.277  10.542  30.713                       N  \\nATOM  58    CA   VAL A 9        82.996  11.298  29.692                       C  \\nATOM  59    C    VAL A 9        84.435  11.282  30.210                       C  \\nATOM  60    O    VAL A 9        84.660  11.120  31.416                       O  \\nATOM  61    CB   VAL A 9        82.471  12.751  29.481                       C  \\nATOM  62    CG1  VAL A 9        81.163  12.727  28.695                       C  \\nATOM  63    CG2  VAL A 9        82.277  13.464  30.802                       C  \\nATOM  64    N    VAL A 10       85.397  11.386  29.299                       N  \\nATOM  65    CA   VAL A 10       86.826  11.336  29.632                       C  \\nATOM  66    C    VAL A 10       87.123  10.249  30.663                       C  \\nATOM  67    O    VAL A 10       87.950  10.413  31.550                       O  \\nATOM  68    CB   VAL A 10       87.431  12.733  30.049                       C  \\nATOM  69    CG1  VAL A 10       87.320  13.723  28.889                       C  \\nATOM  70    CG2  VAL A 10       86.770  13.290  31.313                       C  \\nATOM  71    N    GLN A 11       86.449   9.118  30.503                       N  \\nATOM  72    CA   GLN A 11       86.601   7.981  31.394                       C  \\nATOM  73    C    GLN A 11       87.892   7.249  31.121                       C  \\nATOM  74    O    GLN A 11       88.098   6.730  30.030                       O  \\nATOM  75    CB   GLN A 11       85.442   7.031  31.212                       C  \\nATOM  76    CG   GLN A 11       85.615   5.763  31.968                       C  \\nATOM  77    CD   GLN A 11       84.353   4.948  31.965                       C  \\nATOM  78    OE1  GLN A 11       83.690   4.823  32.988                       O  \\nATOM  79    NE2  GLN A 11       83.981   4.431  30.805                       N  \\nATOM  80    N    ILE A 12       88.741   7.174  32.135                       N  \\nATOM  81    CA   ILE A 12       90.036   6.523  32.008                       C  \\nATOM  82    C    ILE A 12       89.933   5.023  32.292                       C  \\nATOM  83    O    ILE A 12       89.388   4.605  33.317                       O  \\nATOM  84    CB   ILE A 12       91.067   7.171  32.971                       C  \\nATOM  85    CG1  ILE A 12       91.100   8.691  32.768                       C  \\nATOM  86    CD1  ILE A 12       91.913   9.427  33.798                       C  \\nATOM  87    CG2  ILE A 12       92.452   6.594  32.741                       C  \\nATOM  88    N    ILE A 13       90.450   4.211  31.381                       N  \\nATOM  89    CA   ILE A 13       90.425   2.768  31.566                       C  \\nATOM  90    C    ILE A 13       91.648   2.432  32.403                       C  \\nATOM  91    O    ILE A 13       92.710   2.082  31.888                       O  \\nATOM  92    CB   ILE A 13       90.451   2.028  30.205                       C  \\nATOM  93    CG1  ILE A 13       89.271   2.490  29.342                       C  \\nATOM  94    CD1  ILE A 13       87.911   2.413  30.051                       C  \\nATOM  95    CG2  ILE A 13       90.382   0.533  30.420                       C  \\nATOM  96    N    TYR A 14       91.507   2.602  33.707                       N  \\nATOM  97    CA   TYR A 14       92.603   2.343  34.628                       C  \\nATOM  98    C    TYR A 14       93.029   0.900  34.620                       C  \\nATOM  99    O    TYR A 14       92.226   0.002  34.373                       O  \\nATOM  100   CB   TYR A 14       92.185   2.643  36.068                       C  \\nATOM  101   CG   TYR A 14       91.527   3.966  36.270                       C  \\nATOM  102   CD1  TYR A 14       90.156   4.043  36.434                       C  \\nATOM  103   CE1  TYR A 14       89.532   5.252  36.628                       C  \\nATOM  104   CZ   TYR A 14       90.281   6.414  36.656                       C  \\nATOM  105   OH   TYR A 14       89.624   7.617  36.833                       O  \\nATOM  106   CE2  TYR A 14       91.655   6.366  36.493                       C  \\nATOM  107   CD2  TYR A 14       92.272   5.144  36.302                       C  \\nATOM  108   N    SER A 15       94.278   0.681  34.996                       N  \\nATOM  109   CA   SER A 15       94.812  -0.653  35.118                       C  \\nATOM  110   C    SER A 15       94.237  -1.192  36.435                       C  \\nATOM  111   O    SER A 15       93.701  -0.434  37.256                       O  \\nATOM  112   CB   SER A 15       96.336  -0.593  35.200                       C  \\nATOM  113   OG   SER A 15       96.767   0.233  36.272                       O  \\nATOM  114   N    GLU A 16       94.323  -2.502  36.614                       N  \\nATOM  115   CA   GLU A 16       93.856  -3.180  37.820                       C  \\nATOM  116   C    GLU A 16       94.437  -2.565  39.084                       C  \\nATOM  117   O    GLU A 16       93.700  -2.251  40.015                       O  \\nATOM  118   CB   GLU A 16       94.294  -4.650  37.783                       C  \\nATOM  119   CG   GLU A 16       93.334  -5.590  37.116                       C  \\nATOM  120   CD   GLU A 16       92.485  -6.331  38.125                       C  \\nATOM  121   OE1  GLU A 16       91.467  -5.756  38.587                       O  \\nATOM  122   OE2  GLU A 16       92.848  -7.486  38.457                       O  \\nATOM  123   N    LYS A 17       95.767  -2.484  39.137                       N  \\nATOM  124   CA   LYS A 17       96.473  -1.936  40.294                       C  \\nATOM  125   C    LYS A 17       96.010  -0.537  40.669                       C  \\nATOM  126   O    LYS A 17       95.810  -0.243  41.838                       O  \\nATOM  127   CB   LYS A 17       97.983  -1.904  40.047                       C  \\nATOM  128   CG   LYS A 17       98.660  -3.253  40.112                       C  \\nATOM  129   CD   LYS A 17      100.080  -3.190  39.567                       C  \\nATOM  130   CE   LYS A 17      100.960  -2.322  40.435                       C  \\nATOM  131   NZ   LYS A 17      102.384  -2.296  39.984                       N  \\nATOM  132   N    PHE A 18       95.833   0.316  39.663                       N  \\nATOM  133   CA   PHE A 18       95.431   1.699  39.879                       C  \\nATOM  134   C    PHE A 18       94.053   1.792  40.507                       C  \\nATOM  135   O    PHE A 18       93.890   2.389  41.585                       O  \\nATOM  136   CB   PHE A 18       95.475   2.480  38.552                       C  \\nATOM  137   CG   PHE A 18       95.435   3.990  38.716                       C  \\nATOM  138   CD1  PHE A 18       96.579   4.760  38.504                       C  \\nATOM  139   CE1  PHE A 18       96.539   6.164  38.620                       C  \\nATOM  140   CZ   PHE A 18       95.360   6.804  38.950                       C  \\nATOM  141   CE2  PHE A 18       94.211   6.055  39.167                       C  \\nATOM  142   CD2  PHE A 18       94.250   4.648  39.050                       C  \\nATOM  143   N    ARG A 19       93.064   1.205  39.837                       N  \\nATOM  144   CA   ARG A 19       91.699   1.244  40.316                       C  \\nATOM  145   C    ARG A 19       91.557   0.628  41.696                       C  \\nATOM  146   O    ARG A 19       90.765   1.105  42.518                       O  \\nATOM  147   CB   ARG A 19       90.770   0.534  39.348                       C  \\nATOM  148   CG   ARG A 19       89.334   0.591  39.795                       C  \\nATOM  149   CD   ARG A 19       88.444  -0.299  38.955                       C  \\nATOM  150   NE   ARG A 19       88.369   0.140  37.563                       N  \\nATOM  151   CZ   ARG A 19       87.922   1.333  37.158                       C  \\nATOM  152   NH1  ARG A 19       87.501   2.247  38.038                       N  \\nATOM  153   NH2  ARG A 19       87.872   1.606  35.855                       N  \\nATOM  154   N    ASP A 20       92.312  -0.442  41.940                       N  \\nATOM  155   CA   ASP A 20       92.271  -1.135  43.215                       C  \\nATOM  156   C    ASP A 20       92.756  -0.212  44.351                       C  \\nATOM  157   O    ASP A 20       92.052  -0.009  45.344                       O  \\nATOM  158   CB   ASP A 20       93.084  -2.437  43.125                       C  \\nATOM  159   CG   ASP A 20       93.341  -3.069  44.489                       C  \\nATOM  160   OD1  ASP A 20       92.406  -3.653  45.074                       O  \\nATOM  161   OD2  ASP A 20       94.485  -2.969  44.980                       O  \\nATOM  162   N    VAL A 21       93.944   0.361  44.203                       N  \\nATOM  163   CA   VAL A 21       94.457   1.265  45.219                       C  \\nATOM  164   C    VAL A 21       93.518   2.460  45.426                       C  \\nATOM  165   O    VAL A 21       93.194   2.825  46.568                       O  \\nATOM  166   CB   VAL A 21       95.853   1.770  44.842                       C  \\nATOM  167   CG1  VAL A 21       96.203   3.039  45.623                       C  \\nATOM  168   CG2  VAL A 21       96.886   0.675  45.115                       C  \\nATOM  169   N    TYR A 22       93.054   3.053  44.329                       N  \\nATOM  170   CA   TYR A 22       92.176   4.201  44.445                       C  \\nATOM  171   C    TYR A 22       90.799   3.932  45.008                       C  \\nATOM  172   O    TYR A 22       90.241   4.796  45.684                       O  \\nATOM  173   CB   TYR A 22       92.163   5.020  43.165                       C  \\nATOM  174   CG   TYR A 22       93.332   5.973  43.168                       C  \\nATOM  175   CD1  TYR A 22       94.564   5.609  42.620                       C  \\nATOM  176   CE1  TYR A 22       95.667   6.461  42.706                       C  \\nATOM  177   CZ   TYR A 22       95.535   7.687  43.340                       C  \\nATOM  178   OH   TYR A 22       96.618   8.534  43.431                       O  \\nATOM  179   CE2  TYR A 22       94.326   8.069  43.886                       C  \\nATOM  180   CD2  TYR A 22       93.232   7.218  43.800                       C  \\nATOM  181   N    ASP A 23       90.294   2.711  44.826                       N  \\nATOM  182   CA   ASP A 23       88.993   2.335  45.393                       C  \\nATOM  183   C    ASP A 23       89.158   2.246  46.907                       C  \\nATOM  184   O    ASP A 23       88.221   2.530  47.659                       O  \\nATOM  185   CB   ASP A 23       88.524   0.973  44.872                       C  \\nATOM  186   CG   ASP A 23       87.944   1.034  43.469                       C  \\nATOM  187   OD1  ASP A 23       87.690   2.136  42.933                       O  \\nATOM  188   OD2  ASP A 23       87.722  -0.056  42.901                       O  \\nATOM  189   N    TYR A 24       90.327   1.788  47.354                       N  \\nATOM  190   CA   TYR A 24       90.569   1.693  48.786                       C  \\nATOM  191   C    TYR A 24       90.886   3.064  49.355                       C  \\nATOM  192   O    TYR A 24       90.500   3.370  50.486                       O  \\nATOM  193   CB   TYR A 24       91.650   0.657  49.125                       C  \\nATOM  194   CG   TYR A 24       91.080  -0.758  49.179                       C  \\nATOM  195   CD1  TYR A 24       90.952  -1.525  48.017                       C  \\nATOM  196   CE1  TYR A 24       90.326  -2.770  48.039                       C  \\nATOM  197   CZ   TYR A 24       89.820  -3.266  49.237                       C  \\nATOM  198   OH   TYR A 24       89.176  -4.478  49.244                       O  \\nATOM  199   CE2  TYR A 24       89.939  -2.537  50.410                       C  \\nATOM  200   CD2  TYR A 24       90.572  -1.286  50.373                       C  \\nATOM  201   N    PHE A 25       91.547   3.906  48.562                       N  \\nATOM  202   CA   PHE A 25       91.852   5.258  49.012                       C  \\nATOM  203   C    PHE A 25       90.524   5.992  49.212                       C  \\nATOM  204   O    PHE A 25       90.328   6.677  50.219                       O  \\nATOM  205   CB   PHE A 25       92.706   6.007  47.992                       C  \\nATOM  206   CG   PHE A 25       92.922   7.454  48.354                       C  \\nATOM  207   CD1  PHE A 25       93.740   7.799  49.430                       C  \\nATOM  208   CE1  PHE A 25       93.849   9.136  49.848                       C  \\nATOM  209   CZ   PHE A 25       93.139  10.131  49.180                       C  \\nATOM  210   CE2  PHE A 25       92.331   9.801  48.104                       C  \\nATOM  211   CD2  PHE A 25       92.225   8.463  47.691                       C  \\nATOM  212   N    ARG A 26       89.604   5.835  48.260                       N  \\nATOM  213   CA   ARG A 26       88.294   6.471  48.359                       C  \\nATOM  214   C    ARG A 26       87.582   6.035  49.639                       C  \\nATOM  215   O    ARG A 26       86.907   6.834  50.299                       O  \\nATOM  216   CB   ARG A 26       87.425   6.151  47.133                       C  \\nATOM  217   CG   ARG A 26       87.706   7.049  45.927                       C  \\nATOM  218   CD   ARG A 26       86.808   6.717  44.734                       C  \\nATOM  219   NE   ARG A 26       87.308   5.600  43.926                       N  \\nATOM  220   CZ   ARG A 26       88.252   5.712  42.989                       C  \\nATOM  221   NH1  ARG A 26       88.811   6.891  42.740                       N  \\nATOM  222   NH2  ARG A 26       88.627   4.655  42.273                       N  \\nATOM  223   N    GLY A 27      -87.754   4.770  50.005                       N  \\nATOM  224   CA   GLY A 27      -87.127   4.254  51.215                       C  \\nATOM  225   C    GLY A 27      -87.709   4.902  52.469                       C  \\nATOM  226   O    GLY A 27      -86.960   5.367  53.315                       O  \\nATOM  227   N    GLY A 28      -89.032   4.967  52.586                       N  \\nATOM  228   CA   GLY A 28      -89.624   5.556  53.777                       C  \\nATOM  229   C    GLY A 28      -89.368   7.053  53.853                       C  \\nATOM  230   O    GLY A 28      -89.124   7.578  54.936                       O  \\nATOM  231   N    GLY A 29      -89.390   7.733  52.711                       N  \\nATOM  232   CA   GLY A 29      -89.167   9.179  52.682                       C  \\nATOM  233   C    GLY A 29      -87.748   9.487  53.148                       C  \\nATOM  234   O    GLY A 29      -87.531  10.364  53.974                       O  \",\"pdb\");\n\tviewergrid_1715476308970716[0][0].setStyle({\"model\": -1},{});\n\tviewergrid_1715476308970716[0][0].addStyle({\"model\": -1},{\"cartoon\": {\"color\": \"spectrum\"}});\n\tviewergrid_1715476308970716[0][0].addStyle({\"model\": -1},{\"stick\": {\"radius\": 0.2}});\n\tviewergrid_1715476308970716[0][1].addModel(\"ATOM  1     N    LEU A 1       -32.675  36.926  37.198                       N  \\nATOM  2     CA   LEU A 1       -32.984  35.545  36.803                       C  \\nATOM  3     C    LEU A 1       -31.687  34.789  36.573                       C  \\nATOM  4     O    LEU A 1       -30.829  34.686  37.452                       O  \\nATOM  5     CB   LEU A 1       -33.763  34.778  37.898                       C  \\nATOM  6     CG   LEU A 1       -35.241  35.201  38.012                       C  \\nATOM  7     CD1  LEU A 1       -35.807  34.699  39.349                       C  \\nATOM  8     CD2  LEU A 1       -36.085  34.672  36.839                       C  \\nATOM  9     N    THR A 2       -31.607  34.277  35.392                       N  \\nATOM  10    CA   THR A 2       -30.414  33.580  34.948                       C  \\nATOM  11    C    THR A 2       -30.806  32.309  34.214                       C  \\nATOM  12    O    THR A 2       -31.937  32.215  33.746                       O  \\nATOM  13    CB   THR A 2       -29.773  34.583  33.989                       C  \\nATOM  14    OG1  THR A 2       -28.608  35.203  34.563                       O  \\nATOM  15    CG2  THR A 2       -29.682  34.160  32.517                       C  \\nATOM  16    N    GLY A 3       -29.903  31.352  34.190                       N  \\nATOM  17    CA   GLY A 3       -30.065  30.079  33.451                       C  \\nATOM  18    C    GLY A 3       -31.190  29.216  34.008                       C  \\nATOM  19    O    GLY A 3       -31.387  29.153  35.217                       O  \\nATOM  20    N    GLU A 4       -31.852  28.523  33.118                       N  \\nATOM  21    CA   GLU A 4       -32.966  27.632  33.470                       C  \\nATOM  22    C    GLU A 4       -34.095  28.372  34.204                       C  \\nATOM  23    O    GLU A 4       -34.907  27.766  34.898                       O  \\nATOM  24    CB   GLU A 4       -33.580  27.062  32.173                       C  \\nATOM  25    CG   GLU A 4       -32.661  26.167  31.336                       C  \\nATOM  26    CD   GLU A 4       -33.490  25.664  30.148                       C  \\nATOM  27    OE1  GLU A 4       -34.751  25.646  30.260                       O  \\nATOM  28    OE2  GLU A 4       -32.892  25.279  29.102                       O  \\nATOM  29    N    ALA A 5       -34.235  29.633  33.959                       N  \\nATOM  30    CA   ALA A 5       -35.357  30.329  34.586                       C  \\nATOM  31    C    ALA A 5       -35.115  30.518  36.081                       C  \\nATOM  32    O    ALA A 5       -36.007  30.238  36.870                       O  \\nATOM  33    CB   ALA A 5       -35.513  31.705  33.940                       C  \\nATOM  34    N    LYS A 6       -33.861  30.804  36.408                       N  \\nATOM  35    CA   LYS A 6       -33.344  30.864  37.777                       C  \\nATOM  36    C    LYS A 6       -33.526  29.532  38.499                       C  \\nATOM  37    O    LYS A 6       -34.016  29.513  39.626                       O  \\nATOM  38    CB   LYS A 6       -31.842  31.173  37.697                       C  \\nATOM  39    CG   LYS A 6       -31.086  30.920  39.014                       C  \\nATOM  40    CD   LYS A 6       -30.466  32.191  39.586                       C  \\nATOM  41    CE   LYS A 6       -29.278  31.887  40.511                       C  \\nATOM  42    NZ   LYS A 6       -29.620  30.995  41.627                       N  \\nATOM  43    N    THR A 7       -33.127  28.460  37.860                       N  \\nATOM  44    CA   THR A 7       -33.237  27.125  38.473                       C  \\nATOM  45    C    THR A 7       -34.701  26.787  38.753                       C  \\nATOM  46    O    THR A 7       -35.031  26.158  39.768                       O  \\nATOM  47    CB   THR A 7       -32.699  26.114  37.450                       C  \\nATOM  48    OG1  THR A 7       -31.396  26.540  37.022                       O  \\nATOM  49    CG2  THR A 7       -32.619  24.691  38.020                       C  \\nATOM  50    N    ALA A 8       -35.523  27.242  37.809                       N  \\nATOM  51    CA   ALA A 8       -36.931  26.863  37.829                       C  \\nATOM  52    C    ALA A 8       -37.724  27.623  38.877                       C  \\nATOM  53    O    ALA A 8       -38.573  27.018  39.535                       O  \\nATOM  54    CB   ALA A 8       -37.583  26.976  36.447                       C  \\nATOM  55    N    VAL A 9       -37.396  28.899  39.015                       N  \\nATOM  56    CA   VAL A 9       -37.988  29.732  40.079                       C  \\nATOM  57    C    VAL A 9       -37.561  29.242  41.461                       C  \\nATOM  58    O    VAL A 9       -38.433  29.080  42.313                       O  \\nATOM  59    CB   VAL A 9       -37.653  31.219  39.916                       C  \\nATOM  60    CG1  VAL A 9       -38.049  32.062  41.138                       C  \\nATOM  61    CG2  VAL A 9       -38.291  31.795  38.650                       C  \\nATOM  62    N    GLU A 10      -36.291  28.883  41.615                       N  \\nATOM  63    CA   GLU A 10      -35.810  28.335  42.911                       C  \\nATOM  64    C    GLU A 10      -36.515  27.045  43.294                       C  \\nATOM  65    O    GLU A 10      -36.847  26.863  44.465                       O  \\nATOM  66    CB   GLU A 10      -34.349  27.891  42.822                       C  \\nATOM  67    CG   GLU A 10      -33.321  29.025  42.870                       C  \\nATOM  68    CD   GLU A 10      -31.975  28.311  42.945                       C  \\nATOM  69    OE1  GLU A 10      -30.990  28.952  43.395                       O  \\nATOM  70    OE2  GLU A 10      -31.905  27.107  42.568                       O  \\nATOM  71    N    ASN A 11      -36.491  26.119  42.354                       N  \\nATOM  72    CA   ASN A 11      -36.970  24.752  42.642                       C  \\nATOM  73    C    ASN A 11      -38.461  24.719  42.935                       C  \\nATOM  74    O    ASN A 11      -38.891  23.927  43.780                       O  \\nATOM  75    CB   ASN A 11      -36.678  23.811  41.470                       C  \\nATOM  76    CG   ASN A 11      -35.192  23.479  41.541                       C  \\nATOM  77    OD1  ASN A 11      -34.673  22.769  40.685                       O  \\nATOM  78    ND2  ASN A 11      -34.545  23.990  42.568                       N  \\nATOM  79    N    TYR A 12      -39.155  25.673  42.324                       N  \\nATOM  80    CA   TYR A 12      -40.546  25.931  42.655                       C  \\nATOM  81    C    TYR A 12      -40.645  26.442  44.098                       C  \\nATOM  82    O    TYR A 12      -41.441  25.933  44.879                       O  \\nATOM  83    CB   TYR A 12      -41.216  26.899  41.644                       C  \\nATOM  84    CG   TYR A 12      -42.673  27.136  42.089                       C  \\nATOM  85    CD1  TYR A 12      -42.999  28.275  42.793                       C  \\nATOM  86    CE1  TYR A 12      -44.256  28.400  43.382                       C  \\nATOM  87    CZ   TYR A 12      -45.172  27.373  43.264                       C  \\nATOM  88    OH   TYR A 12      -46.366  27.464  43.885                       O  \\nATOM  89    CE2  TYR A 12      -44.858  26.240  42.555                       C  \\nATOM  90    CD2  TYR A 12      -43.596  26.121  41.967                       C  \\nATOM  91    N    LEU A 13      -39.870  27.465  44.396                       N  \\nATOM  92    CA   LEU A 13      -39.964  28.155  45.695                       C  \\nATOM  93    C    LEU A 13      -39.689  27.159  46.811                       C  \\nATOM  94    O    LEU A 13      -40.295  27.252  47.880                       O  \\nATOM  95    CB   LEU A 13      -38.920  29.290  45.743                       C  \\nATOM  96    CG   LEU A 13      -39.532  30.684  45.544                       C  \\nATOM  97    CD1  LEU A 13      -40.980  30.701  45.034                       C  \\nATOM  98    CD2  LEU A 13      -38.623  31.691  44.817                       C  \\nATOM  99    N    ILE A 14      -38.863  26.187  46.498                       N  \\nATOM  100   CA   ILE A 14      -38.521  25.181  47.509                       C  \\nATOM  101   C    ILE A 14      -39.676  24.217  47.704                       C  \\nATOM  102   O    ILE A 14      -39.988  23.868  48.840                       O  \\nATOM  103   CB   ILE A 14      -37.284  24.342  47.124                       C  \\nATOM  104   CG1  ILE A 14      -35.982  25.159  47.050                       C  \\nATOM  105   CD1  ILE A 14      -34.847  24.244  46.547                       C  \\nATOM  106   CG2  ILE A 14      -37.087  23.117  48.036                       C  \\nATOM  107   N    GLY A 15      -40.321  23.847  46.639                       N  \\nATOM  108   CA   GLY A 15      -41.382  22.849  46.850                       C  \\nATOM  109   C    GLY A 15      -42.750  23.444  47.169                       C  \\nATOM  110   O    GLY A 15      -43.680  22.681  47.413                       O  \\nATOM  111   N    SER A 16      -42.885  24.744  46.983                       N  \\nATOM  112   CA   SER A 16      -44.207  25.412  47.039                       C  \\nATOM  113   C    SER A 16      -44.790  25.350  48.443                       C  \\nATOM  114   O    SER A 16      -44.129  25.790  49.382                       O  \\nATOM  115   CB   SER A 16      -44.097  26.899  46.658                       C  \\nATOM  116   OG   SER A 16      -45.354  27.542  46.905                       O  \\nATOM  117   N    PRO A 17      -46.023  24.877  48.507                       N  \\nATOM  118   CA   PRO A 17      -46.845  24.946  49.739                       C  \\nATOM  119   C    PRO A 17      -47.353  26.354  50.039                       C  \\nATOM  120   O    PRO A 17      -47.827  26.602  51.148                       O  \\nATOM  121   CB   PRO A 17      -48.031  24.033  49.431                       C  \\nATOM  122   CG   PRO A 17      -48.154  24.033  47.917                       C  \\nATOM  123   CD   PRO A 17      -46.752  24.293  47.373                       C  \\nATOM  124   N    VAL A 18      -47.413  27.182  49.015                       N  \\nATOM  125   CA   VAL A 18      -48.068  28.491  49.124                       C  \\nATOM  126   C    VAL A 18      -47.069  29.564  49.537                       C  \\nATOM  127   O    VAL A 18      -47.306  30.344  50.454                       O  \\nATOM  128   CB   VAL A 18      -48.641  28.869  47.747                       C  \\nATOM  129   CG1  VAL A 18      -49.383  30.220  47.770                       C  \\nATOM  130   CG2  VAL A 18      -49.498  27.741  47.166                       C  \\nATOM  131   N    VAL A 19      -46.027  29.644  48.772                       N  \\nATOM  132   CA   VAL A 19      -45.034  30.694  48.937                       C  \\nATOM  133   C    VAL A 19      -44.002  30.258  49.989                       C  \\nATOM  134   O    VAL A 19      -43.374  29.217  49.833                       O  \\nATOM  135   CB   VAL A 19      -44.348  30.970  47.561                       C  \\nATOM  136   CG1  VAL A 19      -43.523  32.270  47.555                       C  \\nATOM  137   CG2  VAL A 19      -45.326  30.962  46.354                       C  \\nATOM  138   N    ASP A 20      -43.716  31.170  50.911                       N  \\nATOM  139   CA   ASP A 20      -42.543  31.118  51.777                       C  \\nATOM  140   C    ASP A 20      -41.478  32.049  51.201                       C  \\nATOM  141   O    ASP A 20      -41.643  33.269  51.151                       O  \\nATOM  142   CB   ASP A 20      -42.913  31.525  53.210                       C  \\nATOM  143   CG   ASP A 20      -41.682  31.623  54.110                       C  \\nATOM  144   OD1  ASP A 20      -41.837  32.190  55.223                       O  \\nATOM  145   OD2  ASP A 20      -40.572  31.147  53.732                       O  \\nATOM  146   N    SER A 21      -40.408  31.425  50.752                       N  \\nATOM  147   CA   SER A 21      -39.373  32.186  50.042                       C  \\nATOM  148   C    SER A 21      -38.691  33.145  51.001                       C  \\nATOM  149   O    SER A 21      -38.030  34.084  50.576                       O  \\nATOM  150   CB   SER A 21      -38.317  31.263  49.386                       C  \\nATOM  151   OG   SER A 21      -37.565  30.552  50.382                       O  \\nATOM  152   N    GLN A 22      -38.889  32.901  52.265                       N  \\nATOM  153   CA   GLN A 22      -38.255  33.773  53.241                       C  \\nATOM  154   C    GLN A 22      -39.043  35.048  53.472                       C  \\nATOM  155   O    GLN A 22      -38.534  35.936  54.140                       O  \\nATOM  156   CB   GLN A 22      -38.062  33.031  54.566                       C  \\nATOM  157   CG   GLN A 22      -36.607  33.220  55.046                       C  \\nATOM  158   CD   GLN A 22      -35.627  32.651  54.012                       C  \\nATOM  159   OE1  GLN A 22      -34.547  33.221  53.830                       O  \\nATOM  160   NE2  GLN A 22      -36.008  31.538  53.383                       N  \\nATOM  161   N    LYS A 23      -40.201  35.146  52.839                       N  \\nATOM  162   CA   LYS A 23      -40.993  36.350  53.030                       C  \\nATOM  163   C    LYS A 23      -40.914  37.229  51.794                       C  \\nATOM  164   O    LYS A 23      -41.359  38.378  51.833                       O  \\nATOM  165   CB   LYS A 23      -42.449  35.986  53.356                       C  \\nATOM  166   CG   LYS A 23      -42.573  35.188  54.661                       C  \\nATOM  167   CD   LYS A 23      -44.005  35.267  55.237                       C  \\nATOM  168   CE   LYS A 23      -44.255  34.357  56.474                       C  \\nATOM  169   NZ   LYS A 23      -44.541  32.950  56.080                       N  \\nATOM  170   N    LEU A 24      -40.188  36.714  50.805                       N  \\nATOM  171   CA   LEU A 24      -39.889  37.466  49.561                       C  \\nATOM  172   C    LEU A 24      -38.904  38.606  49.789                       C  \\nATOM  173   O    LEU A 24      -37.797  38.405  50.274                       O  \\nATOM  174   CB   LEU A 24      -39.301  36.556  48.459                       C  \\nATOM  175   CG   LEU A 24      -40.343  35.581  47.905                       C  \\nATOM  176   CD1  LEU A 24      -39.702  34.481  47.037                       C  \\nATOM  177   CD2  LEU A 24      -41.503  36.332  47.224                       C  \\nATOM  178   N    VAL A 25      -39.216  39.721  49.212                       N  \\nATOM  179   CA   VAL A 25      -38.246  40.788  49.117                       C  \\nATOM  180   C    VAL A 25      -37.889  41.047  47.650                       C  \\nATOM  181   O    VAL A 25      -38.781  41.282  46.850                       O  \\nATOM  182   CB   VAL A 25      -38.855  42.041  49.780                       C  \\nATOM  183   CG1  VAL A 25      -37.890  43.230  49.738                       C  \\nATOM  184   CG2  VAL A 25      -39.274  41.746  51.232                       C  \\nATOM  185   N    TYR A 26      -36.623  40.930  47.297                       N  \\nATOM  186   CA   TYR A 26      -36.121  41.105  45.925                       C  \\nATOM  187   C    TYR A 26      -35.966  42.575  45.587                       C  \\nATOM  188   O    TYR A 26      -35.552  43.364  46.441                       O  \\nATOM  189   CB   TYR A 26      -34.773  40.398  45.732                       C  \\nATOM  190   CG   TYR A 26      -35.008  38.877  45.612                       C  \\nATOM  191   CD1  TYR A 26      -35.326  38.107  46.713                       C  \\nATOM  192   CE1  TYR A 26      -35.633  36.752  46.562                       C  \\nATOM  193   CZ   TYR A 26      -35.608  36.183  45.298                       C  \\nATOM  194   OH   TYR A 26      -35.873  34.856  45.127                       O  \\nATOM  195   CE2  TYR A 26      -35.302  36.960  44.197                       C  \\nATOM  196   CD2  TYR A 26      -35.008  38.306  44.360                       C  \\nATOM  197   N    SER A 27      -36.389  42.924  44.374                       N  \\nATOM  198   CA   SER A 27      -36.313  44.326  43.975                       C  \\nATOM  199   C    SER A 27      -34.890  44.768  43.673                       C  \\nATOM  200   O    SER A 27      -34.056  43.948  43.276                       O  \\nATOM  201   CB   SER A 27      -37.234  44.677  42.801                       C  \\nATOM  202   OG   SER A 27      -38.600  44.552  43.223                       O  \\nATOM  203   N    ASP A 28      -34.718  46.078  43.809                       N  \\nATOM  204   CA   ASP A 28      -33.493  46.803  43.467                       C  \\nATOM  205   C    ASP A 28      -33.642  47.370  42.068                       C  \\nATOM  206   O    ASP A 28      -34.495  48.236  41.883                       O  \\nATOM  207   CB   ASP A 28      -33.401  48.040  44.377                       C  \\nATOM  208   CG   ASP A 28      -32.027  48.711  44.242                       C  \\nATOM  209   OD1  ASP A 28      -31.847  49.786  44.862                       O  \\nATOM  210   OD2  ASP A 28      -31.124  48.178  43.539                       O  \\nATOM  211   N    PHE A 29      -32.770  46.915  41.188                       N  \\nATOM  212   CA   PHE A 29      -32.758  47.339  39.780                       C  \\nATOM  213   C    PHE A 29      -31.485  48.109  39.465                       C  \\nATOM  214   O    PHE A 29      -31.130  48.229  38.297                       O  \\nATOM  215   CB   PHE A 29      -32.868  46.141  38.821                       C  \\nATOM  216   CG   PHE A 29      -34.268  45.523  38.909                       C  \\nATOM  217   CD1  PHE A 29      -35.349  46.252  38.462                       C  \\nATOM  218   CE1  PHE A 29      -36.638  45.758  38.619                       C  \\nATOM  219   CZ   PHE A 29      -36.841  44.523  39.217                       C  \\nATOM  220   CE2  PHE A 29      -35.743  43.776  39.650                       C  \\nATOM  221   CD2  PHE A 29      -34.455  44.285  39.497                       C  \",\"pdb\");\n\tviewergrid_1715476308970716[0][1].setStyle({\"model\": -1},{});\n\tviewergrid_1715476308970716[0][1].addStyle({\"model\": -1},{\"cartoon\": {\"color\": \"spectrum\"}});\n\tviewergrid_1715476308970716[0][1].addStyle({\"model\": -1},{\"stick\": {\"radius\": 0.2}});\n\tviewergrid_1715476308970716[0][0].zoomTo();\n\tviewergrid_1715476308970716[0][1].zoomTo();\n\tviewergrid_1715476308970716[0][0].setBackgroundColor(\"rgb(0,0,0)\",0);\n\tviewergrid_1715476308970716[0][1].setBackgroundColor(\"rgb(0,0,0)\",0);\nviewergrid_1715476308970716[0][1].render();\nviewergrid_1715476308970716[0][0].render();\n});\n</script>",
      "text/html": [
       "<div id=\"3dmolviewer_1715476308970716\"  style=\"position: relative; width: 500px; height: 250px;\">\n",
       "        <p id=\"3dmolwarning_1715476308970716\" style=\"background-color:#ffcccc;color:black\">3Dmol.js failed to load for some reason.  Please check your browser console for error messages.<br></p>\n",
       "        </div>\n",
       "<script>\n",
       "\n",
       "var loadScriptAsync = function(uri){\n",
       "  return new Promise((resolve, reject) => {\n",
       "    //this is to ignore the existence of requirejs amd\n",
       "    var savedexports, savedmodule;\n",
       "    if (typeof exports !== 'undefined') savedexports = exports;\n",
       "    else exports = {}\n",
       "    if (typeof module !== 'undefined') savedmodule = module;\n",
       "    else module = {}\n",
       "\n",
       "    var tag = document.createElement('script');\n",
       "    tag.src = uri;\n",
       "    tag.async = true;\n",
       "    tag.onload = () => {\n",
       "        exports = savedexports;\n",
       "        module = savedmodule;\n",
       "        resolve();\n",
       "    };\n",
       "  var firstScriptTag = document.getElementsByTagName('script')[0];\n",
       "  firstScriptTag.parentNode.insertBefore(tag, firstScriptTag);\n",
       "});\n",
       "};\n",
       "\n",
       "if(typeof $3Dmolpromise === 'undefined') {\n",
       "$3Dmolpromise = null;\n",
       "  $3Dmolpromise = loadScriptAsync('https://cdnjs.cloudflare.com/ajax/libs/3Dmol/2.1.0/3Dmol-min.js');\n",
       "}\n",
       "\n",
       "var viewer_1715476308970716 = null;\n",
       "var warn = document.getElementById(\"3dmolwarning_1715476308970716\");\n",
       "if(warn) {\n",
       "    warn.parentNode.removeChild(warn);\n",
       "}\n",
       "$3Dmolpromise.then(function() {\n",
       "var viewergrid_1715476308970716 = null;\n",
       "viewergrid_1715476308970716 = $3Dmol.createViewerGrid(document.getElementById(\"3dmolviewer_1715476308970716\"),{rows: 1, cols: 2, control_all: true},{backgroundColor:\"white\"});\n",
       "viewer_1715476308970716 = viewergrid_1715476308970716[0][0];\n",
       "viewergrid_1715476308970716[0][0].zoomTo();viewergrid_1715476308970716[0][1].zoomTo();\tviewergrid_1715476308970716[0][0].addModel(\"ATOM  1     N    PRO A 1        83.966   2.539  44.774                       N  \\nATOM  2     CA   PRO A 1        84.176   2.726  43.336                       C  \\nATOM  3     C    PRO A 1        84.073   4.203  42.988                       C  \\nATOM  4     O    PRO A 1        83.400   4.979  43.678                       O  \\nATOM  5     CB   PRO A 1        83.005   1.958  42.716                       C  \\nATOM  6     CG   PRO A 1        82.690   0.940  43.725                       C  \\nATOM  7     CD   PRO A 1        82.769   1.720  45.006                       C  \\nATOM  8     N    GLN A 2        84.727   4.591  41.908                       N  \\nATOM  9     CA   GLN A 2        84.666   5.972  41.506                       C  \\nATOM  10    C    GLN A 2        83.275   6.299  40.973                       C  \\nATOM  11    O    GLN A 2        82.723   5.576  40.147                       O  \\nATOM  12    CB   GLN A 2        85.723   6.267  40.461                       C  \\nATOM  13    CG   GLN A 2        85.700   7.709  40.041                       C  \\nATOM  14    CD   GLN A 2        86.969   8.101  39.381                       C  \\nATOM  15    OE1  GLN A 2        87.840   8.695  40.006                       O  \\nATOM  16    NE2  GLN A 2        87.116   7.735  38.123                       N  \\nATOM  17    N    ASN A 3        82.729   7.411  41.439                       N  \\nATOM  18    CA   ASN A 3        81.400   7.855  41.038                       C  \\nATOM  19    C    ASN A 3        81.457   8.675  39.747                       C  \\nATOM  20    O    ASN A 3        81.423   9.901  39.792                       O  \\nATOM  21    CB   ASN A 3        80.805   8.706  42.170                       C  \\nATOM  22    CG   ASN A 3        79.368   9.108  41.911                       C  \\nATOM  23    OD1  ASN A 3        78.676   8.526  41.059                       O  \\nATOM  24    ND2  ASN A 3        78.901  10.099  42.659                       N  \\nATOM  25    N    ASP A 4        81.538   8.004  38.602                       N  \\nATOM  26    CA   ASP A 4        81.613   8.701  37.318                       C  \\nATOM  27    C    ASP A 4        80.275   9.028  36.684                       C  \\nATOM  28    O    ASP A 4        80.214   9.764  35.689                       O  \\nATOM  29    CB   ASP A 4        82.455   7.908  36.322                       C  \\nATOM  30    CG   ASP A 4        83.915   8.302  36.346                       C  \\nATOM  31    OD1  ASP A 4        84.288   9.172  37.164                       O  \\nATOM  32    OD2  ASP A 4        84.687   7.743  35.531                       O  \\nATOM  33    N    GLY A 5        79.208   8.468  37.242                       N  \\nATOM  34    CA   GLY A 5        77.888   8.721  36.697                       C  \\nATOM  35    C    GLY A 5        77.439   7.640  35.734                       C  \\nATOM  36    O    GLY A 5        78.227   6.775  35.361                       O  \\nATOM  37    N    PRO A 6        76.174   7.683  35.292                       N  \\nATOM  38    CA   PRO A 6        75.580   6.712  34.364                       C  \\nATOM  39    C    PRO A 6        76.215   6.613  32.974                       C  \\nATOM  40    O    PRO A 6        76.285   5.515  32.419                       O  \\nATOM  41    CB   PRO A 6        74.106   7.139  34.314                       C  \\nATOM  42    CG   PRO A 6        74.167   8.622  34.563                       C  \\nATOM  43    CD   PRO A 6        75.196   8.722  35.669                       C  \\nATOM  44    N    SER A 7        76.626   7.742  32.393                       N  \\nATOM  45    CA   SER A 7        77.275   7.739  31.071                       C  \\nATOM  46    C    SER A 7        78.488   8.661  31.083                       C  \\nATOM  47    O    SER A 7        78.439   9.809  30.647                       O  \\nATOM  48    CB   SER A 7        76.299   8.112  29.950                       C  \\nATOM  49    OG   SER A 7        75.408   9.128  30.361                       O  \\nATOM  50    N    PRO A 8        79.617   8.135  31.550                       N  \\nATOM  51    CA   PRO A 8        80.903   8.820  31.674                       C  \\nATOM  52    C    PRO A 8        81.468   9.520  30.445                       C  \\nATOM  53    O    PRO A 8        81.174   9.153  29.307                       O  \\nATOM  54    CB   PRO A 8        81.839   7.688  32.116                       C  \\nATOM  55    CG   PRO A 8        80.923   6.738  32.853                       C  \\nATOM  56    CD   PRO A 8        79.747   6.715  31.922                       C  \\nATOM  57    N    VAL A 9        82.277  10.542  30.713                       N  \\nATOM  58    CA   VAL A 9        82.996  11.298  29.692                       C  \\nATOM  59    C    VAL A 9        84.435  11.282  30.210                       C  \\nATOM  60    O    VAL A 9        84.660  11.120  31.416                       O  \\nATOM  61    CB   VAL A 9        82.471  12.751  29.481                       C  \\nATOM  62    CG1  VAL A 9        81.163  12.727  28.695                       C  \\nATOM  63    CG2  VAL A 9        82.277  13.464  30.802                       C  \\nATOM  64    N    VAL A 10       85.397  11.386  29.299                       N  \\nATOM  65    CA   VAL A 10       86.826  11.336  29.632                       C  \\nATOM  66    C    VAL A 10       87.123  10.249  30.663                       C  \\nATOM  67    O    VAL A 10       87.950  10.413  31.550                       O  \\nATOM  68    CB   VAL A 10       87.431  12.733  30.049                       C  \\nATOM  69    CG1  VAL A 10       87.320  13.723  28.889                       C  \\nATOM  70    CG2  VAL A 10       86.770  13.290  31.313                       C  \\nATOM  71    N    GLN A 11       86.449   9.118  30.503                       N  \\nATOM  72    CA   GLN A 11       86.601   7.981  31.394                       C  \\nATOM  73    C    GLN A 11       87.892   7.249  31.121                       C  \\nATOM  74    O    GLN A 11       88.098   6.730  30.030                       O  \\nATOM  75    CB   GLN A 11       85.442   7.031  31.212                       C  \\nATOM  76    CG   GLN A 11       85.615   5.763  31.968                       C  \\nATOM  77    CD   GLN A 11       84.353   4.948  31.965                       C  \\nATOM  78    OE1  GLN A 11       83.690   4.823  32.988                       O  \\nATOM  79    NE2  GLN A 11       83.981   4.431  30.805                       N  \\nATOM  80    N    ILE A 12       88.741   7.174  32.135                       N  \\nATOM  81    CA   ILE A 12       90.036   6.523  32.008                       C  \\nATOM  82    C    ILE A 12       89.933   5.023  32.292                       C  \\nATOM  83    O    ILE A 12       89.388   4.605  33.317                       O  \\nATOM  84    CB   ILE A 12       91.067   7.171  32.971                       C  \\nATOM  85    CG1  ILE A 12       91.100   8.691  32.768                       C  \\nATOM  86    CD1  ILE A 12       91.913   9.427  33.798                       C  \\nATOM  87    CG2  ILE A 12       92.452   6.594  32.741                       C  \\nATOM  88    N    ILE A 13       90.450   4.211  31.381                       N  \\nATOM  89    CA   ILE A 13       90.425   2.768  31.566                       C  \\nATOM  90    C    ILE A 13       91.648   2.432  32.403                       C  \\nATOM  91    O    ILE A 13       92.710   2.082  31.888                       O  \\nATOM  92    CB   ILE A 13       90.451   2.028  30.205                       C  \\nATOM  93    CG1  ILE A 13       89.271   2.490  29.342                       C  \\nATOM  94    CD1  ILE A 13       87.911   2.413  30.051                       C  \\nATOM  95    CG2  ILE A 13       90.382   0.533  30.420                       C  \\nATOM  96    N    TYR A 14       91.507   2.602  33.707                       N  \\nATOM  97    CA   TYR A 14       92.603   2.343  34.628                       C  \\nATOM  98    C    TYR A 14       93.029   0.900  34.620                       C  \\nATOM  99    O    TYR A 14       92.226   0.002  34.373                       O  \\nATOM  100   CB   TYR A 14       92.185   2.643  36.068                       C  \\nATOM  101   CG   TYR A 14       91.527   3.966  36.270                       C  \\nATOM  102   CD1  TYR A 14       90.156   4.043  36.434                       C  \\nATOM  103   CE1  TYR A 14       89.532   5.252  36.628                       C  \\nATOM  104   CZ   TYR A 14       90.281   6.414  36.656                       C  \\nATOM  105   OH   TYR A 14       89.624   7.617  36.833                       O  \\nATOM  106   CE2  TYR A 14       91.655   6.366  36.493                       C  \\nATOM  107   CD2  TYR A 14       92.272   5.144  36.302                       C  \\nATOM  108   N    SER A 15       94.278   0.681  34.996                       N  \\nATOM  109   CA   SER A 15       94.812  -0.653  35.118                       C  \\nATOM  110   C    SER A 15       94.237  -1.192  36.435                       C  \\nATOM  111   O    SER A 15       93.701  -0.434  37.256                       O  \\nATOM  112   CB   SER A 15       96.336  -0.593  35.200                       C  \\nATOM  113   OG   SER A 15       96.767   0.233  36.272                       O  \\nATOM  114   N    GLU A 16       94.323  -2.502  36.614                       N  \\nATOM  115   CA   GLU A 16       93.856  -3.180  37.820                       C  \\nATOM  116   C    GLU A 16       94.437  -2.565  39.084                       C  \\nATOM  117   O    GLU A 16       93.700  -2.251  40.015                       O  \\nATOM  118   CB   GLU A 16       94.294  -4.650  37.783                       C  \\nATOM  119   CG   GLU A 16       93.334  -5.590  37.116                       C  \\nATOM  120   CD   GLU A 16       92.485  -6.331  38.125                       C  \\nATOM  121   OE1  GLU A 16       91.467  -5.756  38.587                       O  \\nATOM  122   OE2  GLU A 16       92.848  -7.486  38.457                       O  \\nATOM  123   N    LYS A 17       95.767  -2.484  39.137                       N  \\nATOM  124   CA   LYS A 17       96.473  -1.936  40.294                       C  \\nATOM  125   C    LYS A 17       96.010  -0.537  40.669                       C  \\nATOM  126   O    LYS A 17       95.810  -0.243  41.838                       O  \\nATOM  127   CB   LYS A 17       97.983  -1.904  40.047                       C  \\nATOM  128   CG   LYS A 17       98.660  -3.253  40.112                       C  \\nATOM  129   CD   LYS A 17      100.080  -3.190  39.567                       C  \\nATOM  130   CE   LYS A 17      100.960  -2.322  40.435                       C  \\nATOM  131   NZ   LYS A 17      102.384  -2.296  39.984                       N  \\nATOM  132   N    PHE A 18       95.833   0.316  39.663                       N  \\nATOM  133   CA   PHE A 18       95.431   1.699  39.879                       C  \\nATOM  134   C    PHE A 18       94.053   1.792  40.507                       C  \\nATOM  135   O    PHE A 18       93.890   2.389  41.585                       O  \\nATOM  136   CB   PHE A 18       95.475   2.480  38.552                       C  \\nATOM  137   CG   PHE A 18       95.435   3.990  38.716                       C  \\nATOM  138   CD1  PHE A 18       96.579   4.760  38.504                       C  \\nATOM  139   CE1  PHE A 18       96.539   6.164  38.620                       C  \\nATOM  140   CZ   PHE A 18       95.360   6.804  38.950                       C  \\nATOM  141   CE2  PHE A 18       94.211   6.055  39.167                       C  \\nATOM  142   CD2  PHE A 18       94.250   4.648  39.050                       C  \\nATOM  143   N    ARG A 19       93.064   1.205  39.837                       N  \\nATOM  144   CA   ARG A 19       91.699   1.244  40.316                       C  \\nATOM  145   C    ARG A 19       91.557   0.628  41.696                       C  \\nATOM  146   O    ARG A 19       90.765   1.105  42.518                       O  \\nATOM  147   CB   ARG A 19       90.770   0.534  39.348                       C  \\nATOM  148   CG   ARG A 19       89.334   0.591  39.795                       C  \\nATOM  149   CD   ARG A 19       88.444  -0.299  38.955                       C  \\nATOM  150   NE   ARG A 19       88.369   0.140  37.563                       N  \\nATOM  151   CZ   ARG A 19       87.922   1.333  37.158                       C  \\nATOM  152   NH1  ARG A 19       87.501   2.247  38.038                       N  \\nATOM  153   NH2  ARG A 19       87.872   1.606  35.855                       N  \\nATOM  154   N    ASP A 20       92.312  -0.442  41.940                       N  \\nATOM  155   CA   ASP A 20       92.271  -1.135  43.215                       C  \\nATOM  156   C    ASP A 20       92.756  -0.212  44.351                       C  \\nATOM  157   O    ASP A 20       92.052  -0.009  45.344                       O  \\nATOM  158   CB   ASP A 20       93.084  -2.437  43.125                       C  \\nATOM  159   CG   ASP A 20       93.341  -3.069  44.489                       C  \\nATOM  160   OD1  ASP A 20       92.406  -3.653  45.074                       O  \\nATOM  161   OD2  ASP A 20       94.485  -2.969  44.980                       O  \\nATOM  162   N    VAL A 21       93.944   0.361  44.203                       N  \\nATOM  163   CA   VAL A 21       94.457   1.265  45.219                       C  \\nATOM  164   C    VAL A 21       93.518   2.460  45.426                       C  \\nATOM  165   O    VAL A 21       93.194   2.825  46.568                       O  \\nATOM  166   CB   VAL A 21       95.853   1.770  44.842                       C  \\nATOM  167   CG1  VAL A 21       96.203   3.039  45.623                       C  \\nATOM  168   CG2  VAL A 21       96.886   0.675  45.115                       C  \\nATOM  169   N    TYR A 22       93.054   3.053  44.329                       N  \\nATOM  170   CA   TYR A 22       92.176   4.201  44.445                       C  \\nATOM  171   C    TYR A 22       90.799   3.932  45.008                       C  \\nATOM  172   O    TYR A 22       90.241   4.796  45.684                       O  \\nATOM  173   CB   TYR A 22       92.163   5.020  43.165                       C  \\nATOM  174   CG   TYR A 22       93.332   5.973  43.168                       C  \\nATOM  175   CD1  TYR A 22       94.564   5.609  42.620                       C  \\nATOM  176   CE1  TYR A 22       95.667   6.461  42.706                       C  \\nATOM  177   CZ   TYR A 22       95.535   7.687  43.340                       C  \\nATOM  178   OH   TYR A 22       96.618   8.534  43.431                       O  \\nATOM  179   CE2  TYR A 22       94.326   8.069  43.886                       C  \\nATOM  180   CD2  TYR A 22       93.232   7.218  43.800                       C  \\nATOM  181   N    ASP A 23       90.294   2.711  44.826                       N  \\nATOM  182   CA   ASP A 23       88.993   2.335  45.393                       C  \\nATOM  183   C    ASP A 23       89.158   2.246  46.907                       C  \\nATOM  184   O    ASP A 23       88.221   2.530  47.659                       O  \\nATOM  185   CB   ASP A 23       88.524   0.973  44.872                       C  \\nATOM  186   CG   ASP A 23       87.944   1.034  43.469                       C  \\nATOM  187   OD1  ASP A 23       87.690   2.136  42.933                       O  \\nATOM  188   OD2  ASP A 23       87.722  -0.056  42.901                       O  \\nATOM  189   N    TYR A 24       90.327   1.788  47.354                       N  \\nATOM  190   CA   TYR A 24       90.569   1.693  48.786                       C  \\nATOM  191   C    TYR A 24       90.886   3.064  49.355                       C  \\nATOM  192   O    TYR A 24       90.500   3.370  50.486                       O  \\nATOM  193   CB   TYR A 24       91.650   0.657  49.125                       C  \\nATOM  194   CG   TYR A 24       91.080  -0.758  49.179                       C  \\nATOM  195   CD1  TYR A 24       90.952  -1.525  48.017                       C  \\nATOM  196   CE1  TYR A 24       90.326  -2.770  48.039                       C  \\nATOM  197   CZ   TYR A 24       89.820  -3.266  49.237                       C  \\nATOM  198   OH   TYR A 24       89.176  -4.478  49.244                       O  \\nATOM  199   CE2  TYR A 24       89.939  -2.537  50.410                       C  \\nATOM  200   CD2  TYR A 24       90.572  -1.286  50.373                       C  \\nATOM  201   N    PHE A 25       91.547   3.906  48.562                       N  \\nATOM  202   CA   PHE A 25       91.852   5.258  49.012                       C  \\nATOM  203   C    PHE A 25       90.524   5.992  49.212                       C  \\nATOM  204   O    PHE A 25       90.328   6.677  50.219                       O  \\nATOM  205   CB   PHE A 25       92.706   6.007  47.992                       C  \\nATOM  206   CG   PHE A 25       92.922   7.454  48.354                       C  \\nATOM  207   CD1  PHE A 25       93.740   7.799  49.430                       C  \\nATOM  208   CE1  PHE A 25       93.849   9.136  49.848                       C  \\nATOM  209   CZ   PHE A 25       93.139  10.131  49.180                       C  \\nATOM  210   CE2  PHE A 25       92.331   9.801  48.104                       C  \\nATOM  211   CD2  PHE A 25       92.225   8.463  47.691                       C  \\nATOM  212   N    ARG A 26       89.604   5.835  48.260                       N  \\nATOM  213   CA   ARG A 26       88.294   6.471  48.359                       C  \\nATOM  214   C    ARG A 26       87.582   6.035  49.639                       C  \\nATOM  215   O    ARG A 26       86.907   6.834  50.299                       O  \\nATOM  216   CB   ARG A 26       87.425   6.151  47.133                       C  \\nATOM  217   CG   ARG A 26       87.706   7.049  45.927                       C  \\nATOM  218   CD   ARG A 26       86.808   6.717  44.734                       C  \\nATOM  219   NE   ARG A 26       87.308   5.600  43.926                       N  \\nATOM  220   CZ   ARG A 26       88.252   5.712  42.989                       C  \\nATOM  221   NH1  ARG A 26       88.811   6.891  42.740                       N  \\nATOM  222   NH2  ARG A 26       88.627   4.655  42.273                       N  \\nATOM  223   N    GLY A 27      -87.754   4.770  50.005                       N  \\nATOM  224   CA   GLY A 27      -87.127   4.254  51.215                       C  \\nATOM  225   C    GLY A 27      -87.709   4.902  52.469                       C  \\nATOM  226   O    GLY A 27      -86.960   5.367  53.315                       O  \\nATOM  227   N    GLY A 28      -89.032   4.967  52.586                       N  \\nATOM  228   CA   GLY A 28      -89.624   5.556  53.777                       C  \\nATOM  229   C    GLY A 28      -89.368   7.053  53.853                       C  \\nATOM  230   O    GLY A 28      -89.124   7.578  54.936                       O  \\nATOM  231   N    GLY A 29      -89.390   7.733  52.711                       N  \\nATOM  232   CA   GLY A 29      -89.167   9.179  52.682                       C  \\nATOM  233   C    GLY A 29      -87.748   9.487  53.148                       C  \\nATOM  234   O    GLY A 29      -87.531  10.364  53.974                       O  \",\"pdb\");\n",
       "\tviewergrid_1715476308970716[0][0].setStyle({\"model\": -1},{});\n",
       "\tviewergrid_1715476308970716[0][0].addStyle({\"model\": -1},{\"cartoon\": {\"color\": \"spectrum\"}});\n",
       "\tviewergrid_1715476308970716[0][0].addStyle({\"model\": -1},{\"stick\": {\"radius\": 0.2}});\n",
       "\tviewergrid_1715476308970716[0][1].addModel(\"ATOM  1     N    LEU A 1       -32.675  36.926  37.198                       N  \\nATOM  2     CA   LEU A 1       -32.984  35.545  36.803                       C  \\nATOM  3     C    LEU A 1       -31.687  34.789  36.573                       C  \\nATOM  4     O    LEU A 1       -30.829  34.686  37.452                       O  \\nATOM  5     CB   LEU A 1       -33.763  34.778  37.898                       C  \\nATOM  6     CG   LEU A 1       -35.241  35.201  38.012                       C  \\nATOM  7     CD1  LEU A 1       -35.807  34.699  39.349                       C  \\nATOM  8     CD2  LEU A 1       -36.085  34.672  36.839                       C  \\nATOM  9     N    THR A 2       -31.607  34.277  35.392                       N  \\nATOM  10    CA   THR A 2       -30.414  33.580  34.948                       C  \\nATOM  11    C    THR A 2       -30.806  32.309  34.214                       C  \\nATOM  12    O    THR A 2       -31.937  32.215  33.746                       O  \\nATOM  13    CB   THR A 2       -29.773  34.583  33.989                       C  \\nATOM  14    OG1  THR A 2       -28.608  35.203  34.563                       O  \\nATOM  15    CG2  THR A 2       -29.682  34.160  32.517                       C  \\nATOM  16    N    GLY A 3       -29.903  31.352  34.190                       N  \\nATOM  17    CA   GLY A 3       -30.065  30.079  33.451                       C  \\nATOM  18    C    GLY A 3       -31.190  29.216  34.008                       C  \\nATOM  19    O    GLY A 3       -31.387  29.153  35.217                       O  \\nATOM  20    N    GLU A 4       -31.852  28.523  33.118                       N  \\nATOM  21    CA   GLU A 4       -32.966  27.632  33.470                       C  \\nATOM  22    C    GLU A 4       -34.095  28.372  34.204                       C  \\nATOM  23    O    GLU A 4       -34.907  27.766  34.898                       O  \\nATOM  24    CB   GLU A 4       -33.580  27.062  32.173                       C  \\nATOM  25    CG   GLU A 4       -32.661  26.167  31.336                       C  \\nATOM  26    CD   GLU A 4       -33.490  25.664  30.148                       C  \\nATOM  27    OE1  GLU A 4       -34.751  25.646  30.260                       O  \\nATOM  28    OE2  GLU A 4       -32.892  25.279  29.102                       O  \\nATOM  29    N    ALA A 5       -34.235  29.633  33.959                       N  \\nATOM  30    CA   ALA A 5       -35.357  30.329  34.586                       C  \\nATOM  31    C    ALA A 5       -35.115  30.518  36.081                       C  \\nATOM  32    O    ALA A 5       -36.007  30.238  36.870                       O  \\nATOM  33    CB   ALA A 5       -35.513  31.705  33.940                       C  \\nATOM  34    N    LYS A 6       -33.861  30.804  36.408                       N  \\nATOM  35    CA   LYS A 6       -33.344  30.864  37.777                       C  \\nATOM  36    C    LYS A 6       -33.526  29.532  38.499                       C  \\nATOM  37    O    LYS A 6       -34.016  29.513  39.626                       O  \\nATOM  38    CB   LYS A 6       -31.842  31.173  37.697                       C  \\nATOM  39    CG   LYS A 6       -31.086  30.920  39.014                       C  \\nATOM  40    CD   LYS A 6       -30.466  32.191  39.586                       C  \\nATOM  41    CE   LYS A 6       -29.278  31.887  40.511                       C  \\nATOM  42    NZ   LYS A 6       -29.620  30.995  41.627                       N  \\nATOM  43    N    THR A 7       -33.127  28.460  37.860                       N  \\nATOM  44    CA   THR A 7       -33.237  27.125  38.473                       C  \\nATOM  45    C    THR A 7       -34.701  26.787  38.753                       C  \\nATOM  46    O    THR A 7       -35.031  26.158  39.768                       O  \\nATOM  47    CB   THR A 7       -32.699  26.114  37.450                       C  \\nATOM  48    OG1  THR A 7       -31.396  26.540  37.022                       O  \\nATOM  49    CG2  THR A 7       -32.619  24.691  38.020                       C  \\nATOM  50    N    ALA A 8       -35.523  27.242  37.809                       N  \\nATOM  51    CA   ALA A 8       -36.931  26.863  37.829                       C  \\nATOM  52    C    ALA A 8       -37.724  27.623  38.877                       C  \\nATOM  53    O    ALA A 8       -38.573  27.018  39.535                       O  \\nATOM  54    CB   ALA A 8       -37.583  26.976  36.447                       C  \\nATOM  55    N    VAL A 9       -37.396  28.899  39.015                       N  \\nATOM  56    CA   VAL A 9       -37.988  29.732  40.079                       C  \\nATOM  57    C    VAL A 9       -37.561  29.242  41.461                       C  \\nATOM  58    O    VAL A 9       -38.433  29.080  42.313                       O  \\nATOM  59    CB   VAL A 9       -37.653  31.219  39.916                       C  \\nATOM  60    CG1  VAL A 9       -38.049  32.062  41.138                       C  \\nATOM  61    CG2  VAL A 9       -38.291  31.795  38.650                       C  \\nATOM  62    N    GLU A 10      -36.291  28.883  41.615                       N  \\nATOM  63    CA   GLU A 10      -35.810  28.335  42.911                       C  \\nATOM  64    C    GLU A 10      -36.515  27.045  43.294                       C  \\nATOM  65    O    GLU A 10      -36.847  26.863  44.465                       O  \\nATOM  66    CB   GLU A 10      -34.349  27.891  42.822                       C  \\nATOM  67    CG   GLU A 10      -33.321  29.025  42.870                       C  \\nATOM  68    CD   GLU A 10      -31.975  28.311  42.945                       C  \\nATOM  69    OE1  GLU A 10      -30.990  28.952  43.395                       O  \\nATOM  70    OE2  GLU A 10      -31.905  27.107  42.568                       O  \\nATOM  71    N    ASN A 11      -36.491  26.119  42.354                       N  \\nATOM  72    CA   ASN A 11      -36.970  24.752  42.642                       C  \\nATOM  73    C    ASN A 11      -38.461  24.719  42.935                       C  \\nATOM  74    O    ASN A 11      -38.891  23.927  43.780                       O  \\nATOM  75    CB   ASN A 11      -36.678  23.811  41.470                       C  \\nATOM  76    CG   ASN A 11      -35.192  23.479  41.541                       C  \\nATOM  77    OD1  ASN A 11      -34.673  22.769  40.685                       O  \\nATOM  78    ND2  ASN A 11      -34.545  23.990  42.568                       N  \\nATOM  79    N    TYR A 12      -39.155  25.673  42.324                       N  \\nATOM  80    CA   TYR A 12      -40.546  25.931  42.655                       C  \\nATOM  81    C    TYR A 12      -40.645  26.442  44.098                       C  \\nATOM  82    O    TYR A 12      -41.441  25.933  44.879                       O  \\nATOM  83    CB   TYR A 12      -41.216  26.899  41.644                       C  \\nATOM  84    CG   TYR A 12      -42.673  27.136  42.089                       C  \\nATOM  85    CD1  TYR A 12      -42.999  28.275  42.793                       C  \\nATOM  86    CE1  TYR A 12      -44.256  28.400  43.382                       C  \\nATOM  87    CZ   TYR A 12      -45.172  27.373  43.264                       C  \\nATOM  88    OH   TYR A 12      -46.366  27.464  43.885                       O  \\nATOM  89    CE2  TYR A 12      -44.858  26.240  42.555                       C  \\nATOM  90    CD2  TYR A 12      -43.596  26.121  41.967                       C  \\nATOM  91    N    LEU A 13      -39.870  27.465  44.396                       N  \\nATOM  92    CA   LEU A 13      -39.964  28.155  45.695                       C  \\nATOM  93    C    LEU A 13      -39.689  27.159  46.811                       C  \\nATOM  94    O    LEU A 13      -40.295  27.252  47.880                       O  \\nATOM  95    CB   LEU A 13      -38.920  29.290  45.743                       C  \\nATOM  96    CG   LEU A 13      -39.532  30.684  45.544                       C  \\nATOM  97    CD1  LEU A 13      -40.980  30.701  45.034                       C  \\nATOM  98    CD2  LEU A 13      -38.623  31.691  44.817                       C  \\nATOM  99    N    ILE A 14      -38.863  26.187  46.498                       N  \\nATOM  100   CA   ILE A 14      -38.521  25.181  47.509                       C  \\nATOM  101   C    ILE A 14      -39.676  24.217  47.704                       C  \\nATOM  102   O    ILE A 14      -39.988  23.868  48.840                       O  \\nATOM  103   CB   ILE A 14      -37.284  24.342  47.124                       C  \\nATOM  104   CG1  ILE A 14      -35.982  25.159  47.050                       C  \\nATOM  105   CD1  ILE A 14      -34.847  24.244  46.547                       C  \\nATOM  106   CG2  ILE A 14      -37.087  23.117  48.036                       C  \\nATOM  107   N    GLY A 15      -40.321  23.847  46.639                       N  \\nATOM  108   CA   GLY A 15      -41.382  22.849  46.850                       C  \\nATOM  109   C    GLY A 15      -42.750  23.444  47.169                       C  \\nATOM  110   O    GLY A 15      -43.680  22.681  47.413                       O  \\nATOM  111   N    SER A 16      -42.885  24.744  46.983                       N  \\nATOM  112   CA   SER A 16      -44.207  25.412  47.039                       C  \\nATOM  113   C    SER A 16      -44.790  25.350  48.443                       C  \\nATOM  114   O    SER A 16      -44.129  25.790  49.382                       O  \\nATOM  115   CB   SER A 16      -44.097  26.899  46.658                       C  \\nATOM  116   OG   SER A 16      -45.354  27.542  46.905                       O  \\nATOM  117   N    PRO A 17      -46.023  24.877  48.507                       N  \\nATOM  118   CA   PRO A 17      -46.845  24.946  49.739                       C  \\nATOM  119   C    PRO A 17      -47.353  26.354  50.039                       C  \\nATOM  120   O    PRO A 17      -47.827  26.602  51.148                       O  \\nATOM  121   CB   PRO A 17      -48.031  24.033  49.431                       C  \\nATOM  122   CG   PRO A 17      -48.154  24.033  47.917                       C  \\nATOM  123   CD   PRO A 17      -46.752  24.293  47.373                       C  \\nATOM  124   N    VAL A 18      -47.413  27.182  49.015                       N  \\nATOM  125   CA   VAL A 18      -48.068  28.491  49.124                       C  \\nATOM  126   C    VAL A 18      -47.069  29.564  49.537                       C  \\nATOM  127   O    VAL A 18      -47.306  30.344  50.454                       O  \\nATOM  128   CB   VAL A 18      -48.641  28.869  47.747                       C  \\nATOM  129   CG1  VAL A 18      -49.383  30.220  47.770                       C  \\nATOM  130   CG2  VAL A 18      -49.498  27.741  47.166                       C  \\nATOM  131   N    VAL A 19      -46.027  29.644  48.772                       N  \\nATOM  132   CA   VAL A 19      -45.034  30.694  48.937                       C  \\nATOM  133   C    VAL A 19      -44.002  30.258  49.989                       C  \\nATOM  134   O    VAL A 19      -43.374  29.217  49.833                       O  \\nATOM  135   CB   VAL A 19      -44.348  30.970  47.561                       C  \\nATOM  136   CG1  VAL A 19      -43.523  32.270  47.555                       C  \\nATOM  137   CG2  VAL A 19      -45.326  30.962  46.354                       C  \\nATOM  138   N    ASP A 20      -43.716  31.170  50.911                       N  \\nATOM  139   CA   ASP A 20      -42.543  31.118  51.777                       C  \\nATOM  140   C    ASP A 20      -41.478  32.049  51.201                       C  \\nATOM  141   O    ASP A 20      -41.643  33.269  51.151                       O  \\nATOM  142   CB   ASP A 20      -42.913  31.525  53.210                       C  \\nATOM  143   CG   ASP A 20      -41.682  31.623  54.110                       C  \\nATOM  144   OD1  ASP A 20      -41.837  32.190  55.223                       O  \\nATOM  145   OD2  ASP A 20      -40.572  31.147  53.732                       O  \\nATOM  146   N    SER A 21      -40.408  31.425  50.752                       N  \\nATOM  147   CA   SER A 21      -39.373  32.186  50.042                       C  \\nATOM  148   C    SER A 21      -38.691  33.145  51.001                       C  \\nATOM  149   O    SER A 21      -38.030  34.084  50.576                       O  \\nATOM  150   CB   SER A 21      -38.317  31.263  49.386                       C  \\nATOM  151   OG   SER A 21      -37.565  30.552  50.382                       O  \\nATOM  152   N    GLN A 22      -38.889  32.901  52.265                       N  \\nATOM  153   CA   GLN A 22      -38.255  33.773  53.241                       C  \\nATOM  154   C    GLN A 22      -39.043  35.048  53.472                       C  \\nATOM  155   O    GLN A 22      -38.534  35.936  54.140                       O  \\nATOM  156   CB   GLN A 22      -38.062  33.031  54.566                       C  \\nATOM  157   CG   GLN A 22      -36.607  33.220  55.046                       C  \\nATOM  158   CD   GLN A 22      -35.627  32.651  54.012                       C  \\nATOM  159   OE1  GLN A 22      -34.547  33.221  53.830                       O  \\nATOM  160   NE2  GLN A 22      -36.008  31.538  53.383                       N  \\nATOM  161   N    LYS A 23      -40.201  35.146  52.839                       N  \\nATOM  162   CA   LYS A 23      -40.993  36.350  53.030                       C  \\nATOM  163   C    LYS A 23      -40.914  37.229  51.794                       C  \\nATOM  164   O    LYS A 23      -41.359  38.378  51.833                       O  \\nATOM  165   CB   LYS A 23      -42.449  35.986  53.356                       C  \\nATOM  166   CG   LYS A 23      -42.573  35.188  54.661                       C  \\nATOM  167   CD   LYS A 23      -44.005  35.267  55.237                       C  \\nATOM  168   CE   LYS A 23      -44.255  34.357  56.474                       C  \\nATOM  169   NZ   LYS A 23      -44.541  32.950  56.080                       N  \\nATOM  170   N    LEU A 24      -40.188  36.714  50.805                       N  \\nATOM  171   CA   LEU A 24      -39.889  37.466  49.561                       C  \\nATOM  172   C    LEU A 24      -38.904  38.606  49.789                       C  \\nATOM  173   O    LEU A 24      -37.797  38.405  50.274                       O  \\nATOM  174   CB   LEU A 24      -39.301  36.556  48.459                       C  \\nATOM  175   CG   LEU A 24      -40.343  35.581  47.905                       C  \\nATOM  176   CD1  LEU A 24      -39.702  34.481  47.037                       C  \\nATOM  177   CD2  LEU A 24      -41.503  36.332  47.224                       C  \\nATOM  178   N    VAL A 25      -39.216  39.721  49.212                       N  \\nATOM  179   CA   VAL A 25      -38.246  40.788  49.117                       C  \\nATOM  180   C    VAL A 25      -37.889  41.047  47.650                       C  \\nATOM  181   O    VAL A 25      -38.781  41.282  46.850                       O  \\nATOM  182   CB   VAL A 25      -38.855  42.041  49.780                       C  \\nATOM  183   CG1  VAL A 25      -37.890  43.230  49.738                       C  \\nATOM  184   CG2  VAL A 25      -39.274  41.746  51.232                       C  \\nATOM  185   N    TYR A 26      -36.623  40.930  47.297                       N  \\nATOM  186   CA   TYR A 26      -36.121  41.105  45.925                       C  \\nATOM  187   C    TYR A 26      -35.966  42.575  45.587                       C  \\nATOM  188   O    TYR A 26      -35.552  43.364  46.441                       O  \\nATOM  189   CB   TYR A 26      -34.773  40.398  45.732                       C  \\nATOM  190   CG   TYR A 26      -35.008  38.877  45.612                       C  \\nATOM  191   CD1  TYR A 26      -35.326  38.107  46.713                       C  \\nATOM  192   CE1  TYR A 26      -35.633  36.752  46.562                       C  \\nATOM  193   CZ   TYR A 26      -35.608  36.183  45.298                       C  \\nATOM  194   OH   TYR A 26      -35.873  34.856  45.127                       O  \\nATOM  195   CE2  TYR A 26      -35.302  36.960  44.197                       C  \\nATOM  196   CD2  TYR A 26      -35.008  38.306  44.360                       C  \\nATOM  197   N    SER A 27      -36.389  42.924  44.374                       N  \\nATOM  198   CA   SER A 27      -36.313  44.326  43.975                       C  \\nATOM  199   C    SER A 27      -34.890  44.768  43.673                       C  \\nATOM  200   O    SER A 27      -34.056  43.948  43.276                       O  \\nATOM  201   CB   SER A 27      -37.234  44.677  42.801                       C  \\nATOM  202   OG   SER A 27      -38.600  44.552  43.223                       O  \\nATOM  203   N    ASP A 28      -34.718  46.078  43.809                       N  \\nATOM  204   CA   ASP A 28      -33.493  46.803  43.467                       C  \\nATOM  205   C    ASP A 28      -33.642  47.370  42.068                       C  \\nATOM  206   O    ASP A 28      -34.495  48.236  41.883                       O  \\nATOM  207   CB   ASP A 28      -33.401  48.040  44.377                       C  \\nATOM  208   CG   ASP A 28      -32.027  48.711  44.242                       C  \\nATOM  209   OD1  ASP A 28      -31.847  49.786  44.862                       O  \\nATOM  210   OD2  ASP A 28      -31.124  48.178  43.539                       O  \\nATOM  211   N    PHE A 29      -32.770  46.915  41.188                       N  \\nATOM  212   CA   PHE A 29      -32.758  47.339  39.780                       C  \\nATOM  213   C    PHE A 29      -31.485  48.109  39.465                       C  \\nATOM  214   O    PHE A 29      -31.130  48.229  38.297                       O  \\nATOM  215   CB   PHE A 29      -32.868  46.141  38.821                       C  \\nATOM  216   CG   PHE A 29      -34.268  45.523  38.909                       C  \\nATOM  217   CD1  PHE A 29      -35.349  46.252  38.462                       C  \\nATOM  218   CE1  PHE A 29      -36.638  45.758  38.619                       C  \\nATOM  219   CZ   PHE A 29      -36.841  44.523  39.217                       C  \\nATOM  220   CE2  PHE A 29      -35.743  43.776  39.650                       C  \\nATOM  221   CD2  PHE A 29      -34.455  44.285  39.497                       C  \",\"pdb\");\n",
       "\tviewergrid_1715476308970716[0][1].setStyle({\"model\": -1},{});\n",
       "\tviewergrid_1715476308970716[0][1].addStyle({\"model\": -1},{\"cartoon\": {\"color\": \"spectrum\"}});\n",
       "\tviewergrid_1715476308970716[0][1].addStyle({\"model\": -1},{\"stick\": {\"radius\": 0.2}});\n",
       "\tviewergrid_1715476308970716[0][0].zoomTo();\n",
       "\tviewergrid_1715476308970716[0][1].zoomTo();\n",
       "\tviewergrid_1715476308970716[0][0].setBackgroundColor(\"rgb(0,0,0)\",0);\n",
       "\tviewergrid_1715476308970716[0][1].setBackgroundColor(\"rgb(0,0,0)\",0);\n",
       "viewergrid_1715476308970716[0][1].render();\n",
       "viewergrid_1715476308970716[0][0].render();\n",
       "});\n",
       "</script>"
      ]
     },
     "metadata": {},
     "output_type": "display_data"
    },
    {
     "data": {
      "text/html": [
       "<div>\n",
       "<style scoped>\n",
       "    .dataframe tbody tr th:only-of-type {\n",
       "        vertical-align: middle;\n",
       "    }\n",
       "\n",
       "    .dataframe tbody tr th {\n",
       "        vertical-align: top;\n",
       "    }\n",
       "\n",
       "    .dataframe thead th {\n",
       "        text-align: right;\n",
       "    }\n",
       "</style>\n",
       "<table border=\"1\" class=\"dataframe\">\n",
       "  <thead>\n",
       "    <tr style=\"text-align: right;\">\n",
       "      <th></th>\n",
       "      <th>index</th>\n",
       "      <th>pdb_id</th>\n",
       "      <th>level</th>\n",
       "      <th>level_idx</th>\n",
       "      <th>scalar_rep</th>\n",
       "      <th>datum</th>\n",
       "      <th>pos</th>\n",
       "      <th>color</th>\n",
       "    </tr>\n",
       "  </thead>\n",
       "  <tbody>\n",
       "    <tr>\n",
       "      <th>148</th>\n",
       "      <td>2698</td>\n",
       "      <td>1d8dA</td>\n",
       "      <td>3</td>\n",
       "      <td>3</td>\n",
       "      <td>[-0.16150405, 0.32125413, -0.7088042, -0.23634...</td>\n",
       "      <td>(((&lt;moleculib.protein.datum.ProteinDatum objec...</td>\n",
       "      <td>None</td>\n",
       "      <td>None</td>\n",
       "    </tr>\n",
       "    <tr>\n",
       "      <th>347</th>\n",
       "      <td>5496</td>\n",
       "      <td>1bbpB</td>\n",
       "      <td>3</td>\n",
       "      <td>17</td>\n",
       "      <td>[-0.22799984, 0.29626125, -0.66253763, -0.2405...</td>\n",
       "      <td>(((&lt;moleculib.protein.datum.ProteinDatum objec...</td>\n",
       "      <td>None</td>\n",
       "      <td>None</td>\n",
       "    </tr>\n",
       "  </tbody>\n",
       "</table>\n",
       "</div>"
      ],
      "text/plain": [
       "     index pdb_id  level  level_idx  \\\n",
       "148   2698  1d8dA      3          3   \n",
       "347   5496  1bbpB      3         17   \n",
       "\n",
       "                                            scalar_rep  \\\n",
       "148  [-0.16150405, 0.32125413, -0.7088042, -0.23634...   \n",
       "347  [-0.22799984, 0.29626125, -0.66253763, -0.2405...   \n",
       "\n",
       "                                                 datum   pos color  \n",
       "148  (((<moleculib.protein.datum.ProteinDatum objec...  None  None  \n",
       "347  (((<moleculib.protein.datum.ProteinDatum objec...  None  None  "
      ]
     },
     "metadata": {},
     "output_type": "display_data"
    },
    {
     "name": "stdout",
     "output_type": "stream",
     "text": [
      "D <moleculib.protein.datum.ProteinDatum object at 0x7fcca8bc6710>\n",
      "D <moleculib.protein.datum.ProteinDatum object at 0x7fcce98114e0>\n",
      "0.000573427150875494\n"
     ]
    },
    {
     "data": {
      "text/plain": [
       "True"
      ]
     },
     "execution_count": 165,
     "metadata": {},
     "output_type": "execute_result"
    }
   ],
   "source": [
    "\n",
    "sgraph = RadiusNeighbors(df_small)\n",
    "lvl3_graph, lvl3_df = sgraph.get_radius_neighbors(radius=0.075, level=3, sorted=False)\n",
    "\n",
    "sorted_distances = sort_distance_graph(lvl3_graph, start=1000)\n",
    "x, y = sorted_distances[0][1]\n",
    "\n",
    "compute_distance_matrix = ComputeDistanceMatrix(df_small)\n",
    "lvl3_distances, lvl3_df2 = compute_distance_matrix(3, return_df=True)\n",
    "\n",
    "graph_metric = lvl3_graph[x, y]\n",
    "matrix_metric = lvl3_distances[x, y]\n",
    "\n",
    "print(f\"Graph metric: {graph_metric}\")\n",
    "print(f\"Matrix metric: {matrix_metric}\")\n",
    "\n",
    "# Now get the appropriate object\n",
    "PlotProteinDatum(lvl3_df2)([x, y]).show()\n",
    "PlotProteinDatum(lvl3_df)([x, y])\n",
    "\n"
   ]
  },
  {
   "cell_type": "code",
   "execution_count": null,
   "metadata": {},
   "outputs": [],
   "source": [
    "x, y = 148, 347\n",
    "print(lvl3_graph[x, y])\n",
    "display(PlotProteinDatum(lvl3_df)([x, y], show_df=True))"
   ]
  },
  {
   "cell_type": "code",
   "execution_count": null,
   "metadata": {},
   "outputs": [],
   "source": [
    "sample_datum"
   ]
  },
  {
   "cell_type": "markdown",
   "metadata": {},
   "source": [
    "### Map `pk_to_rowcol_indices()` through `cascading_edges`, and get scores"
   ]
  },
  {
   "cell_type": "code",
   "execution_count": null,
   "metadata": {},
   "outputs": [],
   "source": [
    "class HierarchicalDistanceTracker:\n",
    "    def __init__(self, df, edges_bottom_up, drop_na=True):\n",
    "        self.df = df.dropna(subset=['datum']) if drop_na else df\n",
    "        self.cascading_edges = CascadingEdges(edges_bottom_up)\n",
    "        self.edges_bottom_up = edges_bottom_up\n",
    "        self.distance_matrices = {}\n",
    "        self.level_dfs = {}\n",
    "\n",
    "    def compute_distance_matrix(self, level, return_df=False):\n",
    "        level_df = self.df[self.df['level'] == level]\n",
    "        distance_matrix = pairwise_distances(level_df['scalars'].tolist(), metric='cosine')\n",
    "        if return_df:\n",
    "            return distance_matrix, level_df\n",
    "        return distance_matrix\n",
    "\n",
    "    def cascade_pair(self, idx1, idx2):\n",
    "        level1 = self.df[self.df['pk'] == idx1]['level'].iloc[0] \n",
    "        level2 = self.df[self.df['pk'] == idx2]['level'].iloc[0]\n",
    "        assert level1 == level2, f\"Index {idx1} and {idx2} are not at the same level ({level1} != {level2}). Cannot cascade.\"\n",
    "        level = level1\n",
    "\n",
    "        if level not in self.distance_matrices:\n",
    "            self.distance_matrices[level], self.level_dfs[level] = self.compute_distance_matrix(level, return_df=True)\n",
    "        \n",
    "        idx1 = self.level_dfs[level].index[self.level_dfs[level]['pk'] == idx1].tolist()[0]\n",
    "        idx2 = self.level_dfs[level].index[self.level_dfs[level]['pk'] == idx2].tolist()[0]\n",
    "\n",
    "        dist = self.distance_matrices[level][idx1, idx2]\n",
    "\n",
    "        if level == 0:\n",
    "            return [dist]\n",
    "        \n",
    "        pk1_prev, pk2_prev = self.cascading_edges.get_parent_pks(level, pk1, pk2)\n",
    "        return self.cascade_pair(pk1_prev, pk2_prev) + [dist]\n",
    "\n",
    "tracker2 = HierarchicalDistanceTracker(df_small, edges_bottom_up)\n",
    "tracker2.cascade_pair(4756, 5788)\n"
   ]
  },
  {
   "cell_type": "code",
   "execution_count": null,
   "metadata": {},
   "outputs": [],
   "source": [
    "lvl2_graph, lvl2_df = tracker.compute_distance_matrix(level=2, return_df=True)\n",
    "lvl2_sorted = sort_distance_graph(lvl2_graph, k=10)\n",
    "print(lvl2_sorted)\n"
   ]
  },
  {
   "cell_type": "code",
   "execution_count": null,
   "metadata": {},
   "outputs": [],
   "source": [
    "Sequence = lambda datum: [all_residues[token] for token in datum.residue_token]\n",
    "\n",
    "converted_pks = rowcol_indices_to_pk_pair(lvl2_df, *lvl2_sorted[-1][1])\n",
    "print(converted_pks)\n",
    "# plot_protein_datum(lvl2_sorted[0][1], show_df=True).show()\n",
    "plot_protein_datum(list(converted_pks), show_df=True).show()\n",
    "\n",
    "protein_pair = get_column(df_small, pk=list(converted_pks), column='datum')\n",
    "print(protein_pair)\n",
    "print(Sequence(protein_pair[0]))\n",
    "print(Sequence(protein_pair[1]))\n",
    "\n"
   ]
  },
  {
   "cell_type": "code",
   "execution_count": null,
   "metadata": {},
   "outputs": [],
   "source": [
    "tracker.cascade_pair(4756, 5788)"
   ]
  },
  {
   "cell_type": "code",
   "execution_count": null,
   "metadata": {},
   "outputs": [],
   "source": [
    "plot = tracker.plot_distributions()"
   ]
  },
  {
   "cell_type": "markdown",
   "metadata": {},
   "source": [
    "### Chat generated"
   ]
  },
  {
   "cell_type": "code",
   "execution_count": null,
   "metadata": {},
   "outputs": [],
   "source": [
    "\n",
    "class HierarchicalDistanceTracker_chat:\n",
    "    def __init__(self, df, edges_bottom_up, drop_na=True):\n",
    "        self.df = df.dropna(subset=['datum']) if drop_na else df\n",
    "        self.cascading_edges = CascadingEdges(edges_bottom_up)\n",
    "        self.edges_bottom_up = edges_bottom_up\n",
    "        self.distance_matrices = {}\n",
    "        self.level_dfs = {}\n",
    "\n",
    "    def compute_distance_matrix(self, level: int):\n",
    "        \"\"\" Compute or retrieve a cached distance matrix for a given level. \"\"\"\n",
    "        if level in self.distance_matrices:\n",
    "            return self.distance_matrices[level]\n",
    "\n",
    "        level_df = self.df[self.df['level'] == level]\n",
    "        if level_df.empty:\n",
    "            raise ValueError(f\"No data found for level {level}\")\n",
    "\n",
    "        # Assuming 'scalars' is a list of vectors\n",
    "        scalars = np.stack(level_df['scalars'].tolist())\n",
    "        distances = pairwise_distances(scalars, metric='cosine')\n",
    "        self.distance_matrices[level] = csr_matrix(distances)\n",
    "        self.level_dfs[level] = level_df.reset_index(drop=True)\n",
    "        return self.distance_matrices[level]\n",
    "\n",
    "    def track_distances_across_levels(self, pk1: int, pk2: int):\n",
    "        \"\"\"Track distances across levels for a given pair of primary keys.\"\"\"\n",
    "        distances_across_levels = []\n",
    "        try:\n",
    "            initial_level = self.df[self.df['pk'] == pk1]['level'].iloc[0]\n",
    "            assert self.df[self.df['pk'] == pk2]['level'].iloc[0] == initial_level, \"PKs must be at the same level\"\n",
    "\n",
    "            current_pks = [pk1, pk2]\n",
    "            current_level = initial_level\n",
    "\n",
    "            while current_level in self.levels:\n",
    "                if current_level not in self.distance_matrices:\n",
    "                    self.compute_distance_matrix(current_level)\n",
    "\n",
    "                indices = [self.level_dfs[current_level][self.level_dfs[current_level]['pk'] == pk].index[0] for pk in current_pks]\n",
    "                distance = self.distance_matrices[current_level][indices[0], indices[1]]\n",
    "                distances_across_levels.append(distance)\n",
    "\n",
    "                cascading_pks = [self.cascading_edges(pk) for pk in current_pks]\n",
    "                if None in cascading_pks:\n",
    "                    break\n",
    "\n",
    "                current_pks = cascading_pks\n",
    "                current_level += 1\n",
    "\n",
    "        except Exception as e:\n",
    "            print(f\"An error occurred: {e}\")\n",
    "\n",
    "        return distances_across_levels\n",
    "\n",
    "    def plot_distance_matrix(self, level: int):\n",
    "        if level not in self.distance_matrices:\n",
    "            self.compute_distance_matrix(level)\n",
    "        \n",
    "        distance_matrix = self.distance_matrices[level].toarray()\n",
    "        plt.imshow(distance_matrix, cmap='viridis')\n",
    "        plt.colorbar()\n",
    "        plt.title(f\"Level {level} Distance Matrix\")\n",
    "        plt.show()\n",
    "\n",
    "    @property\n",
    "    def levels(self):\n",
    "        return sorted(self.df['level'].unique())\n",
    "\n",
    "\n",
    "tracker = HierarchicalDistanceTracker_chat(df_small, edges_bottom_up)\n"
   ]
  },
  {
   "cell_type": "code",
   "execution_count": null,
   "metadata": {},
   "outputs": [],
   "source": [
    "get_column(df_small, pk=[4756, 5788])"
   ]
  },
  {
   "cell_type": "code",
   "execution_count": null,
   "metadata": {},
   "outputs": [],
   "source": [
    "tracker.track_distances_across_levels(4756, 5788)"
   ]
  },
  {
   "cell_type": "markdown",
   "metadata": {},
   "source": [
    "### Similarity Graphs"
   ]
  },
  {
   "cell_type": "code",
   "execution_count": null,
   "metadata": {},
   "outputs": [],
   "source": [
    "%%time\n",
    "\n",
    "def plot_similarity_histograms(lvl_data_list):\n",
    "    plt.figure(figsize=(15, 10))\n",
    "    \n",
    "    for i, lvl_data in enumerate(lvl_data_list, start=1):\n",
    "        plt.subplot(3, 2, i)\n",
    "        plt.hist(lvl_data, bins=30, alpha=0.75)\n",
    "        plt.title(f\"Histogram of Lvl {i-1} Similarity Distances\")\n",
    "        plt.xlabel(\"Similarity Distance\")\n",
    "        plt.ylabel(\"Count\")\n",
    "    \n",
    "    plt.tight_layout()\n",
    "    plt.show()\n",
    "\n",
    "# Example usage:\n",
    "plot_similarity_histograms([lvl0_data, lvl1_data, lvl2_data, lvl3_data, lvl4_data])\n",
    "\n",
    "\n"
   ]
  },
  {
   "cell_type": "code",
   "execution_count": null,
   "metadata": {},
   "outputs": [],
   "source": []
  }
 ],
 "metadata": {
  "kernelspec": {
   "display_name": "Python 3 (ipykernel)",
   "language": "python",
   "name": "python3"
  }
 },
 "nbformat": 4,
 "nbformat_minor": 4
}
