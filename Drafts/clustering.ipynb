{
 "cells": [
  {
   "cell_type": "markdown",
   "metadata": {},
   "source": [
    "# Algorithms for Clustering.\n",
    "\n",
    "Supports KMeans and DBSCAN. Also performs preliminary tests for optimal algorithm parameters."
   ]
  },
  {
   "cell_type": "markdown",
   "metadata": {},
   "source": [
    "### Imports and Preamble"
   ]
  },
  {
   "cell_type": "code",
   "execution_count": 46,
   "metadata": {},
   "outputs": [],
   "source": [
    "# Algorithms\n",
    "\n",
    "import os\n",
    "import sys\n",
    "from typing import List, Dict, Tuple, Union \n",
    "\n",
    "\n",
    "module_path1 = os.path.abspath(os.path.join('../..'))\n",
    "module_path2 = os.path.abspath(os.path.join('..'))\n",
    "if module_path1 not in sys.path:\n",
    "    sys.path.append(module_path1)\n",
    "if module_path2 not in sys.path:\n",
    "    sys.path.append(module_path2)\n",
    "\n",
    "import numpy as np\n",
    "import pandas as pd\n",
    "import jax\n",
    "import jax.numpy as jnp\n",
    "import math\n",
    "from tqdm import tqdm\n",
    "import pickle\n",
    "import json\n",
    "import networkx as nx\n",
    "from ipysigma import Sigma\n",
    "\n",
    "import matplotlib.pyplot as plt\n",
    "import plotly.graph_objects as go\n",
    "from plotly.subplots import make_subplots\n",
    "\n",
    "from moleculib.protein.datum import ProteinDatum\n",
    "from moleculib.graphics.py3Dmol import plot_py3dmol, plot_py3dmol_grid\n",
    "\n",
    "from helpers_new import populate_representations, connect_edges, whatis\n",
    "\n",
    "\n",
    "\n",
    "\"\"\"Code to save things to json files\"\"\"\n",
    "def save_df(df, filename, folder='data/'):\n",
    "\n",
    "    # Convert the DataFrame to a JSON string including the index\n",
    "    # json_data = df.to_json(orient='index')\n",
    "    df.to_json(f'{folder}/{filename}.json', orient='records')\n",
    "\n",
    "    # # Save the JSON data to a file\n",
    "    # with open(f'{folder}/{filename}.json', 'w') as file:\n",
    "    #     file.write(json_data)\n",
    "    print(f\"DataFrame saved as JSON to {folder}/{filename}.json\")\n",
    "\n",
    "def save_edges(edges_bottom_up, filename, folder='data/'):\n",
    "    \n",
    "    # Convert the edges_bottom_up dictionary to a list of tuples with integers\n",
    "    edges_bottom_up_tuples = [(int(k), int(v)) for k, v in edges_bottom_up.items()]\n",
    "\n",
    "    # Convert the list of tuples to JSON format\n",
    "    edges_bottom_up_json = json.dumps(edges_bottom_up_tuples)\n",
    "\n",
    "    # Save the JSON data to a file\n",
    "    with open(f'{folder}/{filename}.json', 'w') as file:\n",
    "        file.write(edges_bottom_up_json)\n",
    "\n",
    "    print(f\"edges_bottom_up has been saved to {folder}/{filename}.json\")\n",
    "\n",
    "\n"
   ]
  },
  {
   "cell_type": "code",
   "execution_count": null,
   "metadata": {},
   "outputs": [],
   "source": [
    "FOLDER_PREAMBLE = \"../scripts/\"\n",
    "FOLDER = FOLDER_PREAMBLE + \"denim-energy-1008-embeddings\"\n",
    "embeddings_file = \"encoded_dataset.pkl\"\n",
    "sliced_proteins_file = \"sliced_dataset.pkl\"\n",
    "tsne_file = \"encoded_dataset_tsne.json\"\n",
    "\n",
    "\n",
    "# Open both and store\n",
    "with open(f\"{FOLDER}/{embeddings_file}\", \"rb\") as f:\n",
    "    encoded_dataset = pickle.load(f)\n",
    "with open(f\"{FOLDER}/{sliced_proteins_file}\", \"rb\") as f:\n",
    "    sliced_dataset = pickle.load(f)\n",
    "\n",
    "# Load the tsne file\n",
    "with open(f\"{FOLDER}/{tsne_file}\", \"r\") as f:\n",
    "    tsne_data = json.load(f)\n",
    "\n",
    "\n",
    "# Make objects\n",
    "reps, mismatches = populate_representations(encoded_dataset, sliced_dataset, tsne_data)\n",
    "df = reps.to_dataframe()\n",
    "print(f\"Loaded dataframe with shape: {df.shape}\")\n",
    "\n",
    "# Get a subset of df which does not include level 0\n",
    "upper_df = df[df['level'] != 0]\n",
    "print(f\"Dataframe shape without level 0: {upper_df.shape}\")\n",
    "\n",
    "\n",
    "# Count the \"None\" datums\n",
    "n_none_datums = df[df['datum'].isnull()].shape[0]\n",
    "print(f\"Number of None datums: {n_none_datums}\")\n",
    "\n",
    "\n",
    "\n",
    "# Slice into a partial DataFrame, getting roughly\n",
    "# 20% of each level\n",
    "df_sample = df.groupby(['pdb_id', 'level']).apply(lambda x: x.sample(frac=0.2)).reset_index(drop=True)\n",
    "print(df_sample.shape)\n",
    "df_sample.head()\n",
    "\n",
    "# Verify that the sample has about 20% of each level\n",
    "display(df_sample.groupby(['pdb_id', 'level']).size().reset_index(name='counts'))\n",
    "\n",
    "# Now save the df sample into an original DataFrame and make a new one\n",
    "# filtering out the None datums\n",
    "df_original = df_sample.copy()\n",
    "df_sample = df_original[~df_original['datum'].isnull()]\n",
    "print(\"Final working version of sample:\")\n",
    "df_sample.head()\n",
    "\n"
   ]
  },
  {
   "cell_type": "code",
   "execution_count": 30,
   "metadata": {},
   "outputs": [
    {
     "name": "stdout",
     "output_type": "stream",
     "text": [
      "5375\n"
     ]
    },
    {
     "data": {
      "text/plain": [
       "(204948, 7)"
      ]
     },
     "execution_count": 30,
     "metadata": {},
     "output_type": "execute_result"
    }
   ],
   "source": [
    "# Verify no nans\n",
    "print(upper_df.isnull().sum().sum())\n",
    "\n",
    "# upper_df_notna = upper_df.dropna().reset_index(drop=True)\n",
    "upper_df_notna.shape"
   ]
  },
  {
   "cell_type": "code",
   "execution_count": 26,
   "metadata": {},
   "outputs": [
    {
     "data": {
      "text/html": [
       "<div>\n",
       "<style scoped>\n",
       "    .dataframe tbody tr th:only-of-type {\n",
       "        vertical-align: middle;\n",
       "    }\n",
       "\n",
       "    .dataframe tbody tr th {\n",
       "        vertical-align: top;\n",
       "    }\n",
       "\n",
       "    .dataframe thead th {\n",
       "        text-align: right;\n",
       "    }\n",
       "</style>\n",
       "<table border=\"1\" class=\"dataframe\">\n",
       "  <thead>\n",
       "    <tr style=\"text-align: right;\">\n",
       "      <th></th>\n",
       "      <th>pdb_id</th>\n",
       "      <th>level</th>\n",
       "      <th>level_idx</th>\n",
       "      <th>scalar_rep</th>\n",
       "      <th>datum</th>\n",
       "      <th>pos</th>\n",
       "      <th>color</th>\n",
       "    </tr>\n",
       "  </thead>\n",
       "  <tbody>\n",
       "    <tr>\n",
       "      <th>0</th>\n",
       "      <td>1f00I</td>\n",
       "      <td>1</td>\n",
       "      <td>0</td>\n",
       "      <td>[0.081032045, 0.62376326, 0.28515857, 0.197421...</td>\n",
       "      <td>(((&lt;moleculib.protein.datum.ProteinDatum objec...</td>\n",
       "      <td>[97.93873596191406, 15.910940170288086]</td>\n",
       "      <td>rgb(173, 238, 154)</td>\n",
       "    </tr>\n",
       "    <tr>\n",
       "      <th>1</th>\n",
       "      <td>1f00I</td>\n",
       "      <td>1</td>\n",
       "      <td>1</td>\n",
       "      <td>[-0.28887343, 0.001341799, -0.54696304, 0.1838...</td>\n",
       "      <td>(((&lt;moleculib.protein.datum.ProteinDatum objec...</td>\n",
       "      <td>[27.016189575195312, -78.5245361328125]</td>\n",
       "      <td>rgb(174, 181, 98)</td>\n",
       "    </tr>\n",
       "    <tr>\n",
       "      <th>2</th>\n",
       "      <td>1f00I</td>\n",
       "      <td>1</td>\n",
       "      <td>2</td>\n",
       "      <td>[-0.11274243, 0.2764013, -0.36209202, 0.011574...</td>\n",
       "      <td>(((&lt;moleculib.protein.datum.ProteinDatum objec...</td>\n",
       "      <td>[-45.65839385986328, 61.55245590209961]</td>\n",
       "      <td>rgb(74, 125, 169)</td>\n",
       "    </tr>\n",
       "    <tr>\n",
       "      <th>3</th>\n",
       "      <td>1f00I</td>\n",
       "      <td>1</td>\n",
       "      <td>3</td>\n",
       "      <td>[-0.12116315, 0.50699997, -0.15239324, 0.09882...</td>\n",
       "      <td>(((&lt;moleculib.protein.datum.ProteinDatum objec...</td>\n",
       "      <td>[33.691898345947266, -21.805866241455078]</td>\n",
       "      <td>rgb(156, 147, 93)</td>\n",
       "    </tr>\n",
       "    <tr>\n",
       "      <th>4</th>\n",
       "      <td>1f00I</td>\n",
       "      <td>1</td>\n",
       "      <td>4</td>\n",
       "      <td>[-0.14587262, 0.10403667, -0.38717338, 0.06709...</td>\n",
       "      <td>(((&lt;moleculib.protein.datum.ProteinDatum objec...</td>\n",
       "      <td>[51.500213623046875, -39.24305725097656]</td>\n",
       "      <td>rgb(137, 183, 71)</td>\n",
       "    </tr>\n",
       "  </tbody>\n",
       "</table>\n",
       "</div>"
      ],
      "text/plain": [
       "  pdb_id  level  level_idx                                         scalar_rep  \\\n",
       "0  1f00I      1          0  [0.081032045, 0.62376326, 0.28515857, 0.197421...   \n",
       "1  1f00I      1          1  [-0.28887343, 0.001341799, -0.54696304, 0.1838...   \n",
       "2  1f00I      1          2  [-0.11274243, 0.2764013, -0.36209202, 0.011574...   \n",
       "3  1f00I      1          3  [-0.12116315, 0.50699997, -0.15239324, 0.09882...   \n",
       "4  1f00I      1          4  [-0.14587262, 0.10403667, -0.38717338, 0.06709...   \n",
       "\n",
       "                                               datum  \\\n",
       "0  (((<moleculib.protein.datum.ProteinDatum objec...   \n",
       "1  (((<moleculib.protein.datum.ProteinDatum objec...   \n",
       "2  (((<moleculib.protein.datum.ProteinDatum objec...   \n",
       "3  (((<moleculib.protein.datum.ProteinDatum objec...   \n",
       "4  (((<moleculib.protein.datum.ProteinDatum objec...   \n",
       "\n",
       "                                         pos               color  \n",
       "0    [97.93873596191406, 15.910940170288086]  rgb(173, 238, 154)  \n",
       "1    [27.016189575195312, -78.5245361328125]   rgb(174, 181, 98)  \n",
       "2    [-45.65839385986328, 61.55245590209961]   rgb(74, 125, 169)  \n",
       "3  [33.691898345947266, -21.805866241455078]   rgb(156, 147, 93)  \n",
       "4   [51.500213623046875, -39.24305725097656]   rgb(137, 183, 71)  "
      ]
     },
     "execution_count": 26,
     "metadata": {},
     "output_type": "execute_result"
    }
   ],
   "source": [
    "upper_df_notna.head()"
   ]
  },
  {
   "cell_type": "code",
   "execution_count": null,
   "metadata": {},
   "outputs": [],
   "source": [
    "\n",
    "kernel, stride = 5, 2\n",
    "\n",
    "edges_top_down, edges_bottom_up, mismatches = connect_edges(upper_df_notna, kernel, stride)\n",
    "whatis(edges_top_down, edges_bottom_up, mismatches)\n"
   ]
  },
  {
   "cell_type": "code",
   "execution_count": null,
   "metadata": {},
   "outputs": [],
   "source": []
  },
  {
   "cell_type": "code",
   "execution_count": null,
   "metadata": {},
   "outputs": [],
   "source": [
    "class GraphVisualizer:\n",
    "    def __init__(self, dataframe, edges):\n",
    "        self.dataframe = dataframe\n",
    "        self.edges = edges\n",
    "        self.graph = nx.Graph()\n",
    "        self.layout = {}\n",
    "        self.vertical_shift = 250\n",
    "\n",
    "    def create_layout(self):\n",
    "        self.layout = {\n",
    "            idx: {\n",
    "                \"x\": float(row['pos'][0]),\n",
    "                \"y\": float(row['pos'][1]) + self.vertical_shift * row['level'],\n",
    "            } for idx, row in self.dataframe.iterrows()\n",
    "        }\n",
    "\n",
    "    def build_graph(self):\n",
    "        for idx, row in self.dataframe.iterrows():\n",
    "            self.graph.add_node(idx, level=row['level'], level_idx=row['level_idx'])\n",
    "        self.graph.add_edges_from(self.edges.items())\n",
    "\n",
    "    def display_graph_info(self):\n",
    "        print(f\"There are {self.graph.number_of_nodes()} nodes in the graph\")\n",
    "\n",
    "    def visualize(self):\n",
    "        self.create_layout()\n",
    "        self.build_graph()\n",
    "        self.display_graph_info()\n",
    "\n",
    "        edge_kwargs = dict(\n",
    "            default_edge_type=\"curve\",\n",
    "            default_edge_curveness=0.2,\n",
    "            default_edge_size=1.0,\n",
    "            clickable_edges=True\n",
    "        )\n",
    "\n",
    "        node_kwargs = dict(\n",
    "            node_label={idx: row['pdb_id'] for idx, row in self.dataframe.iterrows()},\n",
    "            raw_node_color=self.dataframe['color'].values,\n",
    "            node_border_color_from='node',\n",
    "        )\n",
    "\n",
    "        sigma = Sigma(\n",
    "            self.graph,\n",
    "            layout=self.layout,\n",
    "            node_metrics=['louvain'],\n",
    "            **node_kwargs,\n",
    "            **edge_kwargs\n",
    "        )\n",
    "        return sigma\n",
    "\n",
    "\n",
    "# Usage example:\n",
    "visualizer = GraphVisualizer(upper_df_notna, edges_bottom_up)\n",
    "sigma_graph = visualizer.visualize()\n"
   ]
  },
  {
   "cell_type": "code",
   "execution_count": 58,
   "metadata": {},
   "outputs": [
    {
     "name": "stdout",
     "output_type": "stream",
     "text": [
      "(204948, 7)\n"
     ]
    },
    {
     "data": {
      "text/html": [
       "<div>\n",
       "<style scoped>\n",
       "    .dataframe tbody tr th:only-of-type {\n",
       "        vertical-align: middle;\n",
       "    }\n",
       "\n",
       "    .dataframe tbody tr th {\n",
       "        vertical-align: top;\n",
       "    }\n",
       "\n",
       "    .dataframe thead th {\n",
       "        text-align: right;\n",
       "    }\n",
       "</style>\n",
       "<table border=\"1\" class=\"dataframe\">\n",
       "  <thead>\n",
       "    <tr style=\"text-align: right;\">\n",
       "      <th></th>\n",
       "      <th>pdb_id</th>\n",
       "      <th>level</th>\n",
       "      <th>level_idx</th>\n",
       "      <th>scalar_rep</th>\n",
       "      <th>pos</th>\n",
       "      <th>color</th>\n",
       "      <th>seq</th>\n",
       "    </tr>\n",
       "  </thead>\n",
       "  <tbody>\n",
       "    <tr>\n",
       "      <th>0</th>\n",
       "      <td>1f00I</td>\n",
       "      <td>1</td>\n",
       "      <td>0</td>\n",
       "      <td>[0.081032045, 0.62376326, 0.28515857, 0.197421...</td>\n",
       "      <td>[97.93873596191406, 15.910940170288086]</td>\n",
       "      <td>rgb(173, 238, 154)</td>\n",
       "      <td>ASITE</td>\n",
       "    </tr>\n",
       "    <tr>\n",
       "      <th>1</th>\n",
       "      <td>1f00I</td>\n",
       "      <td>1</td>\n",
       "      <td>1</td>\n",
       "      <td>[-0.28887343, 0.001341799, -0.54696304, 0.1838...</td>\n",
       "      <td>[27.016189575195312, -78.5245361328125]</td>\n",
       "      <td>rgb(174, 181, 98)</td>\n",
       "      <td>ITEIK</td>\n",
       "    </tr>\n",
       "    <tr>\n",
       "      <th>2</th>\n",
       "      <td>1f00I</td>\n",
       "      <td>1</td>\n",
       "      <td>2</td>\n",
       "      <td>[-0.11274243, 0.2764013, -0.36209202, 0.011574...</td>\n",
       "      <td>[-45.65839385986328, 61.55245590209961]</td>\n",
       "      <td>rgb(74, 125, 169)</td>\n",
       "      <td>EIKAG</td>\n",
       "    </tr>\n",
       "    <tr>\n",
       "      <th>3</th>\n",
       "      <td>1f00I</td>\n",
       "      <td>1</td>\n",
       "      <td>3</td>\n",
       "      <td>[-0.12116315, 0.50699997, -0.15239324, 0.09882...</td>\n",
       "      <td>[33.691898345947266, -21.805866241455078]</td>\n",
       "      <td>rgb(156, 147, 93)</td>\n",
       "      <td>KAGGG</td>\n",
       "    </tr>\n",
       "    <tr>\n",
       "      <th>4</th>\n",
       "      <td>1f00I</td>\n",
       "      <td>1</td>\n",
       "      <td>4</td>\n",
       "      <td>[-0.14587262, 0.10403667, -0.38717338, 0.06709...</td>\n",
       "      <td>[51.500213623046875, -39.24305725097656]</td>\n",
       "      <td>rgb(137, 183, 71)</td>\n",
       "      <td>GGGGG</td>\n",
       "    </tr>\n",
       "  </tbody>\n",
       "</table>\n",
       "</div>"
      ],
      "text/plain": [
       "  pdb_id  level  level_idx                                         scalar_rep  \\\n",
       "0  1f00I      1          0  [0.081032045, 0.62376326, 0.28515857, 0.197421...   \n",
       "1  1f00I      1          1  [-0.28887343, 0.001341799, -0.54696304, 0.1838...   \n",
       "2  1f00I      1          2  [-0.11274243, 0.2764013, -0.36209202, 0.011574...   \n",
       "3  1f00I      1          3  [-0.12116315, 0.50699997, -0.15239324, 0.09882...   \n",
       "4  1f00I      1          4  [-0.14587262, 0.10403667, -0.38717338, 0.06709...   \n",
       "\n",
       "                                         pos               color    seq  \n",
       "0    [97.93873596191406, 15.910940170288086]  rgb(173, 238, 154)  ASITE  \n",
       "1    [27.016189575195312, -78.5245361328125]   rgb(174, 181, 98)  ITEIK  \n",
       "2    [-45.65839385986328, 61.55245590209961]   rgb(74, 125, 169)  EIKAG  \n",
       "3  [33.691898345947266, -21.805866241455078]   rgb(156, 147, 93)  KAGGG  \n",
       "4   [51.500213623046875, -39.24305725097656]   rgb(137, 183, 71)  GGGGG  "
      ]
     },
     "execution_count": 58,
     "metadata": {},
     "output_type": "execute_result"
    }
   ],
   "source": [
    "from moleculib.protein.alphabet import all_residues\n",
    "\n",
    "def _datum_to_sequence(datum):\n",
    "    return [all_residues[token] for token in datum.residue_token]\n",
    "\n",
    "# Extract the 'datum' column from the DataFrame\n",
    "datum_column = upper_df_notna['datum']\n",
    "\n",
    "# Initialize an empty list to store PDB strings\n",
    "pdb_strings = []\n",
    "\n",
    "d = {'CYS': 'C', 'ASP': 'D', 'SER': 'S', 'GLN': 'Q', 'LYS': 'K',\n",
    "     'ILE': 'I', 'PRO': 'P', 'THR': 'T', 'PHE': 'F', 'ASN': 'N', \n",
    "     'GLY': 'G', 'HIS': 'H', 'LEU': 'L', 'ARG': 'R', 'TRP': 'W', \n",
    "     'ALA': 'A', 'VAL':'V', 'GLU': 'E', 'TYR': 'Y', 'MET': 'M',\n",
    "     'PAD': 'PAD', 'MASK': 'MASK', 'UNK': 'UNK'}\n",
    "\n",
    "\n",
    "def aa_map(sequences):\n",
    "    shorts = []\n",
    "    for sequence in sequences:\n",
    "        short = ''.join([d[aa] for aa in sequence])\n",
    "        shorts.append(short)\n",
    "    return shorts\n",
    "\n",
    "# Convert each datum to a sequence and store in a new list\n",
    "sequence_strings = []\n",
    "for datum in datum_column:\n",
    "    sequence = _datum_to_sequence(datum)\n",
    "    sequence_strings.append(sequence)\n",
    "\n",
    "# Replace the 'datum' column in the DataFrame with the new 'sequence_strings' list and rename the column to 'seq'\n",
    "\n",
    "upper_df_final = upper_df_notna.copy()\n",
    "upper_df_final.drop(columns=['datum'], inplace=True)\n",
    "upper_df_final['seq'] = aa_map(sequence_strings)\n",
    "print(upper_df_final.shape)\n",
    "upper_df_final.head()\n",
    "\n"
   ]
  },
  {
   "cell_type": "code",
   "execution_count": 55,
   "metadata": {},
   "outputs": [
    {
     "name": "stdout",
     "output_type": "stream",
     "text": [
      "['ASITE', 'ITEIK', 'EIKAG', 'KAGGG', 'GGGGG']\n"
     ]
    }
   ],
   "source": [
    "d = {'CYS': 'C', 'ASP': 'D', 'SER': 'S', 'GLN': 'Q', 'LYS': 'K',\n",
    "     'ILE': 'I', 'PRO': 'P', 'THR': 'T', 'PHE': 'F', 'ASN': 'N', \n",
    "     'GLY': 'G', 'HIS': 'H', 'LEU': 'L', 'ARG': 'R', 'TRP': 'W', \n",
    "     'ALA': 'A', 'VAL':'V', 'GLU': 'E', 'TYR': 'Y', 'MET': 'M'}\n",
    "\n",
    "sequences = sequence_strings[:5]\n",
    "\n",
    "def aa_map(sequences):\n",
    "    shorts = []\n",
    "    for sequence in sequences:\n",
    "        short = ''.join([d[aa] for aa in sequence])\n",
    "        shorts.append(short)\n",
    "    return shorts\n",
    "\n",
    "shorts = aa_map(sequences[:5])\n",
    "\n",
    "print(shorts)\n",
    "\n"
   ]
  },
  {
   "cell_type": "code",
   "execution_count": 59,
   "metadata": {},
   "outputs": [
    {
     "name": "stdout",
     "output_type": "stream",
     "text": [
      "DataFrame saved as JSON to data//upper_df_final_seqs.json\n"
     ]
    }
   ],
   "source": [
    "save_df(upper_df_final, \"upper_df_final_seqs\")"
   ]
  },
  {
   "cell_type": "code",
   "execution_count": 34,
   "metadata": {},
   "outputs": [
    {
     "name": "stdout",
     "output_type": "stream",
     "text": [
      "Column 'datum' removed from DataFrame.\n",
      "(204948, 6)\n"
     ]
    },
    {
     "data": {
      "text/html": [
       "<div>\n",
       "<style scoped>\n",
       "    .dataframe tbody tr th:only-of-type {\n",
       "        vertical-align: middle;\n",
       "    }\n",
       "\n",
       "    .dataframe tbody tr th {\n",
       "        vertical-align: top;\n",
       "    }\n",
       "\n",
       "    .dataframe thead th {\n",
       "        text-align: right;\n",
       "    }\n",
       "</style>\n",
       "<table border=\"1\" class=\"dataframe\">\n",
       "  <thead>\n",
       "    <tr style=\"text-align: right;\">\n",
       "      <th></th>\n",
       "      <th>pdb_id</th>\n",
       "      <th>level</th>\n",
       "      <th>level_idx</th>\n",
       "      <th>scalar_rep</th>\n",
       "      <th>pos</th>\n",
       "      <th>color</th>\n",
       "    </tr>\n",
       "  </thead>\n",
       "  <tbody>\n",
       "    <tr>\n",
       "      <th>0</th>\n",
       "      <td>1f00I</td>\n",
       "      <td>1</td>\n",
       "      <td>0</td>\n",
       "      <td>[0.081032045, 0.62376326, 0.28515857, 0.197421...</td>\n",
       "      <td>[97.93873596191406, 15.910940170288086]</td>\n",
       "      <td>rgb(173, 238, 154)</td>\n",
       "    </tr>\n",
       "    <tr>\n",
       "      <th>1</th>\n",
       "      <td>1f00I</td>\n",
       "      <td>1</td>\n",
       "      <td>1</td>\n",
       "      <td>[-0.28887343, 0.001341799, -0.54696304, 0.1838...</td>\n",
       "      <td>[27.016189575195312, -78.5245361328125]</td>\n",
       "      <td>rgb(174, 181, 98)</td>\n",
       "    </tr>\n",
       "    <tr>\n",
       "      <th>2</th>\n",
       "      <td>1f00I</td>\n",
       "      <td>1</td>\n",
       "      <td>2</td>\n",
       "      <td>[-0.11274243, 0.2764013, -0.36209202, 0.011574...</td>\n",
       "      <td>[-45.65839385986328, 61.55245590209961]</td>\n",
       "      <td>rgb(74, 125, 169)</td>\n",
       "    </tr>\n",
       "    <tr>\n",
       "      <th>3</th>\n",
       "      <td>1f00I</td>\n",
       "      <td>1</td>\n",
       "      <td>3</td>\n",
       "      <td>[-0.12116315, 0.50699997, -0.15239324, 0.09882...</td>\n",
       "      <td>[33.691898345947266, -21.805866241455078]</td>\n",
       "      <td>rgb(156, 147, 93)</td>\n",
       "    </tr>\n",
       "    <tr>\n",
       "      <th>4</th>\n",
       "      <td>1f00I</td>\n",
       "      <td>1</td>\n",
       "      <td>4</td>\n",
       "      <td>[-0.14587262, 0.10403667, -0.38717338, 0.06709...</td>\n",
       "      <td>[51.500213623046875, -39.24305725097656]</td>\n",
       "      <td>rgb(137, 183, 71)</td>\n",
       "    </tr>\n",
       "  </tbody>\n",
       "</table>\n",
       "</div>"
      ],
      "text/plain": [
       "  pdb_id  level  level_idx                                         scalar_rep  \\\n",
       "0  1f00I      1          0  [0.081032045, 0.62376326, 0.28515857, 0.197421...   \n",
       "1  1f00I      1          1  [-0.28887343, 0.001341799, -0.54696304, 0.1838...   \n",
       "2  1f00I      1          2  [-0.11274243, 0.2764013, -0.36209202, 0.011574...   \n",
       "3  1f00I      1          3  [-0.12116315, 0.50699997, -0.15239324, 0.09882...   \n",
       "4  1f00I      1          4  [-0.14587262, 0.10403667, -0.38717338, 0.06709...   \n",
       "\n",
       "                                         pos               color  \n",
       "0    [97.93873596191406, 15.910940170288086]  rgb(173, 238, 154)  \n",
       "1    [27.016189575195312, -78.5245361328125]   rgb(174, 181, 98)  \n",
       "2    [-45.65839385986328, 61.55245590209961]   rgb(74, 125, 169)  \n",
       "3  [33.691898345947266, -21.805866241455078]   rgb(156, 147, 93)  \n",
       "4   [51.500213623046875, -39.24305725097656]   rgb(137, 183, 71)  "
      ]
     },
     "execution_count": 34,
     "metadata": {},
     "output_type": "execute_result"
    }
   ],
   "source": [
    "# Remove the 'datum' column from the DataFrame\n",
    "upper_df_notna_dropped = upper_df_notna.drop(columns=['datum'])\n",
    "print(\"Column 'datum' removed from DataFrame.\")\n",
    "print(upper_df_notna_dropped.shape)\n",
    "upper_df_notna_dropped.head()\n"
   ]
  },
  {
   "cell_type": "code",
   "execution_count": 36,
   "metadata": {},
   "outputs": [
    {
     "name": "stdout",
     "output_type": "stream",
     "text": [
      "Memory size of the DataFrame in MB: 71.93843078613281\n"
     ]
    }
   ],
   "source": [
    "# Get the size of the DataFrame 'upper_df_notna_dropped' in memory in megabytes\n",
    "df_memory_size = upper_df_notna_dropped.memory_usage(deep=True).sum() / (1024 ** 2)\n",
    "print(\"Memory size of the DataFrame in MB:\", df_memory_size)\n",
    "\n"
   ]
  },
  {
   "cell_type": "code",
   "execution_count": 60,
   "metadata": {},
   "outputs": [
    {
     "data": {
      "text/plain": [
       "pdb_id                                                    1dqdL\n",
       "level                                                         2\n",
       "level_idx                                                    41\n",
       "scalar_rep    [0.16053079, -0.15943262, 0.83862305, -0.81425...\n",
       "datum         (((<moleculib.protein.datum.ProteinDatum objec...\n",
       "pos                     [56.548709869384766, 67.07051849365234]\n",
       "color                                         rgb(14, 120, 124)\n",
       "Name: 186251, dtype: object"
      ]
     },
     "execution_count": 60,
     "metadata": {},
     "output_type": "execute_result"
    }
   ],
   "source": [
    "upper_df_notna.iloc[186251]"
   ]
  },
  {
   "cell_type": "code",
   "execution_count": 64,
   "metadata": {},
   "outputs": [
    {
     "name": "stdout",
     "output_type": "stream",
     "text": [
      "Index 204947 is present in the values of edges_bottom_up.\n"
     ]
    },
    {
     "ename": "KeyboardInterrupt",
     "evalue": "",
     "output_type": "error",
     "traceback": [
      "\u001b[0;31m---------------------------------------------------------------------------\u001b[0m",
      "\u001b[0;31mKeyboardInterrupt\u001b[0m                         Traceback (most recent call last)",
      "Cell \u001b[0;32mIn[64], line 14\u001b[0m\n\u001b[1;32m     12\u001b[0m     \u001b[38;5;28;01mcontinue\u001b[39;00m\n\u001b[1;32m     13\u001b[0m \u001b[38;5;28;01melif\u001b[39;00m idx \u001b[38;5;129;01min\u001b[39;00m values:\n\u001b[0;32m---> 14\u001b[0m     \u001b[38;5;28;01mcontinue\u001b[39;00m\n\u001b[1;32m     15\u001b[0m \u001b[38;5;28;01melse\u001b[39;00m:\n\u001b[1;32m     16\u001b[0m     n_empty \u001b[38;5;241m+\u001b[39m\u001b[38;5;241m=\u001b[39m \u001b[38;5;241m1\u001b[39m\n",
      "\u001b[0;31mKeyboardInterrupt\u001b[0m: "
     ]
    }
   ],
   "source": [
    "n_empty = 0\n",
    "\n",
    "keys = edges_bottom_up.keys()\n",
    "values = edges_bottom_up.values()\n",
    "for idx in upper_df_notna.index:\n",
    "    if idx in keys:\n",
    "        continue\n",
    "    elif idx in values:\n",
    "        continue\n",
    "    else:\n",
    "        n_empty += 1\n",
    "    \n",
    "\n",
    "        # print(f\"KeyError for index {idx}\")\n",
    "print(f\"Number of empty edges: {n_empty}\")"
   ]
  },
  {
   "cell_type": "code",
   "execution_count": 66,
   "metadata": {},
   "outputs": [
    {
     "name": "stdout",
     "output_type": "stream",
     "text": [
      "Column 'datum' removed and 'datum_length' added to DataFrame.\n",
      "(204948, 7)\n"
     ]
    },
    {
     "data": {
      "text/html": [
       "<div>\n",
       "<style scoped>\n",
       "    .dataframe tbody tr th:only-of-type {\n",
       "        vertical-align: middle;\n",
       "    }\n",
       "\n",
       "    .dataframe tbody tr th {\n",
       "        vertical-align: top;\n",
       "    }\n",
       "\n",
       "    .dataframe thead th {\n",
       "        text-align: right;\n",
       "    }\n",
       "</style>\n",
       "<table border=\"1\" class=\"dataframe\">\n",
       "  <thead>\n",
       "    <tr style=\"text-align: right;\">\n",
       "      <th></th>\n",
       "      <th>pdb_id</th>\n",
       "      <th>level</th>\n",
       "      <th>level_idx</th>\n",
       "      <th>scalar_rep</th>\n",
       "      <th>pos</th>\n",
       "      <th>color</th>\n",
       "      <th>seq_len</th>\n",
       "    </tr>\n",
       "  </thead>\n",
       "  <tbody>\n",
       "    <tr>\n",
       "      <th>0</th>\n",
       "      <td>1f00I</td>\n",
       "      <td>1</td>\n",
       "      <td>0</td>\n",
       "      <td>[0.081032045, 0.62376326, 0.28515857, 0.197421...</td>\n",
       "      <td>[97.93873596191406, 15.910940170288086]</td>\n",
       "      <td>rgb(173, 238, 154)</td>\n",
       "      <td>5</td>\n",
       "    </tr>\n",
       "    <tr>\n",
       "      <th>1</th>\n",
       "      <td>1f00I</td>\n",
       "      <td>1</td>\n",
       "      <td>1</td>\n",
       "      <td>[-0.28887343, 0.001341799, -0.54696304, 0.1838...</td>\n",
       "      <td>[27.016189575195312, -78.5245361328125]</td>\n",
       "      <td>rgb(174, 181, 98)</td>\n",
       "      <td>5</td>\n",
       "    </tr>\n",
       "    <tr>\n",
       "      <th>2</th>\n",
       "      <td>1f00I</td>\n",
       "      <td>1</td>\n",
       "      <td>2</td>\n",
       "      <td>[-0.11274243, 0.2764013, -0.36209202, 0.011574...</td>\n",
       "      <td>[-45.65839385986328, 61.55245590209961]</td>\n",
       "      <td>rgb(74, 125, 169)</td>\n",
       "      <td>5</td>\n",
       "    </tr>\n",
       "    <tr>\n",
       "      <th>3</th>\n",
       "      <td>1f00I</td>\n",
       "      <td>1</td>\n",
       "      <td>3</td>\n",
       "      <td>[-0.12116315, 0.50699997, -0.15239324, 0.09882...</td>\n",
       "      <td>[33.691898345947266, -21.805866241455078]</td>\n",
       "      <td>rgb(156, 147, 93)</td>\n",
       "      <td>5</td>\n",
       "    </tr>\n",
       "    <tr>\n",
       "      <th>4</th>\n",
       "      <td>1f00I</td>\n",
       "      <td>1</td>\n",
       "      <td>4</td>\n",
       "      <td>[-0.14587262, 0.10403667, -0.38717338, 0.06709...</td>\n",
       "      <td>[51.500213623046875, -39.24305725097656]</td>\n",
       "      <td>rgb(137, 183, 71)</td>\n",
       "      <td>5</td>\n",
       "    </tr>\n",
       "  </tbody>\n",
       "</table>\n",
       "</div>"
      ],
      "text/plain": [
       "  pdb_id  level  level_idx                                         scalar_rep  \\\n",
       "0  1f00I      1          0  [0.081032045, 0.62376326, 0.28515857, 0.197421...   \n",
       "1  1f00I      1          1  [-0.28887343, 0.001341799, -0.54696304, 0.1838...   \n",
       "2  1f00I      1          2  [-0.11274243, 0.2764013, -0.36209202, 0.011574...   \n",
       "3  1f00I      1          3  [-0.12116315, 0.50699997, -0.15239324, 0.09882...   \n",
       "4  1f00I      1          4  [-0.14587262, 0.10403667, -0.38717338, 0.06709...   \n",
       "\n",
       "                                         pos               color  seq_len  \n",
       "0    [97.93873596191406, 15.910940170288086]  rgb(173, 238, 154)        5  \n",
       "1    [27.016189575195312, -78.5245361328125]   rgb(174, 181, 98)        5  \n",
       "2    [-45.65839385986328, 61.55245590209961]   rgb(74, 125, 169)        5  \n",
       "3  [33.691898345947266, -21.805866241455078]   rgb(156, 147, 93)        5  \n",
       "4   [51.500213623046875, -39.24305725097656]   rgb(137, 183, 71)        5  "
      ]
     },
     "metadata": {},
     "output_type": "display_data"
    }
   ],
   "source": [
    "\n",
    "upper_df_seq_lens = upper_df_notna.copy()\n",
    "\n",
    "# Calculate the length of each datum and store it in a new column 'datum_length'\n",
    "upper_df_seq_lens['seq_len'] = upper_df_seq_lens['datum'].apply(lambda x: len(x))\n",
    "\n",
    "# Remove the 'datum' column from the DataFrame\n",
    "upper_df_seq_lens = upper_df_seq_lens.drop(columns=['datum'])\n",
    "print(\"Column 'datum' removed and 'datum_length' added to DataFrame.\")\n",
    "print(upper_df_seq_lens.shape)\n",
    "display(upper_df_seq_lens.head())\n"
   ]
  },
  {
   "cell_type": "code",
   "execution_count": 67,
   "metadata": {},
   "outputs": [
    {
     "name": "stdout",
     "output_type": "stream",
     "text": [
      "DataFrame saved as JSON to data//upper_df_seq_lens.json\n"
     ]
    }
   ],
   "source": [
    "save_df(upper_df_seq_lens, \"upper_df_seq_lens\")"
   ]
  },
  {
   "cell_type": "code",
   "execution_count": 37,
   "metadata": {},
   "outputs": [
    {
     "name": "stdout",
     "output_type": "stream",
     "text": [
      "Column 'scalar_rep' removed from DataFrame.\n",
      "Memory size of the DataFrame in MB: 48.48399353027344\n"
     ]
    }
   ],
   "source": [
    "# Drop the scalar_rep column and check memory usage\n",
    "big_drop = upper_df_notna_dropped.drop(columns=['scalar_rep'])\n",
    "print(\"Column 'scalar_rep' removed from DataFrame.\")\n",
    "\n",
    "# Tet memory usage\n",
    "big_drop_memory_size = big_drop.memory_usage(deep=True).sum() / (1024 ** 2)\n",
    "print(\"Memory size of the DataFrame in MB:\", big_drop_memory_size)"
   ]
  },
  {
   "cell_type": "code",
   "execution_count": 47,
   "metadata": {},
   "outputs": [
    {
     "name": "stdout",
     "output_type": "stream",
     "text": [
      "DataFrame saved as JSON to data//big_drop.json\n"
     ]
    }
   ],
   "source": [
    "save_df(big_drop, \"big_drop\")"
   ]
  },
  {
   "cell_type": "code",
   "execution_count": 43,
   "metadata": {},
   "outputs": [
    {
     "data": {
      "text/plain": [
       "(204948, 5)"
      ]
     },
     "execution_count": 43,
     "metadata": {},
     "output_type": "execute_result"
    }
   ],
   "source": [
    "_, big_drop_edges, _ = connect_edges(big_drop, kernel, stride)\n",
    "whatis(big_drop_edges, big_drop_edges, mismatches)"
   ]
  },
  {
   "cell_type": "code",
   "execution_count": 45,
   "metadata": {},
   "outputs": [
    {
     "data": {
      "text/plain": [
       "pdb_id                                          12asA\n",
       "level                                               1\n",
       "level_idx                                           1\n",
       "pos          [-44.70581817626953, -56.91688919067383]\n",
       "color                               rgb(128, 66, 171)\n",
       "Name: 81287, dtype: object"
      ]
     },
     "execution_count": 45,
     "metadata": {},
     "output_type": "execute_result"
    }
   ],
   "source": [
    "big_drop.iloc[81287]"
   ]
  },
  {
   "cell_type": "code",
   "execution_count": 71,
   "metadata": {},
   "outputs": [
    {
     "name": "stdout",
     "output_type": "stream",
     "text": [
      "Datum lengths vary within one or more levels in the original dataframe.\n"
     ]
    }
   ],
   "source": [
    "# Check if datum lengths for every level in the original dataframe 'df' are equal\n",
    "# Extracting lengths from the 'datum' objects\n",
    "df['datum_length'] = df.dropna()['datum'].apply(lambda x: len(x))\n",
    "\n",
    "# Group by 'level' and check if all datum lengths within each level are consistent\n",
    "level_groups = df.groupby('level')['datum_length'].unique()\n",
    "datum_length_consistency = all(len(set(lengths)) == 1 for lengths in level_groups)\n",
    "\n",
    "if datum_length_consistency:\n",
    "    print(\"All datum lengths within each level are consistent in the original dataframe.\")\n",
    "else:\n",
    "    print(\"Datum lengths vary within one or more levels in the original dataframe.\")\n",
    "\n",
    "\n"
   ]
  },
  {
   "cell_type": "code",
   "execution_count": 75,
   "metadata": {},
   "outputs": [
    {
     "name": "stdout",
     "output_type": "stream",
     "text": [
      "Mismatched lengths by level: {0: 2, 1: 7, 2: 15, 3: 31, 4: 63}\n"
     ]
    }
   ],
   "source": [
    "# Count the number of mismatched lengths for each level and store in a dictionary\n",
    "mismatched_lengths = {}\n",
    "for level, lengths in level_groups.items():\n",
    "    mismatched_lengths[level] = len(set(lengths))\n",
    "    # if len(set(lengths)) > 1:\n",
    "    #     # Count the occurrences of each length and find the most common one\n",
    "    #     most_common_length = max(set(lengths), key=lengths.tolist().count)\n",
    "    #     # Count how many lengths are not the most common length\n",
    "    #     mismatch_count = sum(1 for length in lengths if length != most_common_length)\n",
    "    #     mismatched_lengths[level] = mismatch_count\n",
    "\n",
    "print(\"Mismatched lengths by level:\", mismatched_lengths)\n",
    "\n"
   ]
  },
  {
   "cell_type": "code",
   "execution_count": 81,
   "metadata": {},
   "outputs": [
    {
     "name": "stdout",
     "output_type": "stream",
     "text": [
      "      pdb_id  level  level_idx  \\\n",
      "23895  1bbpA      0         20   \n",
      "23896  1bbpA      0        102   \n",
      "23897  1bbpA      0        148   \n",
      "23898  1bbpA      0        128   \n",
      "23899  1bbpA      0         90   \n",
      "...      ...    ...        ...   \n",
      "24170  1bbpD      3         17   \n",
      "24171  1bbpD      3         15   \n",
      "24172  1bbpD      4          7   \n",
      "24173  1bbpD      4          1   \n",
      "24174  1bbpD      4          4   \n",
      "\n",
      "                                              scalar_rep  \\\n",
      "23895  [-0.36898088, -0.3831912, -3.1192942, 0.002608...   \n",
      "23896  [-0.24578536, -0.60862947, -2.8894377, 0.27811...   \n",
      "23897  [-0.3416543, -0.38696086, -3.1078184, 0.062706...   \n",
      "23898  [-0.22657719, -0.6799185, -2.9258268, 0.237942...   \n",
      "23899  [-0.34608096, -0.39089566, -3.1327207, -0.0210...   \n",
      "...                                                  ...   \n",
      "24170  [-0.23074742, 0.29429477, -0.6625782, -0.24043...   \n",
      "24171  [-0.22443707, 0.1943416, -0.37851003, -0.22849...   \n",
      "24172  [-1.0009177, -0.099911414, -0.7314455, -0.9184...   \n",
      "24173  [-0.9989859, -0.05064193, -0.72856367, -0.9047...   \n",
      "24174  [-0.99169326, -0.07614199, -0.7223941, -0.8906...   \n",
      "\n",
      "                                                   datum  \\\n",
      "23895  (((<moleculib.protein.datum.ProteinDatum objec...   \n",
      "23896  (((<moleculib.protein.datum.ProteinDatum objec...   \n",
      "23897  (((<moleculib.protein.datum.ProteinDatum objec...   \n",
      "23898  (((<moleculib.protein.datum.ProteinDatum objec...   \n",
      "23899  (((<moleculib.protein.datum.ProteinDatum objec...   \n",
      "...                                                  ...   \n",
      "24170  (((<moleculib.protein.datum.ProteinDatum objec...   \n",
      "24171  (((<moleculib.protein.datum.ProteinDatum objec...   \n",
      "24172  (((<moleculib.protein.datum.ProteinDatum objec...   \n",
      "24173  (((<moleculib.protein.datum.ProteinDatum objec...   \n",
      "24174  (((<moleculib.protein.datum.ProteinDatum objec...   \n",
      "\n",
      "                                              pos               color  \n",
      "23895      [21.52433204650879, 71.86460876464844]  rgb(145, 184, 202)  \n",
      "23896    [-40.891944885253906, 79.38294982910156]   rgb(182, 48, 194)  \n",
      "23897    [31.015417098999023, 12.951098442077637]   rgb(142, 161, 87)  \n",
      "23898    [-31.94462013244629, -78.93128204345703]  rgb(149, 205, 137)  \n",
      "23899     [28.119903564453125, 55.38911437988281]  rgb(242, 146, 145)  \n",
      "...                                           ...                 ...  \n",
      "24170   [-13.598217010498047, -48.03866958618164]   rgb(99, 192, 147)  \n",
      "24171    [-17.230018615722656, 56.44267272949219]   rgb(142, 118, 78)  \n",
      "24172  [-26.429224014282227, -2.4389877319335938]  rgb(182, 118, 137)  \n",
      "24173    [-44.10555648803711, 48.783897399902344]  rgb(101, 124, 224)  \n",
      "24174    [-65.19940185546875, 36.687774658203125]   rgb(86, 208, 136)  \n",
      "\n",
      "[280 rows x 7 columns]\n"
     ]
    }
   ],
   "source": [
    "filtered_rows = df_original[df_original['pdb_id'].str.contains('1bbp', case=False, na=False)]\n",
    "print(filtered_rows)\n",
    "\n"
   ]
  }
 ],
 "metadata": {
  "kernelspec": {
   "display_name": "Python 3 (ipykernel)",
   "language": "python",
   "name": "python3"
  }
 },
 "nbformat": 4,
 "nbformat_minor": 2
}
