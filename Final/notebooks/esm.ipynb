{
 "cells": [
  {
   "cell_type": "markdown",
   "metadata": {},
   "source": [
    "### ESM Encode\n",
    "\n",
    "Use the ESM model to encode custom pdbs, and pull language embeddings. Also try cofolding en masse."
   ]
  },
  {
   "cell_type": "code",
   "execution_count": 20,
   "metadata": {},
   "outputs": [
    {
     "name": "stdout",
     "output_type": "stream",
     "text": [
      "The autoreload extension is already loaded. To reload it, use:\n",
      "  %reload_ext autoreload\n"
     ]
    }
   ],
   "source": [
    "## Run once cell\n",
    "\n",
    "%load_ext autoreload\n",
    "%autoreload 2\n",
    "\n",
    "import os\n",
    "os.chdir('..')"
   ]
  },
  {
   "cell_type": "code",
   "execution_count": 2,
   "metadata": {},
   "outputs": [],
   "source": [
    "## Main import cell\n",
    "\n",
    "import matplotlib.pyplot as plt\n",
    "import requests\n",
    "\n",
    "\n",
    "import esm\n",
    "import torch\n",
    "import numpy as np\n",
    "from Bio import SeqIO\n",
    "from Bio.PDB import PDBList, PDBParser\n",
    "\n"
   ]
  },
  {
   "cell_type": "code",
   "execution_count": 3,
   "metadata": {},
   "outputs": [
    {
     "name": "stdout",
     "output_type": "stream",
     "text": [
      "Downloading PDB structure '1AIR'...\n",
      "Downloading PDB structure '1HIN'...\n",
      "Downloading PDB structure '1DAB'...\n",
      "CPU times: user 406 ms, sys: 16.9 ms, total: 423 ms\n",
      "Wall time: 1.9 s\n"
     ]
    }
   ],
   "source": [
    "%%time\n",
    "\n",
    "\n",
    "\n",
    "def fetch_pdb_sequences(pdb_ids, output_fasta):\n",
    "    \"\"\"Fetch full pdb sequences directly and store in files. \n",
    "        Produces a single large fasta files with all proteins.\n",
    "    \"\"\"\n",
    "    pdbl = PDBList()\n",
    "    sequences = []\n",
    "    for pdb_id in pdb_ids:\n",
    "        pdb_file = pdbl.retrieve_pdb_file(pdb_id, pdir='./pdb_files', file_format='pdb')\n",
    "        parser = PDBParser(QUIET=True)\n",
    "        structure = parser.get_structure(pdb_id, pdb_file)\n",
    "        for model in structure:\n",
    "            for chain in model:\n",
    "                sequence = \"\".join([residue.resname for residue in chain.get_residues()])\n",
    "                sequences.append(f\">{pdb_id}_{chain.id}\\n{sequence}\")\n",
    "    with open(output_fasta, 'w') as f:\n",
    "        f.write(\"\\n\".join(sequences))\n",
    "\n",
    "pdb_ids = [\"1AIR\", \"1HIN\", \"1DAB\"]\n",
    "output_fasta = \"sequences.fasta\"\n",
    "fetch_pdb_sequences(pdb_ids, output_fasta)\n"
   ]
  },
  {
   "cell_type": "code",
   "execution_count": 7,
   "metadata": {},
   "outputs": [
    {
     "data": {
      "text/plain": [
       "[1, 2, 3, 4, 6]"
      ]
     },
     "execution_count": 7,
     "metadata": {},
     "output_type": "execute_result"
    }
   ],
   "source": [
    "lst = [1,2,3]\n",
    "lst2 = [4,6]\n",
    "lst += lst2\n",
    "lst"
   ]
  },
  {
   "cell_type": "markdown",
   "metadata": {},
   "source": [
    "### ESMEmbeddings\n",
    "\n",
    "Here is how to get sequence representations from ESM:"
   ]
  },
  {
   "cell_type": "code",
   "execution_count": 10,
   "metadata": {},
   "outputs": [
    {
     "name": "stdout",
     "output_type": "stream",
     "text": [
      "CPU times: user 14.6 s, sys: 7.05 s, total: 21.7 s\n",
      "Wall time: 52.2 s\n"
     ]
    }
   ],
   "source": [
    "%%time\n",
    "\n",
    "from typing import List, Tuple\n",
    "\n",
    "esm_model = esm.pretrained.esm2_t33_650M_UR50D\n",
    "\n",
    "class ESMEmbeddings:\n",
    "    def __init__(self, esm_model):\n",
    "\n",
    "        # Load ESM-2 model\n",
    "        self.model, self.alphabet = esm_model()\n",
    "        self.batch_converter = self.alphabet.get_batch_converter()\n",
    "        self.model.eval()  # disables dropout for deterministic results\n",
    "\n",
    "        self.data = []\n",
    "        self.representations = []\n",
    "\n",
    "    def get_embeddings(self, data: List[Tuple]):\n",
    "        \"\"\"Given a list of sequences, return their representations, as predicted\n",
    "            by ESM\n",
    "        \"\"\"\n",
    "        model, alphabet, batch_converter = self.model, self.alphabet, self.batch_converter\n",
    "        batch_labels, batch_strs, batch_tokens = batch_converter(data)\n",
    "        batch_lens = (batch_tokens != alphabet.padding_idx).sum(1)\n",
    "\n",
    "        # Extract per-residue representations (on CPU)\n",
    "        with torch.no_grad():\n",
    "            results = model(batch_tokens, repr_layers=[33], return_contacts=True)\n",
    "        token_representations = results[\"representations\"][33]\n",
    "\n",
    "        # Generate per-sequence representations via averaging\n",
    "        # NOTE: token 0 is always a beginning-of-sequence token, so the first residue is token 1.\n",
    "        sequence_representations = []\n",
    "        for i, tokens_len in enumerate(batch_lens):\n",
    "            sequence_representations.append(token_representations[i, 1 : tokens_len - 1].mean(0))\n",
    "        \n",
    "        # Make accessible by object\n",
    "        self.data += data\n",
    "        self.representations += sequence_representations\n",
    "        self.batch_lens = batch_lens\n",
    "        self.results = results\n",
    "\n",
    "        return sequence_representations\n",
    "\n",
    "    def show_attention(self):\n",
    "        \"\"\"Show embeddings as attention map\"\"\"\n",
    "        for (_, seq), tokens_len, attention_contacts in zip(self.data, self.batch_lens, self.results[\"contacts\"]):\n",
    "            plt.matshow(attention_contacts[: tokens_len, : tokens_len])\n",
    "            plt.title(seq)\n",
    "            plt.show()        \n",
    "\n",
    "esm_embeddings = ESMEmbeddings(esm_model)\n",
    "\n",
    "    ## Takes about 3 min to finish this cell from scratch"
   ]
  },
  {
   "cell_type": "code",
   "execution_count": 11,
   "metadata": {},
   "outputs": [],
   "source": [
    "\n",
    "# Prepare data (first 2 sequences from ESMStructuralSplitDataset superfamily / 4)\n",
    "data = [\n",
    "    (\"protein1\", \"MKTVRQERLKSIVRILERSKEPVSGAQLAEELSVSRQVIVQDIAYLRSLGYNIVATPRGYVLAGG\"),\n",
    "    (\"protein2\", \"KALTARQQEVFDLIRDHISQTGMPPTRAEIAQRLGFRSPNAAEEHLKALARKGVIEIVSGASRGIRLLQEE\"),\n",
    "    (\"protein2 with mask\",\"KALTARQQEVFDLIRD<mask>ISQTGMPPTRAEIAQRLGFRSPNAAEEHLKALARKGVIEIVSGASRGIRLLQEE\"),\n",
    "    (\"protein3\",  \"K A <mask> I S Q\"),\n",
    "]\n",
    "\n",
    "representations = esm_embeddings.get_embeddings(data)\n",
    "\n",
    "# # This is a long output but potentially useful\n",
    "# esm_embeddings.show_attention()\n"
   ]
  },
  {
   "cell_type": "markdown",
   "metadata": {},
   "source": [
    "### Structure Prediction and PLDDT\n",
    "\n",
    "Here is how to evaluate sequences by folding them using ESM and calculating plddt:"
   ]
  },
  {
   "cell_type": "code",
   "execution_count": 21,
   "metadata": {},
   "outputs": [
    {
     "ename": "ModuleNotFoundError",
     "evalue": "No module named 'openfold'",
     "output_type": "error",
     "traceback": [
      "\u001b[0;31m---------------------------------------------------------------------------\u001b[0m",
      "\u001b[0;31mModuleNotFoundError\u001b[0m                       Traceback (most recent call last)",
      "\u001b[0;32m/tmp/ipykernel_2220691/347058012.py\u001b[0m in \u001b[0;36m<module>\u001b[0;34m\u001b[0m\n\u001b[1;32m     31\u001b[0m         \u001b[0;32mreturn\u001b[0m \u001b[0moutput\u001b[0m\u001b[0;34m\u001b[0m\u001b[0;34m\u001b[0m\u001b[0m\n\u001b[1;32m     32\u001b[0m \u001b[0;34m\u001b[0m\u001b[0m\n\u001b[0;32m---> 33\u001b[0;31m \u001b[0mesm_predictions\u001b[0m \u001b[0;34m=\u001b[0m \u001b[0mESMPredictions\u001b[0m\u001b[0;34m(\u001b[0m\u001b[0mesm_predictions_model\u001b[0m\u001b[0;34m)\u001b[0m\u001b[0;34m\u001b[0m\u001b[0;34m\u001b[0m\u001b[0m\n\u001b[0m",
      "\u001b[0;32m/tmp/ipykernel_2220691/347058012.py\u001b[0m in \u001b[0;36m__init__\u001b[0;34m(self, esm_model)\u001b[0m\n\u001b[1;32m      6\u001b[0m \u001b[0;32mclass\u001b[0m \u001b[0mESMPredictions\u001b[0m\u001b[0;34m:\u001b[0m\u001b[0;34m\u001b[0m\u001b[0;34m\u001b[0m\u001b[0m\n\u001b[1;32m      7\u001b[0m     \u001b[0;32mdef\u001b[0m \u001b[0m__init__\u001b[0m\u001b[0;34m(\u001b[0m\u001b[0mself\u001b[0m\u001b[0;34m,\u001b[0m \u001b[0mesm_model\u001b[0m\u001b[0;34m)\u001b[0m\u001b[0;34m:\u001b[0m\u001b[0;34m\u001b[0m\u001b[0;34m\u001b[0m\u001b[0m\n\u001b[0;32m----> 8\u001b[0;31m         \u001b[0mmodel\u001b[0m \u001b[0;34m=\u001b[0m \u001b[0mesm_model\u001b[0m\u001b[0;34m(\u001b[0m\u001b[0;34m)\u001b[0m\u001b[0;34m\u001b[0m\u001b[0;34m\u001b[0m\u001b[0m\n\u001b[0m\u001b[1;32m      9\u001b[0m         \u001b[0mself\u001b[0m\u001b[0;34m.\u001b[0m\u001b[0mmodel\u001b[0m \u001b[0;34m=\u001b[0m \u001b[0mmodel\u001b[0m\u001b[0;34m.\u001b[0m\u001b[0meval\u001b[0m\u001b[0;34m(\u001b[0m\u001b[0;34m)\u001b[0m\u001b[0;34m.\u001b[0m\u001b[0mcuda\u001b[0m\u001b[0;34m(\u001b[0m\u001b[0;34m)\u001b[0m\u001b[0;34m\u001b[0m\u001b[0;34m\u001b[0m\u001b[0m\n\u001b[1;32m     10\u001b[0m \u001b[0;34m\u001b[0m\u001b[0m\n",
      "\u001b[0;32m~/miniforge3/envs/esmfold/lib/python3.7/site-packages/esm/pretrained.py\u001b[0m in \u001b[0;36mesmfold_v1\u001b[0;34m()\u001b[0m\n\u001b[1;32m    417\u001b[0m     \u001b[0mprotein\u001b[0m \u001b[0msequence\u001b[0m\u001b[0;34m.\u001b[0m\u001b[0;34m\u001b[0m\u001b[0;34m\u001b[0m\u001b[0m\n\u001b[1;32m    418\u001b[0m     \"\"\"\n\u001b[0;32m--> 419\u001b[0;31m     \u001b[0;32mimport\u001b[0m \u001b[0mesm\u001b[0m\u001b[0;34m.\u001b[0m\u001b[0mesmfold\u001b[0m\u001b[0;34m.\u001b[0m\u001b[0mv1\u001b[0m\u001b[0;34m.\u001b[0m\u001b[0mpretrained\u001b[0m\u001b[0;34m\u001b[0m\u001b[0;34m\u001b[0m\u001b[0m\n\u001b[0m\u001b[1;32m    420\u001b[0m     \u001b[0;32mreturn\u001b[0m \u001b[0mesm\u001b[0m\u001b[0;34m.\u001b[0m\u001b[0mesmfold\u001b[0m\u001b[0;34m.\u001b[0m\u001b[0mv1\u001b[0m\u001b[0;34m.\u001b[0m\u001b[0mpretrained\u001b[0m\u001b[0;34m.\u001b[0m\u001b[0mesmfold_v1\u001b[0m\u001b[0;34m(\u001b[0m\u001b[0;34m)\u001b[0m\u001b[0;34m\u001b[0m\u001b[0;34m\u001b[0m\u001b[0m\n",
      "\u001b[0;32m~/miniforge3/envs/esmfold/lib/python3.7/site-packages/esm/esmfold/v1/pretrained.py\u001b[0m in \u001b[0;36m<module>\u001b[0;34m\u001b[0m\n\u001b[1;32m      3\u001b[0m \u001b[0;32mimport\u001b[0m \u001b[0mtorch\u001b[0m\u001b[0;34m\u001b[0m\u001b[0;34m\u001b[0m\u001b[0m\n\u001b[1;32m      4\u001b[0m \u001b[0;34m\u001b[0m\u001b[0m\n\u001b[0;32m----> 5\u001b[0;31m \u001b[0;32mfrom\u001b[0m \u001b[0mesm\u001b[0m\u001b[0;34m.\u001b[0m\u001b[0mesmfold\u001b[0m\u001b[0;34m.\u001b[0m\u001b[0mv1\u001b[0m\u001b[0;34m.\u001b[0m\u001b[0mesmfold\u001b[0m \u001b[0;32mimport\u001b[0m \u001b[0mESMFold\u001b[0m\u001b[0;34m\u001b[0m\u001b[0;34m\u001b[0m\u001b[0m\n\u001b[0m\u001b[1;32m      6\u001b[0m \u001b[0;34m\u001b[0m\u001b[0m\n\u001b[1;32m      7\u001b[0m \u001b[0;34m\u001b[0m\u001b[0m\n",
      "\u001b[0;32m~/miniforge3/envs/esmfold/lib/python3.7/site-packages/esm/esmfold/v1/esmfold.py\u001b[0m in \u001b[0;36m<module>\u001b[0;34m\u001b[0m\n\u001b[1;32m      9\u001b[0m \u001b[0;32mimport\u001b[0m \u001b[0mtorch\u001b[0m\u001b[0;34m.\u001b[0m\u001b[0mnn\u001b[0m \u001b[0;32mas\u001b[0m \u001b[0mnn\u001b[0m\u001b[0;34m\u001b[0m\u001b[0;34m\u001b[0m\u001b[0m\n\u001b[1;32m     10\u001b[0m \u001b[0;32mfrom\u001b[0m \u001b[0momegaconf\u001b[0m \u001b[0;32mimport\u001b[0m \u001b[0mMISSING\u001b[0m\u001b[0;34m\u001b[0m\u001b[0;34m\u001b[0m\u001b[0m\n\u001b[0;32m---> 11\u001b[0;31m \u001b[0;32mfrom\u001b[0m \u001b[0mopenfold\u001b[0m\u001b[0;34m.\u001b[0m\u001b[0mdata\u001b[0m\u001b[0;34m.\u001b[0m\u001b[0mdata_transforms\u001b[0m \u001b[0;32mimport\u001b[0m \u001b[0mmake_atom14_masks\u001b[0m\u001b[0;34m\u001b[0m\u001b[0;34m\u001b[0m\u001b[0m\n\u001b[0m\u001b[1;32m     12\u001b[0m \u001b[0;32mfrom\u001b[0m \u001b[0mopenfold\u001b[0m\u001b[0;34m.\u001b[0m\u001b[0mnp\u001b[0m \u001b[0;32mimport\u001b[0m \u001b[0mresidue_constants\u001b[0m\u001b[0;34m\u001b[0m\u001b[0;34m\u001b[0m\u001b[0m\n\u001b[1;32m     13\u001b[0m \u001b[0;32mfrom\u001b[0m \u001b[0mopenfold\u001b[0m\u001b[0;34m.\u001b[0m\u001b[0mutils\u001b[0m\u001b[0;34m.\u001b[0m\u001b[0mloss\u001b[0m \u001b[0;32mimport\u001b[0m \u001b[0mcompute_predicted_aligned_error\u001b[0m\u001b[0;34m,\u001b[0m \u001b[0mcompute_tm\u001b[0m\u001b[0;34m\u001b[0m\u001b[0;34m\u001b[0m\u001b[0m\n",
      "\u001b[0;31mModuleNotFoundError\u001b[0m: No module named 'openfold'"
     ]
    }
   ],
   "source": [
    "import biotite.structure.io as bsio\n",
    "\n",
    "\n",
    "esm_predictions_model = esm.pretrained.esmfold_v1\n",
    "\n",
    "class ESMPredictions:\n",
    "    def __init__(self, esm_model):\n",
    "        model = esm_model()\n",
    "        self.model = model.eval().cuda()\n",
    "\n",
    "    def single_sequence(self, sequence, save_to=\"result\"):\n",
    "        \"\"\"Predict the structure for a sequence sequence and get its score\n",
    "        \"\"\"\n",
    "        # Optionally, uncomment to set a chunk size for axial attention. This can help reduce memory.\n",
    "        # Lower sizes will have lower memory requirements at the cost of increased speed.\n",
    "        # model.set_chunk_size(128)\n",
    "\n",
    "        # Multimer prediction can be done with chains separated by ':'\n",
    "\n",
    "        with torch.no_grad():\n",
    "            output = self.model.infer_pdb(sequence)\n",
    "\n",
    "        if save_to != \"\":\n",
    "            with open(f\"{save_to}.pdb\", \"w\") as f:\n",
    "                f.write(output)\n",
    "            struct = bsio.load_structure(f\"{save_to}.pdb\", extra_fields=[\"b_factor\"])\n",
    "            pLDDT = struct.b_factor.mean()  # this will be the pLDDT\n",
    "\n",
    "            return struct, pLDDT\n",
    "\n",
    "        return output\n",
    "\n",
    "esm_predictions = ESMPredictions(esm_predictions_model)"
   ]
  },
  {
   "cell_type": "code",
   "execution_count": null,
   "metadata": {},
   "outputs": [],
   "source": [
    "# 88.3\n",
    "sequence = \"MKTVRQERLKSIVRILERSKEPVSGAQLAEELSVSRQVIVQDIAYLRSLGYNIVATPRGYVLAGG\"\n",
    "\n",
    "struct, pLDDT = esm_predictions.single_sequence(sequence)\n",
    "print(pLDDT)"
   ]
  }
 ],
 "metadata": {
  "kernelspec": {
   "display_name": "Python 3 (ipykernel)",
   "language": "python",
   "name": "python3"
  },
  "language_info": {
   "codemirror_mode": {
    "name": "ipython",
    "version": 3
   },
   "file_extension": ".py",
   "mimetype": "text/x-python",
   "name": "python",
   "nbconvert_exporter": "python",
   "pygments_lexer": "ipython3",
   "version": "3.7.12"
  }
 },
 "nbformat": 4,
 "nbformat_minor": 2
}
