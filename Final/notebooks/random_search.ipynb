{
 "cells": [
  {
   "cell_type": "code",
   "execution_count": null,
   "id": "d27e95c3-9645-42be-b391-e3755b87173f",
   "metadata": {},
   "outputs": [],
   "source": [
    "## Run once cell\n",
    "\n",
    "%load_ext autoreload\n",
    "%autoreload 2\n",
    "\n",
    "import os\n",
    "os.chdir('..')"
   ]
  },
  {
   "cell_type": "code",
   "execution_count": null,
   "id": "b726c5bc-f624-49b2-b625-943443ab27f7",
   "metadata": {},
   "outputs": [],
   "source": [
    "import sys\n",
    "\n",
    "import numpy as np\n",
    "import pandas as pd\n",
    "\n",
    "from moleculib.protein.datum import ProteinDatum\n",
    "from moleculib.protein.alphabet import all_residues\n",
    "from helpers.utils import aa_map, residue_map\n",
    "\n",
    "from helpers.edges import connect_edges, CascadingEdges\n",
    "from helpers.cascades import Cascade, MakeCascade, Metrics, MetricsPair, MakeMetricsPair\n",
    "from helpers.neighborhood import GetNeighbors, NeighborMetrics, MakeNeighborMetrics\n",
    "from helpers.candidates import MakeCandidate\n",
    "\n",
    "\n",
    "\n",
    "path_to_data = \"data/final/\"\n",
    "df = pd.read_pickle(path_to_data + \"master_dataframe.pkl\")\n",
    "edges = pd.read_pickle(path_to_data + \"master_edges.pkl\")\n",
    "print(df.shape, len(edges))\n",
    "\n",
    "## Initialize the cascading edges\n",
    "cascading_edges = CascadingEdges(edges)\n",
    "\n",
    "\n",
    "def datum_to_sequence(datum):\n",
    "    \"\"\"Given a datum object, return the sequence of the protein.\"\"\"\n",
    "    return [all_residues[token] for token in datum.residue_token]\n",
    "\n",
    "\n",
    "# ubi = \"MQIFVKTLTG KTITLEVEPS DTIENVKAKI QDKEGIPPDQ QRLIFAGKQL EDGRTLSDYN IQKESTLHLV LRLRGG\"\n",
    "ubiquitin_scaffold = \"MQIFVKTLTGKTITLEVEPSDTIENVKAKIQDKEGIPPDQQRLIFAGKQLEDGRTLSDYNIQKESTLHLVLRLRGG\"\n",
    "# MQIFVKTLT-[Motif]-GKTITLEVEPSDTIENVKAKIQDKEGIPPDQQRLIFAGKQLEDGRTLSDYNIQKESTLHLVLRLRGG\n",
    "\n",
    "def scaffolded_motif(motif, scaffold=ubiquitin_scaffold):\n",
    "    print(f\"Length of motif: {len(motif)}\")\n",
    "    return f\"{scaffold[:9]}{motif}{scaffold[9:]}\"\n",
    "\n",
    "\n",
    "##query_index = 188414neighbor_metrics, distances, top_vectors =  MakeNeighborMetrics(df, edges, query_index)(n_neighbors=8)\n",
    "#neighbor_metrics.plot()\n"
   ]
  },
  {
   "cell_type": "code",
   "execution_count": null,
   "id": "59e16254",
   "metadata": {},
   "outputs": [],
   "source": [
    "global_candidates = []\n",
    "\n",
    "def sample_and_generate_candidates(df, level, k):\n",
    "    \"\"\"Sample k nodes from the dataframe at a given hierarchy level and generate candidates.\"\"\"\n",
    "    \n",
    "    # Filter the dataframe for the given level\n",
    "    level_df = df[df['level'] == level]\n",
    "    \n",
    "    # If k is greater than the number of rows in level_df, reduce k to the number of rows\n",
    "    if k > len(level_df):\n",
    "        k = len(level_df)\n",
    "    \n",
    "    # Select k indices at random from the dataframe\n",
    "    sampled_indices = np.random.choice(level_df.index, k, replace=False)\n",
    "    \n",
    "    # Generate candidates for each sampled index\n",
    "    for idx in sampled_indices:\n",
    "        make_candidate = MakeCandidate(df, edges, idx)\n",
    "        candidate = make_candidate()\n",
    "        if candidate is not None:\n",
    "            global_candidates.append(candidate)\n"
   ]
  },
  {
   "cell_type": "markdown",
   "id": "abb14103",
   "metadata": {},
   "source": [
    "### Metric Metric"
   ]
  },
  {
   "cell_type": "code",
   "execution_count": null,
   "id": "0b8b77cf",
   "metadata": {},
   "outputs": [],
   "source": [
    "import matplotlib.pyplot as plt\n",
    "from scipy.spatial import distance as ssd\n",
    "from tqdm import tqdm\n",
    "\n",
    "def sample_and_calculate_distance(df, level_bot, level_top=4, n_iter=100):\n",
    "    \"\"\"Doc String\"\"\"\n",
    "    parent_distances = []\n",
    "    child_distances = []\n",
    "    \n",
    "    level_df = df[df['level'] == level_bot]\n",
    "    for i in tqdm(range(n_iter)):\n",
    "        sampled_indices = np.random.choice(level_df.index, 2, replace=False)\n",
    "        point1 = np.stack(level_df.loc[sampled_indices[0]]['scalar_rep'])\n",
    "        point2 = np.stack(level_df.loc[sampled_indices[1]]['scalar_rep'])\n",
    "        \n",
    "        # Get cosine distance\n",
    "        cosine_distance = ssd.cosine(point1, point2)\n",
    "        # distance = np.linalg.norm(point1 - point2)\n",
    "        \n",
    "        try:\n",
    "            point1_parent_indices = cascading_edges(sampled_indices[0])[level_top-level_bot]\n",
    "            point2_parent_indices = cascading_edges(sampled_indices[1])[level_top-level_bot]\n",
    "        \n",
    "\n",
    "            point1_parent = np.stack(df.iloc[point1_parent_indices]['scalar_rep'])\n",
    "            point2_parent = np.stack(df.iloc[point2_parent_indices]['scalar_rep'])\n",
    "\n",
    "            parent_distance = ssd.cosine(point1_parent, point2_parent)\n",
    "        except (ValueError, IndexError):\n",
    "            continue\n",
    "        \n",
    "        parent_distances.append(parent_distance)\n",
    "        child_distances.append(cosine_distance)\n",
    "\n",
    "    return parent_distances, child_distances\n",
    "\n",
    "\n",
    "\n",
    "def plot_parent_child_distances(parent_distances, child_distances, bottom, top):\n",
    "    \"\"\"Plot parent distances against child distances in a scatter plot.\"\"\"\n",
    "    plt.figure(figsize=(10, 6))\n",
    "    plt.scatter(child_distances, parent_distances, alpha=0.5)\n",
    "    plt.title(f'Child vs Parent Distances for levels {bottom} to {top}')\n",
    "    plt.xlabel('Child Distances')\n",
    "    plt.ylabel('Parent Distances')\n",
    "    plt.grid(True)\n",
    "    plt.show()\n"
   ]
  },
  {
   "cell_type": "code",
   "execution_count": null,
   "id": "63cef325",
   "metadata": {},
   "outputs": [],
   "source": [
    "\n",
    "bot, top = 2, 3\n",
    "parent_distances, child_distances = sample_and_calculate_distance(df, bot, top, 10_000)\n",
    "\n",
    "plot_parent_child_distances(parent_distances, child_distances, bot, top)"
   ]
  },
  {
   "cell_type": "code",
   "execution_count": null,
   "id": "12012a01",
   "metadata": {},
   "outputs": [],
   "source": [
    "\n",
    "bot, top = 1, 3\n",
    "parent_distances, child_distances = sample_and_calculate_distance(df, bot, top, 10_000)\n",
    "\n",
    "plot_parent_child_distances(parent_distances, child_distances, bot, top)"
   ]
  },
  {
   "cell_type": "code",
   "execution_count": null,
   "id": "352fe1eb",
   "metadata": {},
   "outputs": [],
   "source": [
    "\n",
    "bot, top = 2, 3\n",
    "parent_distances, child_distances = sample_and_calculate_distance(df, bot, top, 10_000)\n",
    "\n",
    "plot_parent_child_distances(parent_distances, child_distances, bot, top)"
   ]
  },
  {
   "cell_type": "code",
   "execution_count": null,
   "id": "763e1f8a",
   "metadata": {},
   "outputs": [],
   "source": [
    "\n",
    "bot, top = 1, 2\n",
    "parent_distances, child_distances = sample_and_calculate_distance(df, bot, top, 10_000)\n",
    "\n",
    "plot_parent_child_distances(parent_distances, child_distances, bot, top)"
   ]
  },
  {
   "cell_type": "code",
   "execution_count": null,
   "id": "27cd9d0b",
   "metadata": {},
   "outputs": [],
   "source": [
    "\n",
    "bot, top = 1, 4\n",
    "parent_distances, child_distances = sample_and_calculate_distance(df, bot, top, 10_000)\n",
    "\n",
    "plot_parent_child_distances(parent_distances, child_distances, bot, top)"
   ]
  },
  {
   "cell_type": "code",
   "execution_count": null,
   "id": "6f1a0b0e",
   "metadata": {},
   "outputs": [],
   "source": []
  },
  {
   "cell_type": "code",
   "execution_count": null,
   "id": "440b4c96",
   "metadata": {},
   "outputs": [],
   "source": [
    "parent_distances, child_distances = sample_and_calculate_distance(df, 3, 50_000)\n",
    "\n",
    "plot_parent_child_distances(parent_distances, child_distances)"
   ]
  },
  {
   "cell_type": "code",
   "execution_count": null,
   "id": "e7560de4",
   "metadata": {},
   "outputs": [],
   "source": [
    "parent_distances, child_distances = sample_and_calculate_distance(df, 2, 10_000)\n",
    "\n",
    "plot_parent_child_distances(parent_distances, child_distances)"
   ]
  },
  {
   "cell_type": "code",
   "execution_count": null,
   "id": "a8350cef",
   "metadata": {},
   "outputs": [],
   "source": [
    "## 1 and 4\n",
    "\n",
    "parent_distances, child_distances = sample_and_calculate_distance(df, 1, 10_000)\n",
    "\n",
    "plot_parent_child_distances(parent_distances, child_distances)"
   ]
  },
  {
   "cell_type": "code",
   "execution_count": null,
   "id": "9fd916cb",
   "metadata": {},
   "outputs": [],
   "source": [
    "index_pairs = [(1, 2), (1, 3), (1, 4), (2, 3), (2, 4), (3, 4)]  # Define pairs of bottom and top indices\n",
    "\n",
    "def plot_helper(parent_distances, child_distances, bottom, top, ax):\n",
    "    \"\"\"Plot parent distances against child distances in a scatter plot on a given axis with gradient coloring.\"\"\"\n",
    "    colors = np.linspace(0, 1, len(child_distances))  # Create a gradient of colors based on the number of points\n",
    "    scatter = ax.scatter(child_distances, parent_distances, c=colors, cmap='viridis', alpha=0.5, s=10)  # Use the gradient for coloring\n",
    "    ax.set_title(f'Child vs Parent Distances for levels {bottom} to {top}')\n",
    "    ax.set_xlabel('Child Distances')\n",
    "    ax.set_ylabel('Parent Distances')\n",
    "    ax.grid(True)\n",
    "\n",
    "\n",
    "def big_plot(n_iter):\n",
    "    fig, axs = plt.subplots(2, 3, figsize=(15, 10))  # Create a 2x3 grid of subplots\n",
    "    plot_index = 0  # To track which subplot to fill\n",
    "    \n",
    "    for bot, top in index_pairs:\n",
    "        parent_distances, child_distances = sample_and_calculate_distance(df, bot, top, n_iter=n_iter)\n",
    "        ax = axs[plot_index // 3, plot_index % 3]  # Determine the position in the grid\n",
    "        plot_helper(parent_distances, child_distances, bot, top, ax=ax)  # Pass the specific axis\n",
    "        ax.set_title(f'Bottom: {bot}, Top: {top}')  # Set title for each subplot\n",
    "        plot_index += 1  # Move to the next subplot index\n",
    "\n",
    "    plt.tight_layout()  # Adjust layout to prevent overlap\n",
    "    plt.show()  # Display the plots\n"
   ]
  },
  {
   "cell_type": "code",
   "execution_count": null,
   "id": "2dfa7fa6",
   "metadata": {},
   "outputs": [],
   "source": [
    "big_plot(15000)"
   ]
  },
  {
   "cell_type": "code",
   "execution_count": null,
   "id": "49f23a91",
   "metadata": {},
   "outputs": [],
   "source": []
  },
  {
   "cell_type": "code",
   "execution_count": null,
   "id": "0378f641",
   "metadata": {},
   "outputs": [],
   "source": [
    "def big_plot(n_iter):\n",
    "    fig, axs = plt.subplots(2, 3, figsize=(15, 10))  # Create a 2x3 grid of subplots\n",
    "    plot_index = 0  # To track which subplot to fill\n",
    "    \n",
    "    for bot, top in index_pairs:\n",
    "        parent_distances, child_distances = sample_and_calculate_distance(df, bot, top, n_iter=n_iter)\n",
    "        ax = axs[plot_index // 3, plot_index % 3]  # Determine the position in the grid\n",
    "        plot_helper(parent_distances, child_distances, bot, top, ax=ax)  # Pass the specific axis\n",
    "        ax.set_title(f'Bottom: {bot}, Top: {top}')  # Set title for each subplot\n",
    "        plot_index += 1  # Move to the next subplot index\n",
    "\n",
    "    plt.tight_layout()  # Adjust layout to prevent overlap\n",
    "    plt.show()  # Display the plots"
   ]
  },
  {
   "cell_type": "code",
   "execution_count": null,
   "id": "18a63df3",
   "metadata": {},
   "outputs": [],
   "source": []
  },
  {
   "cell_type": "code",
   "execution_count": null,
   "id": "b877d37c",
   "metadata": {},
   "outputs": [],
   "source": []
  },
  {
   "cell_type": "code",
   "execution_count": null,
   "id": "8a5c20e7",
   "metadata": {},
   "outputs": [],
   "source": [
    "from moleculib.protein.datum import ProteinDatum\n",
    "from moleculib.assembly.datum import AssemblyDatum\n",
    "from moleculib.graphics.py3Dmol import plot_py3dmol_grid\n",
    "\n",
    "heme = AssemblyDatum.fetch_pdb_id('1a3n')\n",
    "heme_protein = ProteinDatum.fetch_pdb_id('1a3n')\n",
    "\n",
    "plot_py3dmol_grid([[heme]])\n"
   ]
  },
  {
   "cell_type": "code",
   "execution_count": null,
   "id": "e61934fe",
   "metadata": {},
   "outputs": [],
   "source": [
    "hindIII = AssemblyDatum.fetch_pdb_id('2e52')\n",
    "ecoRI = AssemblyDatum.fetch_pdb_id('1erI')\n",
    "\n",
    "plot_py3dmol_grid([[hindIII]]).show()\n",
    "plot_py3dmol_grid([[ecoRI]])\n",
    "\n"
   ]
  },
  {
   "cell_type": "markdown",
   "id": "dd022f2b",
   "metadata": {},
   "source": []
  },
  {
   "cell_type": "markdown",
   "id": "bd150d56",
   "metadata": {},
   "source": [
    "### Random candidates by level"
   ]
  },
  {
   "cell_type": "code",
   "execution_count": null,
   "id": "341ee7ab-bc09-4eba-88cb-a188ad814fe6",
   "metadata": {},
   "outputs": [],
   "source": [
    "# Now we do a random search for candidates\n",
    "\n",
    "def get_random_candidates_by_level(df, level, k, \n",
    "                                   max_tries=500, \n",
    "                                   n_neighbors_threshold=10, \n",
    "                                   divergence_threshold=0.00007):\n",
    "    \n",
    "    # Filter the dataframe for the given level\n",
    "    level_df = df[df['level'] == level]\n",
    "    \n",
    "    # If k is greater than the number of rows in level_df, reduce k to the number of rows\n",
    "    if k > len(level_df):\n",
    "        k = len(level_df)\n",
    "    \n",
    "    # # Select k indices evenly spaced around the dataframe\n",
    "    # indices = np.linspace(0, len(level_df) - 1, k, dtype=int)\n",
    "    # Select k indices at random from the dataframe\n",
    "    indices = np.random.choice(level_df.index, max_tries, replace=False)\n",
    "    \n",
    "    # Get the actual indices from the dataframe\n",
    "    actual_indices = level_df.loc[indices].index\n",
    "    \n",
    "    # List to store candidates\n",
    "    candidates = []\n",
    "\n",
    "\n",
    "    # Generate candidates for each index\n",
    "    n_candidates = 0\n",
    "    for total_count, idx in enumerate(actual_indices):\n",
    "        if n_candidates > k:\n",
    "            break\n",
    "        make_candidate = MakeCandidate(df, edges, idx)\n",
    "        candidate = make_candidate(n_neighbors_threshold=n_neighbors_threshold)\n",
    "        # candidate = make_candidate(radius_threshold=0.00004)\n",
    "        if candidate is None or not candidate.eval(divergence_threshold=divergence_threshold):\n",
    "            continue\n",
    "        candidates.append(candidate)\n",
    "        n_candidates += 1\n",
    "\n",
    "    print(f\"Total candidates sampled: {total_count}\", end=\"; \")\n",
    "    if n_candidates == 0:\n",
    "        print(\"No candidates found!\")\n",
    "    return candidates, total_count\n",
    "\n"
   ]
  },
  {
   "cell_type": "code",
   "execution_count": null,
   "id": "554fa875-ab12-4409-9ee1-7969c0254874",
   "metadata": {},
   "outputs": [],
   "source": [
    "# Example usage:\n",
    "num_candidates = 7\n",
    "\n",
    "max_iter = 50\n",
    "\n",
    "def experiment1(n_neighbors_thresholds, selected_level=2):\n",
    "    \"\"\"Fix everything except the number of candidates...\n",
    "    \"\"\"\n",
    "    all_candidates = []\n",
    "    total_counts = []\n",
    "    return_n_neighbors_thresholds = []\n",
    "    for n_neighbors_threshold in n_neighbors_thresholds:\n",
    "        try:\n",
    "            random_candidates, total_count = get_random_candidates_by_level(df, selected_level, num_candidates,\n",
    "                                                               max_tries=max_iter,\n",
    "                                                               n_neighbors_threshold=n_neighbors_threshold,\n",
    "                                                               divergence_threshold=7e-4)\n",
    "        except ValueError:\n",
    "            continue\n",
    "        all_candidates.append(random_candidates)\n",
    "        total_counts.append(total_count)\n",
    "        return_n_neighbors_thresholds.append(n_neighbors_threshold)\n",
    "    return all_candidates, total_counts, return_n_neighbors_thresholds\n"
   ]
  },
  {
   "cell_type": "code",
   "execution_count": null,
   "id": "6750dff8-3c9a-45ef-9494-852b06033885",
   "metadata": {},
   "outputs": [],
   "source": [
    "# Run experiment 1\n",
    "\n",
    "N_NEIGHBORS_THRESHOLD = [3, 5, 7, 9, 11, 13, 15, 17, 20]\n",
    "\n",
    "_, exp1_counts, neighbors = experiment1(N_NEIGHBORS_THRESHOLD, selected_level=3)"
   ]
  },
  {
   "cell_type": "code",
   "execution_count": null,
   "id": "29f4791d-51f1-420e-98b7-96ace6a4f30f",
   "metadata": {},
   "outputs": [],
   "source": [
    "# Plotting\n",
    "import matplotlib.pyplot as plt\n",
    "def plot_exp1(exp1_res, n_neighbors_threshold):\n",
    "    total_counts = exp1_res[1]\n",
    "    plt.bar(n_neighbors_threshold, total_counts)\n",
    "    plt.title(\"Number of samples needed to reach divergence threshold\")\n",
    "    plt.xlabel(\"Size of neighborhood for substructure representation level\")\n",
    "    plt.ylabel(\"Number of candidates sampled\")\n",
    "    plt.show()\n",
    "\n",
    "plot_exp1((_, exp1_counts), neighbors)"
   ]
  },
  {
   "cell_type": "code",
   "execution_count": null,
   "id": "146de823-2c36-428e-a7ac-d853d75946cc",
   "metadata": {},
   "outputs": [],
   "source": [
    "%%time\n",
    "\n",
    "# N_NEIGHBORS_THRESHOLD = [7]\n",
    "\n",
    "\n",
    "def experiment2(divergence_thresholds):\n",
    "    \"\"\"Experiment 2: Increase the divergence threshold by some factor\"\"\"\n",
    "\n",
    "    res = dict()\n",
    "    new_neighbors = []\n",
    "    for divergence_threshold in divergence_thresholds:\n",
    "        print(f\"At divergence threshold: {divergence_threshold}\")\n",
    "        try:\n",
    "            candidates, total_counts, neighbors = experiment1(N_NEIGHBORS_THRESHOLD)\n",
    "        except ValueError:\n",
    "            continue\n",
    "        res[divergence_threshold] = total_counts \n",
    "        new_neighbors.append(neighbors)\n",
    "        print()\n",
    "\n",
    "    return res, new_neighbors\n",
    "\n",
    "def make_thresholds(starting_threshold, factor, n=4):\n",
    "    \"\"\"Double the starting threshold for n steps\"\"\"\n",
    "    thresholds = [starting_threshold]\n",
    "    for i in range(n-1):\n",
    "        thresholds.append(thresholds[-1] * factor)\n",
    "    return thresholds\n",
    "\n",
    "\n",
    "N_NEIGHBORS_THRESHOLD = [3, 5, 7, 9, 11, 13, 15, 17, 20]\n",
    "\n",
    "\n",
    "DIVERGENCE_THRESHOLDS = []\n",
    "    \n",
    "#for candidate in random_candidates:\n",
    "#    print(candidate)"
   ]
  },
  {
   "cell_type": "code",
   "execution_count": null,
   "id": "cbcfdb16-7a5d-4faf-aecf-9ddabc94d492",
   "metadata": {},
   "outputs": [],
   "source": [
    "%%time\n",
    "\n",
    "def run_experiment_2(factor, n_thresholds):\n",
    "    x = 7e-4\n",
    "    exp2_res, new_neighbors = experiment2(make_thresholds(x, factor, n_thresholds))\n",
    "    return exp2_res, new_neighbors\n",
    "\n",
    "exp2_res, new_neighbors = run_experiment_2(2, 2)"
   ]
  },
  {
   "cell_type": "code",
   "execution_count": null,
   "id": "c1bf8517-022e-4556-8f31-f9e69cbe4522",
   "metadata": {},
   "outputs": [],
   "source": [
    "# Plotting\n",
    "from matplotlib import pyplot as plt\n",
    "\n",
    "total_counts = exp2_res\n",
    "for threshold, total_counts in exp2_res.items():\n",
    "    plt.bar(new_neighbors, total_counts, label=f\"Divergence threshold: {threshold}\", alpha=0.5)\n",
    "    # plt.plot(N_NEIGHBORS_THRESHOLD, total_counts, label=f\"Divergence threshold: {threshold}\", alpha=0.5)\n",
    "plt.title(\"Number of samples needed to reach divergence threshold\")\n",
    "plt.xlabel(\"Size of neighborhood for substructure representation level\")\n",
    "plt.ylabel(\"Number of candidates sampled\")\n",
    "plt.legend()\n",
    "plt.show()"
   ]
  },
  {
   "cell_type": "code",
   "execution_count": null,
   "id": "ef236336-418d-43c4-9458-b281627b6fcd",
   "metadata": {},
   "outputs": [],
   "source": []
  },
  {
   "cell_type": "code",
   "execution_count": null,
   "id": "870a682a-c489-4c74-93a6-67377bd748bd",
   "metadata": {},
   "outputs": [],
   "source": [
    "N_NEIGHBORS_THRESHOLD = [3, 5, 7, 9, 11, 13, 15, 17, 20]\n",
    "\n",
    "exp1_res = experiment1(N_NEIGHBORS_THRESHOLD, 2)\n",
    "plot_exp1(exp1_res)"
   ]
  },
  {
   "cell_type": "code",
   "execution_count": null,
   "id": "8a43b96d-a2b0-47e3-b464-ca078b5f06ca",
   "metadata": {},
   "outputs": [],
   "source": [
    "\n",
    "#N_NEIGHBORS_THRESHOLD = [5, 10, 15, 20, 25, 30, 35, 40, 45, 50]\n",
    "#N_NEIGHBORS_THRESHOLD = [5, 10, 15, 20, 25, 30, 35, 40, 45, 50, 55, 60, 65, 70, 75, 80]\n",
    "#N_NEIGHBORS_THRESHOLD = [i for i in range(10, 101, 10)]\n",
    "N_NEIGHBORS_THRESHOLD = [3, 5, 7, 10, 13, 15, 17, 20]\n",
    "\n",
    "\n",
    "exp1_res = experiment1(N_NEIGHBORS_THRESHOLD, 2)\n",
    "plot_exp1(exp1_res, N_NEIGHBORS_THRESHOLD)"
   ]
  },
  {
   "cell_type": "code",
   "execution_count": null,
   "id": "c7040f33-8cab-4776-9b3a-2084d4d2276c",
   "metadata": {},
   "outputs": [],
   "source": [
    "exp1_res = experiment1(N_NEIGHBORS_THRESHOLD, 3)\n",
    "plot_exp1(exp1_res, N_NEIGHBORS_THRESHOLD)"
   ]
  }
 ],
 "metadata": {
  "kernelspec": {
   "display_name": "Python 3 (ipykernel)",
   "language": "python",
   "name": "python3"
  },
  "language_info": {
   "codemirror_mode": {
    "name": "ipython",
    "version": 3
   },
   "file_extension": ".py",
   "mimetype": "text/x-python",
   "name": "python",
   "nbconvert_exporter": "python",
   "pygments_lexer": "ipython3",
   "version": "3.10.14"
  }
 },
 "nbformat": 4,
 "nbformat_minor": 5
}
