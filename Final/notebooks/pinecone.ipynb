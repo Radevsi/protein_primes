{
 "cells": [
  {
   "cell_type": "code",
   "execution_count": null,
   "metadata": {},
   "outputs": [],
   "source": [
    "## Run once cell\n",
    "\n",
    "%load_ext autoreload\n",
    "%autoreload 2\n",
    "\n",
    "import os\n",
    "os.chdir('..')"
   ]
  },
  {
   "cell_type": "code",
   "execution_count": null,
   "metadata": {},
   "outputs": [],
   "source": [
    "import numpy as np\n",
    "import pandas as pd\n",
    "\n",
    "path_to_data = \"data/final/\"\n",
    "df = pd.read_pickle(path_to_data + \"master_dataframe.pkl\")\n",
    "edges = pd.read_pickle(path_to_data + \"master_edges.pkl\")\n",
    "df.shape, len(edges)"
   ]
  },
  {
   "cell_type": "code",
   "execution_count": null,
   "metadata": {},
   "outputs": [],
   "source": [
    "lvl2_vectors = np.array(df[df['level'] == 2]['scalar_rep'].values.tolist())\n",
    "lvl2_vectors.shape"
   ]
  },
  {
   "cell_type": "code",
   "execution_count": null,
   "metadata": {},
   "outputs": [],
   "source": [
    "from pinecone import Pinecone, ServerlessSpec\n",
    "\n",
    "pc = Pinecone(api_key=\"f676907e-9d77-4e1c-89b5-6b996b971354\")"
   ]
  },
  {
   "cell_type": "code",
   "execution_count": null,
   "metadata": {},
   "outputs": [],
   "source": [
    "pc.create_index(\n",
    "    name=\"proteins-lvl2\",\n",
    "    dimension=46, # Replace with your model dimensions\n",
    "    metric=\"cosine\", # Replace with your model metric\n",
    "    spec=ServerlessSpec(\n",
    "        cloud=\"aws\",\n",
    "        region=\"us-east-1\"\n",
    "    ) \n",
    ")"
   ]
  },
  {
   "cell_type": "code",
   "execution_count": null,
   "metadata": {},
   "outputs": [],
   "source": []
  },
  {
   "cell_type": "code",
   "execution_count": null,
   "metadata": {},
   "outputs": [],
   "source": [
    "lvl2_upsert = []\n",
    "for i, lvl2_vector in enumerate(lvl2_vectors):\n",
    "    lvl2_upsert.append({\"id\": f\"vec{i}\", \"values\": lvl2_vector})\n",
    "\n",
    "len(lvl2_upsert)\n",
    "\n",
    "def split_vectors(vector_list, max_size=1000):\n",
    "    \"\"\"Split a list of vectors into multiple lists, each with a maximum size of max_size.\"\"\"\n",
    "    return [vector_list[i:i + max_size] for i in range(0, len(vector_list), max_size)]\n",
    "\n",
    "# Splitting the lvl2_upsert list into parts of at most 1000 vectors each\n",
    "lvl2_upsert_parts = split_vectors(lvl2_upsert, 1000)\n",
    "\n",
    "\n",
    "# # Splitting the lvl2_upsert list into 5 roughly even parts\n",
    "# split_size = len(lvl2_upsert) // 68\n",
    "# lvl2_upsert_parts = [lvl2_upsert[i:i + split_size] for i in range(0, len(lvl2_upsert), split_size)]\n",
    "# # Ensure that all elements are included in the parts\n",
    "# if len(lvl2_upsert_parts) > 68:\n",
    "#     lvl2_upsert_parts[67].extend(lvl2_upsert_parts.pop())\n",
    "\n",
    "# len(lvl2_upsert_parts)\n",
    "\n"
   ]
  },
  {
   "cell_type": "code",
   "execution_count": null,
   "metadata": {},
   "outputs": [],
   "source": [
    "\n",
    "\n",
    "index = pc.Index(\"proteins-lvl2\")\n",
    "\n"
   ]
  },
  {
   "cell_type": "code",
   "execution_count": null,
   "metadata": {},
   "outputs": [],
   "source": [
    "%%time\n",
    "\n",
    "for part in lvl2_upsert_parts:\n",
    "    print(len(part))\n",
    "    index.upsert(\n",
    "        vectors=part,\n",
    "        namespace=\"ns1\"\n",
    "    )\n",
    "\n"
   ]
  },
  {
   "cell_type": "code",
   "execution_count": null,
   "metadata": {},
   "outputs": [],
   "source": [
    "lvl2"
   ]
  },
  {
   "cell_type": "code",
   "execution_count": null,
   "metadata": {},
   "outputs": [],
   "source": [
    "\n",
    "query_results_all = []\n",
    "for vector in lvl2_vectors:\n",
    "    vector = list(vector)\n",
    "    vector = [float(i) for i in vector]\n",
    "    query_results1 = index.query(\n",
    "        namespace=\"ns1\",\n",
    "        vector=vector,\n",
    "        top_k=10,\n",
    "        include_values=True\n",
    "    )\n",
    "    break\n",
    "\n",
    "print(query_results1)"
   ]
  },
  {
   "cell_type": "code",
   "execution_count": null,
   "metadata": {},
   "outputs": [],
   "source": [
    "from tqdm import tqdm\n",
    "\n",
    "def get_all_scores(vectors, top_k=10):\n",
    "    \"\"\"Given a list of vectors, return the scores of the top_k matches for each vector.\"\"\"\n",
    "    query_results = []\n",
    "    for vector in tqdm(vectors):\n",
    "        vector = [float(i) for i in vector]\n",
    "        query_results.extend([1 - match.score for match in index.query(\n",
    "            namespace=\"ns1\",\n",
    "            vector=vector,\n",
    "            top_k=top_k,\n",
    "            include_values=True\n",
    "        ).matches])\n",
    "\n",
    "    return query_results\n"
   ]
  },
  {
   "cell_type": "code",
   "execution_count": null,
   "metadata": {},
   "outputs": [],
   "source": [
    "%%time\n",
    "\n",
    "all_scores = get_all_scores(lvl2_vectors[:1000])\n",
    "len(all_scores)"
   ]
  },
  {
   "cell_type": "code",
   "execution_count": null,
   "metadata": {},
   "outputs": [],
   "source": [
    "all_scores_normalized = [(score - min(all_scores)) / (max(all_scores) - min(all_scores)) for score in all_scores]\n"
   ]
  },
  {
   "cell_type": "code",
   "execution_count": null,
   "metadata": {},
   "outputs": [],
   "source": [
    "import matplotlib.pyplot as plt\n",
    "\n",
    "# Create a histogram of all scores\n",
    "plt.figure(figsize=(10, 6))\n",
    "plt.hist(all_scores_normalized, bins=1000, color='blue', alpha=0.7)\n",
    "plt.xlim(-0.001, 0.001)\n",
    "plt.title('Histogram of All Scores')\n",
    "plt.xlabel('Scores')\n",
    "plt.ylabel('Frequency')\n",
    "plt.grid(True)\n",
    "plt.show()\n"
   ]
  }
 ],
 "metadata": {
  "kernelspec": {
   "display_name": "Python 3 (ipykernel)",
   "language": "python",
   "name": "python3"
  },
  "language_info": {
   "codemirror_mode": {
    "name": "ipython",
    "version": 3
   },
   "file_extension": ".py",
   "mimetype": "text/x-python",
   "name": "python",
   "nbconvert_exporter": "python",
   "pygments_lexer": "ipython3",
   "version": "3.10.14"
  }
 },
 "nbformat": 4,
 "nbformat_minor": 2
}
