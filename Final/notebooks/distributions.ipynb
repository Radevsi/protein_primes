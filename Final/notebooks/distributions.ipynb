{
 "cells": [
  {
   "cell_type": "markdown",
   "metadata": {},
   "source": [
    "## Distributions\n",
    "\n",
    "Calculate distributions and other useful metrics for our data, with all its hierarchies..."
   ]
  },
  {
   "cell_type": "code",
   "execution_count": 2,
   "metadata": {},
   "outputs": [],
   "source": [
    "## Run once cell\n",
    "\n",
    "%load_ext autoreload\n",
    "%autoreload 2\n",
    "\n",
    "import os\n",
    "os.chdir('..')"
   ]
  },
  {
   "cell_type": "code",
   "execution_count": 3,
   "metadata": {},
   "outputs": [],
   "source": [
    "import sys\n",
    "import numpy as np\n",
    "import pandas as pd\n",
    "\n",
    "from helpers.statistics import ComputeDistanceMatrix, Distributions"
   ]
  },
  {
   "cell_type": "code",
   "execution_count": 3,
   "metadata": {},
   "outputs": [
    {
     "data": {
      "text/plain": [
       "((251038, 7), 235229)"
      ]
     },
     "execution_count": 3,
     "metadata": {},
     "output_type": "execute_result"
    }
   ],
   "source": [
    "# Import data\n",
    "path_to_data = \"data/final/\"\n",
    "df = pd.read_pickle(path_to_data + \"master_dataframe.pkl\")\n",
    "edges = pd.read_pickle(path_to_data + \"master_edges.pkl\")\n",
    "df.shape, len(edges)"
   ]
  },
  {
   "cell_type": "code",
   "execution_count": 7,
   "metadata": {},
   "outputs": [
    {
     "name": "stdout",
     "output_type": "stream",
     "text": [
      "Sampled 2510 rows from the DataFrame.\n"
     ]
    }
   ],
   "source": [
    "sampled_df = df.sample(frac=0.01)\n",
    "print(f\"Sampled {len(sampled_df)} rows from the DataFrame.\")\n"
   ]
  },
  {
   "cell_type": "code",
   "execution_count": 22,
   "metadata": {},
   "outputs": [
    {
     "name": "stdout",
     "output_type": "stream",
     "text": [
      "Computing at level 1 with scalars shape: (1328, 33)\n",
      "Computing at level 3 with scalars shape: (345, 64)\n",
      "Computing at level 2 with scalars shape: (690, 46)\n",
      "Computing at level 4 with scalars shape: (147, 89)\n",
      "CPU times: user 353 ms, sys: 297 ms, total: 650 ms\n",
      "Wall time: 170 ms\n"
     ]
    }
   ],
   "source": [
    "%%time\n",
    "\n",
    "distributions = Distributions(sampled_df)\n",
    "distributions()"
   ]
  },
  {
   "cell_type": "code",
   "execution_count": 14,
   "metadata": {},
   "outputs": [
    {
     "name": "stdout",
     "output_type": "stream",
     "text": [
      "Saved level 1 distance matrix to 'level_1_distance_matrix.npz'\n"
     ]
    }
   ],
   "source": [
    "type(distributions.distance_graphs[1])\n",
    "import scipy.sparse\n",
    "\n",
    "# Save the csr_matrix of the distance graph for level 1 to a file\n",
    "level_1_csr_matrix = distributions.distance_graphs[1]\n",
    "scipy.sparse.save_npz('level_1_distance_matrix.npz', level_1_csr_matrix)\n",
    "print(\"Saved level 1 distance matrix to 'level_1_distance_matrix.npz'\")\n",
    "\n"
   ]
  },
  {
   "cell_type": "code",
   "execution_count": 5,
   "metadata": {},
   "outputs": [
    {
     "name": "stdout",
     "output_type": "stream",
     "text": [
      "Loaded level 1 distance matrix from 'level_1_distance_matrix.npz'\n"
     ]
    }
   ],
   "source": [
    "import scipy.sparse\n",
    "import numpy as np\n",
    "\n",
    "# Load the csr_matrix of the distance graph for level 1 from a file\n",
    "loaded_level_1_csr_matrix = scipy.sparse.load_npz('data/final/level_1_distance_matrix.npz')\n",
    "print(\"Loaded level 1 distance matrix from 'level_1_distance_matrix.npz'\")\n",
    "\n",
    "# # Check if the loaded matrix matches the saved matrix\n",
    "# original_level_1_csr_matrix = distributions.distance_graphs[1]\n",
    "# if (loaded_level_1_csr_matrix != original_level_1_csr_matrix).nnz == 0:\n",
    "#     print(\"The loaded matrix matches the saved matrix.\")\n",
    "# else:\n",
    "#     print(\"The loaded matrix does not match the saved matrix.\")\n",
    "\n"
   ]
  },
  {
   "cell_type": "code",
   "execution_count": 6,
   "metadata": {},
   "outputs": [
    {
     "data": {
      "text/plain": [
       "(array([   0,    0,    0, ..., 1335, 1335, 1335], dtype=int32),\n",
       " array([   1,    2,    3, ..., 1332, 1333, 1334], dtype=int32))"
      ]
     },
     "execution_count": 6,
     "metadata": {},
     "output_type": "execute_result"
    }
   ],
   "source": [
    "loaded_level_1_csr_matrix.nonzero()"
   ]
  }
 ],
 "metadata": {
  "kernelspec": {
   "display_name": "Python 3 (ipykernel)",
   "language": "python",
   "name": "python3"
  }
 },
 "nbformat": 4,
 "nbformat_minor": 2
}
